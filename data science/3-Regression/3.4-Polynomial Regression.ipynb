{
 "cells": [
  {
   "cell_type": "markdown",
   "metadata": {
    "deletable": true,
    "editable": true
   },
   "source": [
    "# <font color='darkblue'>POLYNOMIAL REGRESSION</font>\n",
    "\n",
    "## <b>1.0 General explanation about <font color='darkblue'>Polynomial Regression</font> </b>\n",
    "\n",
    "<font size =3>Regression is the using of the relationship between variables to find best fit line or best equation. Best fit line is used to get the most accurate data which from there, we can make the best prediction. Polynomial regression is used for <b> variables that don't make a linear relationship, or there are many dependent variables. </b>\n",
    "<br><br> Examples of regression in daily life are <b> to investigate the relationship between amount of gas filled and the distance covered</b>, and <b>to investigate the relationship between amount of hours worked and the monthly pay.</b> </font>\n"
   ]
  },
  {
   "cell_type": "markdown",
   "metadata": {
    "deletable": true,
    "editable": true
   },
   "source": [
    "![alt text](https://cdn-images-1.medium.com/max/1200/1*Cat1swI8xmNYui6w5AYp8A.gif)\n",
    "## $$ Y = a_1X_1 + a_2X_2 + … + a_mX_m + b (randomError) $$\n"
   ]
  },
  {
   "cell_type": "markdown",
   "metadata": {
    "deletable": true,
    "editable": true
   },
   "source": [
    "## 1.1 Further explanation with video"
   ]
  },
  {
   "cell_type": "code",
   "execution_count": 1,
   "metadata": {
    "collapsed": false,
    "deletable": true,
    "editable": true
   },
   "outputs": [
    {
     "data": {
      "text/html": [
       "<iframe width=\"900\" height=\"500\" src=\"https://www.youtube.com/embed/Qnt2vBRW8Io\" frameborder=\"0\" allow=\"accelerometer; autoplay; encrypted-media; gyroscope; picture-in-picture\" allowfullscreen></iframe>\n"
      ],
      "text/plain": [
       "<IPython.core.display.HTML object>"
      ]
     },
     "metadata": {},
     "output_type": "display_data"
    }
   ],
   "source": [
    "%%HTML\n",
    "<iframe width=\"900\" height=\"500\" src=\"https://www.youtube.com/embed/Qnt2vBRW8Io\" frameborder=\"0\" allow=\"accelerometer; autoplay; encrypted-media; gyroscope; picture-in-picture\" allowfullscreen></iframe>"
   ]
  },
  {
   "cell_type": "markdown",
   "metadata": {
    "deletable": true,
    "editable": true
   },
   "source": [
    "## <b>2.0 Method used to calculate <font color='darkblue'>Polynomial Regression</font> line.</b> "
   ]
  },
  {
   "cell_type": "markdown",
   "metadata": {
    "deletable": true,
    "editable": true
   },
   "source": [
    "- <font size =4 >For polynomial regression, it is also the same as linear regression. We can use the <font color='orange'><b>least square method</b></font> where we find the best equation with the least amount of error, but with different approach. <br><br> \n",
    "\n",
    "- This is because it <font color='green'><b>depends on the order of the equation.</b></font> \n",
    "<br><br>\n",
    "\n",
    "- We are going to use <font color='darkblue'><b>matrix approach</b></font> to solve the regression. This matrix approach can also be used for linear regression.\n",
    "<br><br>\n",
    "\n",
    "- In this example, we are going to use the 2nd order of the equation which is $ y = ax^2 + bx + c $. \n",
    "<br><br>\n",
    "\n",
    "- <font color='dodgerblue'><b>The size of matrix used depends on the number of unknowns.</b></font>\n",
    "<br><br>\n",
    "\n",
    "- For 2nd order, as there are <font color='red'><b>3 unknowns</b> </font> inside the equation, so we need <font color='red'><b>3x3 matrix</b></font>. We also need $x^2$, $x^3$ and $x^4$.\n",
    "<br>\n",
    "\n",
    "- The following matrix will be used for <b>2nd order</b> polynomial. Do take note what is inside the matrix.\n",
    "\n",
    "## $$\\begin{bmatrix}n & \\sum x & \\sum x^2\\\\ \\sum x & \\sum x^2 & \\sum x^3 \\\\ \\sum x^2 & \\sum x^3 & \\sum x^4\\end{bmatrix} * \\begin{bmatrix}c\\\\b\\\\a\\end{bmatrix}= \\begin{bmatrix}\\sum y\\\\\\sum xy\\\\\\sum x^2y\\end{bmatrix}$$ \n",
    "\n",
    "- <font size =4 >So, in order to find the unknown $a, b$ and $c$, you have to keep the matrix $[a,b,c]$ at the front and bring the other matrix after the \"=\" sign. So, it will cause the matrix to be inversed. The equation will be as the following:\n",
    "\n",
    "## $$ \\begin{bmatrix}c\\\\b\\\\a\\end{bmatrix}= \n",
    "\\begin{bmatrix}n & \\sum x & \\sum x^2\\\\ \\sum x & \\sum x^2 & \\sum x^3 \\\\ \\sum x^2 & \\sum x^3 & \\sum x^4\\end{bmatrix}^{-1}*\n",
    "\\begin{bmatrix}\\sum y\\\\\\sum xy\\\\\\sum x^2y\\end{bmatrix}$$ \n",
    "\n",
    "</font>"
   ]
  },
  {
   "cell_type": "markdown",
   "metadata": {
    "deletable": true,
    "editable": true
   },
   "source": [
    "<font size =4> Examples for <b>different orders </b>of polynomial regression: </font>\n",
    "\n",
    "<font size =4 color='dodgerblue'> <b>First order:</b> </font> <font size =4 color='red'>$y= ax + b$</font>\n",
    "\n",
    "## $$\\begin{bmatrix}n & \\sum x & \\\\ \\sum x & \\sum x^2 \\end{bmatrix} * \\begin{bmatrix}b\\\\a\\end{bmatrix}= \\begin{bmatrix}\\sum y\\\\\\sum xy\\end{bmatrix}$$ \n",
    "\n",
    "<font size =4 color='dodgerblue'> <b>Third order:</b> </font> </font> <font size =4 color='red'>$y= ax^3 + bx^2 + cx^2 + d$</font>\n",
    "## $$\\begin{bmatrix}n & \\sum x & \\sum x^2 & \\sum x^3 \\\\ \\sum x & \\sum x^2 & \\sum x^3 & \\sum x^4 \\\\ \\sum x^2 & \\sum x^3 & \\sum x^4 & \\sum x^5 & \\\\ \\sum x^3 & \\sum x^4 & \\sum x^5 & \\sum x^6 \\end{bmatrix} * \\begin{bmatrix}d\\\\c\\\\b\\\\a\\end{bmatrix}= \\begin{bmatrix}\\sum y\\\\\\sum xy\\\\\\sum x^2y\\\\\\sum x^3y\\end{bmatrix}$$ \n"
   ]
  },
  {
   "cell_type": "code",
   "execution_count": null,
   "metadata": {
    "collapsed": true,
    "deletable": true,
    "editable": true
   },
   "outputs": [],
   "source": []
  },
  {
   "cell_type": "markdown",
   "metadata": {
    "deletable": true,
    "editable": true
   },
   "source": [
    "## 3.0 Finding Polynomial Regression equation <font color=\"darkblue\">using Python.</font>"
   ]
  },
  {
   "cell_type": "markdown",
   "metadata": {
    "deletable": true,
    "editable": true
   },
   "source": [
    "## <font color='darkcyan'>STEP 1:</font>\n",
    "\n",
    "<font size =4 >Input your data inside lists, one for $x$ and another one for $y$. Find the value of $x^2$, $x^3$, $x^4$ and also put them inside a list so that it is easier to handle. You also have to find the value of  $\\sum x$, $\\sum x^2$, $\\sum x^3$, $\\sum x^4$."
   ]
  },
  {
   "cell_type": "code",
   "execution_count": 2,
   "metadata": {
    "collapsed": false,
    "deletable": true,
    "editable": true
   },
   "outputs": [
    {
     "name": "stdout",
     "output_type": "stream",
     "text": [
      "n: 12\n",
      "x: [2, 3, 4, 4.5, 5, 6, 6.5, 8, 8.5, 9, 9.5, 10]\n",
      "sum of x: 76.0\n",
      "\n",
      "\n",
      "x2: [4, 9, 16, 20.25, 25, 36, 42.25, 64, 72.25, 81, 90.25, 100]\n",
      "sum of x2: 560.0\n",
      "\n",
      "\n",
      "x3: [8, 27, 64, 91.125, 125, 216, 274.625, 512, 614.125, 729, 857.375, 1000]\n",
      "sum of x3: 4518.25\n",
      "\n",
      "\n",
      "x4: [16, 81, 256, 410.0625, 625, 1296, 1785.0625, 4096, 5220.0625, 6561, 8145.0625, 10000]\n",
      "sum of x4: 38491.25\n",
      "\n",
      "\n"
     ]
    }
   ],
   "source": [
    "x= [2,3,4,4.5,5,6,6.5,8,8.5,9,9.5,10]   \n",
    "y= [44,50,60,54,65,73,81,89,84,90,103,120]   # store the data x & y inside lists\n",
    "\n",
    "n= len(x)   # find the sample size by using length of list\n",
    "\n",
    "x2= []\n",
    "x3= []\n",
    "x4= []\n",
    "x2y= []   # initialize empty lists for x^2, x^3, x^4, x*y and x^2*y\n",
    "xy= []\n",
    "\n",
    "nx= 0\n",
    "nx2= 0\n",
    "nx3= 0\n",
    "nx4= 0\n",
    "\n",
    "ny= 0\n",
    "nxy= 0\n",
    "nx2y= 0   # initialize sum of x, y, x^2, x^3, x^4, x*y, and x^2*y\n",
    "\n",
    "print(\"n: \"+str(n))\n",
    "print(\"x: \"+ str(x))\n",
    "for i in x:\n",
    "    nx += i\n",
    "print(\"sum of x: \"+ str(nx))\n",
    "print(\"\\n\")\n",
    "\n",
    "for i in x:\n",
    "    a= i**2        # calculate x power of 2\n",
    "    x2.append(a)   # append each value of x^2 into the list\n",
    "    nx2 += a\n",
    "print(\"x2: \"+ str(x2))\n",
    "print(\"sum of x2: \"+ str(nx2))\n",
    "print(\"\\n\")\n",
    "\n",
    "for j in x:\n",
    "    a= j**3        # calculate x power of 3\n",
    "    x3.append(a)   # append each value of x^3 into the list\n",
    "    nx3 += a       # calculate sum of x^3\n",
    "print(\"x3: \"+ str(x3))\n",
    "print(\"sum of x3: \"+ str(nx3))\n",
    "print(\"\\n\")\n",
    "\n",
    "for k in x:\n",
    "    a= k**4        # calculate x power of 4\n",
    "    x4.append(a)   # append each value of x^4 into the list\n",
    "    nx4 += a       # calculate sum of x^4\n",
    "print(\"x4: \"+ str(x4))\n",
    "print(\"sum of x4: \"+ str(nx4))\n",
    "print(\"\\n\")"
   ]
  },
  {
   "cell_type": "markdown",
   "metadata": {
    "deletable": true,
    "editable": true
   },
   "source": [
    "## <font color='darkcyan'>STEP 2:</font>\n",
    "\n",
    "<font size =4 >Find the value of $xy$, and $x^2y$ and also put them inside a list. You also have to find the value of $\\sum xy$, and $\\sum x^2y$. Use array and loop to get the sum of data.<br>"
   ]
  },
  {
   "cell_type": "code",
   "execution_count": 3,
   "metadata": {
    "collapsed": false,
    "deletable": true,
    "editable": true
   },
   "outputs": [
    {
     "name": "stdout",
     "output_type": "stream",
     "text": [
      "y: [44, 50, 60, 54, 65, 73, 81, 89, 84, 90, 103, 120]\n",
      "sum of y: 913\n",
      "\n",
      "\n",
      "xy: [88, 150, 240, 243.0, 325, 438, 526.5, 712, 714.0, 810, 978.5, 1200]\n",
      "sum of xy: 6425.0\n",
      "\n",
      "\n",
      "x2y: [176, 450, 960, 1093.5, 1625, 2628, 3422.25, 5696, 6069.0, 7290, 9295.75, 12000]\n",
      "sum of x2y: 50705.5\n"
     ]
    }
   ],
   "source": [
    "print(\"y: \"+ str(y))\n",
    "for i in y:\n",
    "    ny += i        # calculate sum of y\n",
    "print(\"sum of y: \"+ str(ny))\n",
    "print(\"\\n\")\n",
    "\n",
    "for m in range(len(x)):\n",
    "    ab = x[m] * y[m]   # calculate x*y\n",
    "    xy.append(ab)      # append each value of x*y into the list\n",
    "    nxy += ab          # calculate sum of x*y\n",
    "print(\"xy: \"+ str(xy))\n",
    "print(\"sum of xy: \"+ str(nxy))\n",
    "print(\"\\n\")\n",
    "\n",
    "for m in range(len(x2)):\n",
    "    a2b = x2[m] * y[m]   # calculate x^2*y\n",
    "    x2y.append(a2b)      # append each value of x^2*y into the list\n",
    "    nx2y += a2b          # calculate sum of x^2*y\n",
    "print(\"x2y: \"+ str(x2y))\n",
    "print(\"sum of x2y: \"+ str(nx2y))"
   ]
  },
  {
   "cell_type": "markdown",
   "metadata": {
    "deletable": true,
    "editable": true
   },
   "source": [
    "## <font color='darkcyan'>STEP 3:</font>\n",
    "\n",
    "## $$\\begin{bmatrix}n & \\sum x & \\sum x^2\\\\ \\sum x & \\sum x^2 & \\sum x^3 \\\\ \\sum x^2 & \\sum x^3 & \\sum x^4\\end{bmatrix} * \\begin{bmatrix}c\\\\b\\\\a\\end{bmatrix}= \\begin{bmatrix}\\sum y\\\\\\sum xy\\\\\\sum x^2y\\end{bmatrix}$$ \n",
    "\n",
    "<font size =4 >Using the following figure as reference, insert the following data into the matrix. Use <font color='magenta'><b>array()</b></font> function from numpy to transform the data into matrix. Note that you have 2 matrices here. The unknown matrix for $a$, $b$, and $c$ will be calculated later. Do remember to import numpy since we want to use it.<br>"
   ]
  },
  {
   "cell_type": "code",
   "execution_count": 5,
   "metadata": {
    "collapsed": false,
    "deletable": true,
    "editable": true
   },
   "outputs": [
    {
     "name": "stdout",
     "output_type": "stream",
     "text": [
      "matrix 1: \n",
      "[[1.200000e+01 7.600000e+01 5.600000e+02]\n",
      " [7.600000e+01 5.600000e+02 4.518250e+03]\n",
      " [5.600000e+02 4.518250e+03 3.849125e+04]]\n",
      "\n",
      "\n",
      "matrix 2:\n",
      "[  913.   6425.  50705.5]\n",
      "\n",
      "\n"
     ]
    }
   ],
   "source": [
    "import numpy as np\n",
    "\n",
    "m1=np.array([[n,nx,nx2], [nx,nx2,nx3], [nx2,nx3,nx4]])   # insert data into matrix 1\n",
    "print(\"matrix 1: \")\n",
    "print(m1)\n",
    "print(\"\\n\")\n",
    "\n",
    "m2=np.array([ny,nxy,nx2y])   # insert data into matrix 2\n",
    "print(\"matrix 2:\")\n",
    "print(m2)\n",
    "print(\"\\n\")"
   ]
  },
  {
   "cell_type": "markdown",
   "metadata": {
    "deletable": true,
    "editable": true
   },
   "source": [
    "## <font color='darkcyan'>STEP 4:</font>\n",
    "\n",
    "<font size =4 >Solve the following matrix multiplication to find the values of unknown $a$, $b$ and $c$. Note that to solve the matrix, you need to use inverse matrix and multiply the matrix correctly. Below shows how you inverse the matrix multiplication calculation.<br>\n",
    "\n",
    "## $$ \\begin{bmatrix}c\\\\b\\\\a\\end{bmatrix}= \n",
    "\\begin{bmatrix}n & \\sum x & \\sum x^2\\\\ \\sum x & \\sum x^2 & \\sum x^3 \\\\ \\sum x^2 & \\sum x^3 & \\sum x^4\\end{bmatrix}^{-1}*\n",
    "\\begin{bmatrix}\\sum y\\\\\\sum xy\\\\\\sum x^2y\\end{bmatrix}$$ \n",
    "\n",
    "<font size =4 ><b>Use function: </b>\n",
    "<font size =4 ><br>- <font color='magenta'><b>linalg.inv(matrix)</b></font> from numpy to inverse the function\n",
    "<font size =4 ><br>- <font color='magenta'><b>matmul(matrix1,matrix2)</b></font> from numpy to calculate the matrix multiplication\n"
   ]
  },
  {
   "cell_type": "code",
   "execution_count": 6,
   "metadata": {
    "collapsed": false,
    "deletable": true,
    "editable": true
   },
   "outputs": [
    {
     "name": "stdout",
     "output_type": "stream",
     "text": [
      "inverse of matrix 1:\n",
      "[[ 3.37248204e+00 -1.16834586e+00  8.80794658e-02]\n",
      " [-1.16834586e+00  4.38504864e-01 -3.44753917e-02]\n",
      " [ 8.80794658e-02 -3.44753917e-02  2.79138603e-03]]\n",
      "\n",
      "\n",
      "[38.56730763  2.60200794  0.45078519]\n"
     ]
    }
   ],
   "source": [
    "m1inv = np.linalg.inv(m1)   # inverse the matrix 1 \n",
    "print(\"inverse of matrix 1:\")\n",
    "print(m1inv)\n",
    "print(\"\\n\")\n",
    "\n",
    "ans= np.matmul(m1inv, m2)   # multiply inverse of m1 with matrix 2 \n",
    "print(ans)\n",
    "\n",
    "C= ans[0]\n",
    "B= ans[1]\n",
    "A= ans[2]"
   ]
  },
  {
   "cell_type": "markdown",
   "metadata": {
    "deletable": true,
    "editable": true
   },
   "source": [
    "## <font color='darkcyan'>STEP 5:</font>\n",
    "\n",
    "<font size =4> Generate the value of $y$ for the regression line with the equation by substituting the unknown $a$, $b$, and $c$ with the values found. Note that you have to find the value of $y$ for each $x$ inside the table. Then, store the $y$ value inside a list.<br>"
   ]
  },
  {
   "cell_type": "code",
   "execution_count": 7,
   "metadata": {
    "collapsed": false,
    "deletable": true,
    "editable": true
   },
   "outputs": [
    {
     "name": "stdout",
     "output_type": "stream",
     "text": [
      "[2, 3, 4, 4.5, 5, 6, 6.5, 8, 8.5, 9, 9.5, 10]\n",
      "[45.57446425125761, 50.43039812734443, 56.187902379846946, 59.40474339725409, 62.84697700876515, 70.40762201409905, 74.52603340792189, 88.23362315401391, 93.25360492425244, 98.49897928859488, 103.96974624704126, 109.66590579959154]\n"
     ]
    }
   ],
   "source": [
    "Y= []\n",
    "print(x)\n",
    "for i in range(len(x)):\n",
    "    y0= C + (B)*x[i] + (A)*(x[i]**2)\n",
    "    Y.append(y0)\n",
    "print(Y)"
   ]
  },
  {
   "cell_type": "markdown",
   "metadata": {
    "deletable": true,
    "editable": true
   },
   "source": [
    "## <font color='darkcyan'>STEP 6:</font>\n",
    "\n",
    "<font size =4> Plot the graph. Use <font color='magenta'><b>scatter()</b></font> function from matplotlib first to plot the scattered data along the graph using the initial data of $x$ and $y$. Then use <font color='magenta'><b>plot()</b></font> function to plot the regression line by using the $x$ value and the new value of $y$ calculated before. Do remember to import matplotlib.pyplot first as we want to use its functions for plotting.\n"
   ]
  },
  {
   "cell_type": "code",
   "execution_count": 11,
   "metadata": {
    "collapsed": false,
    "deletable": true,
    "editable": true
   },
   "outputs": [
    {
     "data": {
      "text/plain": [
       "[<matplotlib.lines.Line2D at 0x1d3687ffb70>]"
      ]
     },
     "execution_count": 11,
     "metadata": {},
     "output_type": "execute_result"
    },
    {
     "data": {
      "image/png": "[encoded data removed]",
      "text/plain": [
       "<Figure size 432x288 with 1 Axes>"
      ]
     },
     "metadata": {
      "needs_background": "light"
     },
     "output_type": "display_data"
    }
   ],
   "source": [
    "import matplotlib.pyplot as plt\n",
    "\n",
    "plt.xlabel(\"X\")\n",
    "plt.ylabel(\"Y\")\n",
    "plt.title(\"Polynomial Regression\")\n",
    "\n",
    "plt.scatter(x,y)\n",
    "\n",
    "plt.plot(x, Y, c=\"r\")"
   ]
  },
  {
   "cell_type": "markdown",
   "metadata": {
    "deletable": true,
    "editable": true
   },
   "source": [
    "## 3.1 <font color=\"darkblue\">Using Python libraries</font> to Construct Polynomial Regression Equation and Line"
   ]
  },
  {
   "cell_type": "markdown",
   "metadata": {
    "deletable": true,
    "editable": true
   },
   "source": [
    "## <font color='darkorchid'>STEP 1:</font>\n",
    "<font size =4> Import some python libraries  and functions for the polynomial regression line. They are:<b> numpy, matplotlib.pyplot, PolynomialFeatures from sklearn.preprocessing, and LinearRegression from sklearn.linear_model. </b></font>"
   ]
  },
  {
   "cell_type": "code",
   "execution_count": 13,
   "metadata": {
    "collapsed": true,
    "deletable": true,
    "editable": true
   },
   "outputs": [],
   "source": [
    "import numpy as np\n",
    "import matplotlib.pyplot as plt\n",
    "from sklearn.preprocessing import PolynomialFeatures\n",
    "from sklearn.linear_model import LinearRegression"
   ]
  },
  {
   "cell_type": "markdown",
   "metadata": {
    "deletable": true,
    "editable": true
   },
   "source": [
    "## <font color='darkorchid'>STEP 2:</font>\n",
    "\n",
    "<font size =4> Store your $x$ and $y$ value into lists. In this case, we are going to generate random values of $y$ based on the $x$ values."
   ]
  },
  {
   "cell_type": "code",
   "execution_count": 14,
   "metadata": {
    "collapsed": false,
    "deletable": true,
    "editable": true
   },
   "outputs": [
    {
     "name": "stdout",
     "output_type": "stream",
     "text": [
      "x: [-3.29215704  0.79952837 -0.93621395 -4.7226796  -3.60267397  4.93183364\n",
      " -0.85026525  2.45407162  2.30965656  0.76820449  1.56786929 -2.36282052\n",
      " -0.28311318  1.63497495  0.6684103   0.99897702 -2.48223722  2.61547479\n",
      "  1.0607969   4.56228722]\n",
      "y: [ -53.46841187   -1.26255958   -3.50619264 -107.22320039  -49.13195018\n",
      "    8.90122353   -5.46624176   -5.76263165   -0.60058568    1.2226779\n",
      "   -3.95663744  -21.98989452   -6.11812275  -10.46843964   -4.11955719\n",
      "   -3.02941914  -21.76152272   -1.51295226   -4.75491157    6.50723268]\n"
     ]
    }
   ],
   "source": [
    "np.random.seed(0)\n",
    "x = 2 - 3 * np.random.normal(0, 1, 20)   # generate x value\n",
    "y = x - 2 * (x ** 2) + 0.5 * (x ** 3) + np.random.normal(-3, 3, 20)\n",
    "\n",
    "x=np.array(x)\n",
    "y=np.array(y)   # Initialize them as array so that can be used with other functions\n",
    "\n",
    "print(\"x: \"+str(x))\n",
    "print(\"y: \"+str(y))"
   ]
  },
  {
   "cell_type": "markdown",
   "metadata": {
    "deletable": true,
    "editable": true
   },
   "source": [
    "## <font color='darkorchid'>STEP 3:</font>\n",
    "\n",
    "<font size =4> Use <b>newaxis</b> function from numpy to transform data into column vector by inserting new axis."
   ]
  },
  {
   "cell_type": "code",
   "execution_count": 15,
   "metadata": {
    "collapsed": true,
    "deletable": true,
    "editable": true
   },
   "outputs": [],
   "source": [
    "x = x[:, np.newaxis]\n",
    "y = y[:, np.newaxis]   \n"
   ]
  },
  {
   "cell_type": "markdown",
   "metadata": {
    "deletable": true,
    "editable": true
   },
   "source": [
    "## <font color='darkorchid'>STEP 4:</font>\n",
    "\n",
    "<font size =4> Introduce <b>PolynomialFeatures with the degree of 2 </b>and then transform the x for polynomial use using the <b>fit_transform(x)</b> function."
   ]
  },
  {
   "cell_type": "code",
   "execution_count": 16,
   "metadata": {
    "collapsed": true,
    "deletable": true,
    "editable": true
   },
   "outputs": [],
   "source": [
    "poly_features = PolynomialFeatures(degree = 2)   # introduce polynomial regression, eg is degree = 2 (depends on the data and the equation )\n",
    "x_poly = poly_features.fit_transform(x)   #   transform x for polynomial use"
   ]
  },
  {
   "cell_type": "markdown",
   "metadata": {
    "deletable": true,
    "editable": true
   },
   "source": [
    "## <font color='darkorchid'>STEP 5:</font>\n",
    "\n",
    "<font size =4> Introduce <b>LinearRegression()</b> function and fit the value of transformed x and y. Use <b>fit()</b> function."
   ]
  },
  {
   "cell_type": "code",
   "execution_count": 17,
   "metadata": {
    "collapsed": false,
    "deletable": true,
    "editable": true
   },
   "outputs": [
    {
     "data": {
      "text/plain": [
       "LinearRegression(copy_X=True, fit_intercept=True, n_jobs=None, normalize=False)"
      ]
     },
     "execution_count": 17,
     "metadata": {},
     "output_type": "execute_result"
    }
   ],
   "source": [
    "poly_model = LinearRegression()   # introduce LinearRegression also as it is the basic of polynomial regression  \n",
    "poly_model.fit(x_poly, y)   # fit the data of x and y"
   ]
  },
  {
   "cell_type": "markdown",
   "metadata": {
    "deletable": true,
    "editable": true
   },
   "source": [
    "## <font color='darkorchid'>STEP 6:</font>\n",
    "\n",
    "<font size =4> Use <b>predict()</b> function to find the value of y for the polynomial regression line. Then, sort the values of x and y for plotting. You can use <b>zip()</b> function."
   ]
  },
  {
   "cell_type": "code",
   "execution_count": 18,
   "metadata": {
    "collapsed": true,
    "deletable": true,
    "editable": true
   },
   "outputs": [],
   "source": [
    "pred = poly_model.predict(x_poly)   # use predict() function to find the values of new y (for the polynomial regression line)\n",
    "new_x, new_y = zip(*sorted(zip(x, pred))) # sort values for plotting"
   ]
  },
  {
   "cell_type": "markdown",
   "metadata": {
    "deletable": true,
    "editable": true
   },
   "source": [
    "## <font color='darkorchid'>STEP 7:</font>\n",
    "\n",
    "<font size =4> Use <b>scatter()</b> function to plot the scattered data. Then, use <b>plot()</b> function to plot the new polynomial regression line using the new generated value of x and y."
   ]
  },
  {
   "cell_type": "code",
   "execution_count": 19,
   "metadata": {
    "collapsed": false,
    "deletable": true,
    "editable": true
   },
   "outputs": [
    {
     "data": {
      "text/plain": [
       "Text(0.5, 1.0, 'Polynomial Degree = 2')"
      ]
     },
     "execution_count": 19,
     "metadata": {},
     "output_type": "execute_result"
    },
    {
     "data": {
      "image/png": "[encoded data removed]",
      "text/plain": [
       "<Figure size 432x288 with 1 Axes>"
      ]
     },
     "metadata": {
      "needs_background": "light"
     },
     "output_type": "display_data"
    }
   ],
   "source": [
    "plt.plot(new_x, new_y)\n",
    "plt.scatter(x,y)\n",
    "\n",
    "plt.xlabel(\"X\")\n",
    "plt.ylabel(\"Y\")\n",
    "plt.title(\"Polynomial Degree = 2\")"
   ]
  },
  {
   "cell_type": "markdown",
   "metadata": {
    "deletable": true,
    "editable": true
   },
   "source": [
    "## 4.0 <font color=\"darkblue\">Questions</font> about Polynomial Regression\n",
    "## <font color='forestgreen'>Part 1: Polynomial Regression with normal calculation.</font>\n",
    "\n",
    "<font size = 4>Table 1 below shows the horizontal distance (feet) travelled by a baseball hit at various angles (degrees)."
   ]
  },
  {
   "cell_type": "code",
   "execution_count": 1,
   "metadata": {
    "collapsed": false,
    "deletable": true,
    "editable": true
   },
   "outputs": [
    {
     "data": {
      "text/html": [
       "<style  type=\"text/css\" >\n",
       "    #T_1d0244b4_9239_11e9_a5fe_80a5898a2454row0_col0 {\n",
       "            text-align:  center;\n",
       "        }    #T_1d0244b4_9239_11e9_a5fe_80a5898a2454row0_col1 {\n",
       "            text-align:  center;\n",
       "        }    #T_1d0244b4_9239_11e9_a5fe_80a5898a2454row1_col0 {\n",
       "            text-align:  center;\n",
       "        }    #T_1d0244b4_9239_11e9_a5fe_80a5898a2454row1_col1 {\n",
       "            text-align:  center;\n",
       "        }    #T_1d0244b4_9239_11e9_a5fe_80a5898a2454row2_col0 {\n",
       "            text-align:  center;\n",
       "        }    #T_1d0244b4_9239_11e9_a5fe_80a5898a2454row2_col1 {\n",
       "            text-align:  center;\n",
       "        }    #T_1d0244b4_9239_11e9_a5fe_80a5898a2454row3_col0 {\n",
       "            text-align:  center;\n",
       "        }    #T_1d0244b4_9239_11e9_a5fe_80a5898a2454row3_col1 {\n",
       "            text-align:  center;\n",
       "        }    #T_1d0244b4_9239_11e9_a5fe_80a5898a2454row4_col0 {\n",
       "            text-align:  center;\n",
       "        }    #T_1d0244b4_9239_11e9_a5fe_80a5898a2454row4_col1 {\n",
       "            text-align:  center;\n",
       "        }    #T_1d0244b4_9239_11e9_a5fe_80a5898a2454row5_col0 {\n",
       "            text-align:  center;\n",
       "        }    #T_1d0244b4_9239_11e9_a5fe_80a5898a2454row5_col1 {\n",
       "            text-align:  center;\n",
       "        }    #T_1d0244b4_9239_11e9_a5fe_80a5898a2454row6_col0 {\n",
       "            text-align:  center;\n",
       "        }    #T_1d0244b4_9239_11e9_a5fe_80a5898a2454row6_col1 {\n",
       "            text-align:  center;\n",
       "        }    #T_1d0244b4_9239_11e9_a5fe_80a5898a2454row7_col0 {\n",
       "            text-align:  center;\n",
       "        }    #T_1d0244b4_9239_11e9_a5fe_80a5898a2454row7_col1 {\n",
       "            text-align:  center;\n",
       "        }    #T_1d0244b4_9239_11e9_a5fe_80a5898a2454row8_col0 {\n",
       "            text-align:  center;\n",
       "        }    #T_1d0244b4_9239_11e9_a5fe_80a5898a2454row8_col1 {\n",
       "            text-align:  center;\n",
       "        }    #T_1d0244b4_9239_11e9_a5fe_80a5898a2454row9_col0 {\n",
       "            text-align:  center;\n",
       "        }    #T_1d0244b4_9239_11e9_a5fe_80a5898a2454row9_col1 {\n",
       "            text-align:  center;\n",
       "        }    #T_1d0244b4_9239_11e9_a5fe_80a5898a2454row10_col0 {\n",
       "            text-align:  center;\n",
       "        }    #T_1d0244b4_9239_11e9_a5fe_80a5898a2454row10_col1 {\n",
       "            text-align:  center;\n",
       "        }    #T_1d0244b4_9239_11e9_a5fe_80a5898a2454row11_col0 {\n",
       "            text-align:  center;\n",
       "        }    #T_1d0244b4_9239_11e9_a5fe_80a5898a2454row11_col1 {\n",
       "            text-align:  center;\n",
       "        }    #T_1d0244b4_9239_11e9_a5fe_80a5898a2454row12_col0 {\n",
       "            text-align:  center;\n",
       "        }    #T_1d0244b4_9239_11e9_a5fe_80a5898a2454row12_col1 {\n",
       "            text-align:  center;\n",
       "        }</style><table id=\"T_1d0244b4_9239_11e9_a5fe_80a5898a2454\" ><thead>    <tr>        <th class=\"blank level0\" ></th>        <th class=\"col_heading level0 col0\" >Angle, degrees (x)</th>        <th class=\"col_heading level0 col1\" >Distance, feet (y)</th>    </tr></thead><tbody>\n",
       "                <tr>\n",
       "                        <th id=\"T_1d0244b4_9239_11e9_a5fe_80a5898a2454level0_row0\" class=\"row_heading level0 row0\" >0</th>\n",
       "                        <td id=\"T_1d0244b4_9239_11e9_a5fe_80a5898a2454row0_col0\" class=\"data row0 col0\" >10</td>\n",
       "                        <td id=\"T_1d0244b4_9239_11e9_a5fe_80a5898a2454row0_col1\" class=\"data row0 col1\" >115.6</td>\n",
       "            </tr>\n",
       "            <tr>\n",
       "                        <th id=\"T_1d0244b4_9239_11e9_a5fe_80a5898a2454level0_row1\" class=\"row_heading level0 row1\" >1</th>\n",
       "                        <td id=\"T_1d0244b4_9239_11e9_a5fe_80a5898a2454row1_col0\" class=\"data row1 col0\" >15</td>\n",
       "                        <td id=\"T_1d0244b4_9239_11e9_a5fe_80a5898a2454row1_col1\" class=\"data row1 col1\" >157.2</td>\n",
       "            </tr>\n",
       "            <tr>\n",
       "                        <th id=\"T_1d0244b4_9239_11e9_a5fe_80a5898a2454level0_row2\" class=\"row_heading level0 row2\" >2</th>\n",
       "                        <td id=\"T_1d0244b4_9239_11e9_a5fe_80a5898a2454row2_col0\" class=\"data row2 col0\" >20</td>\n",
       "                        <td id=\"T_1d0244b4_9239_11e9_a5fe_80a5898a2454row2_col1\" class=\"data row2 col1\" >189.2</td>\n",
       "            </tr>\n",
       "            <tr>\n",
       "                        <th id=\"T_1d0244b4_9239_11e9_a5fe_80a5898a2454level0_row3\" class=\"row_heading level0 row3\" >3</th>\n",
       "                        <td id=\"T_1d0244b4_9239_11e9_a5fe_80a5898a2454row3_col0\" class=\"data row3 col0\" >24</td>\n",
       "                        <td id=\"T_1d0244b4_9239_11e9_a5fe_80a5898a2454row3_col1\" class=\"data row3 col1\" >220.8</td>\n",
       "            </tr>\n",
       "            <tr>\n",
       "                        <th id=\"T_1d0244b4_9239_11e9_a5fe_80a5898a2454level0_row4\" class=\"row_heading level0 row4\" >4</th>\n",
       "                        <td id=\"T_1d0244b4_9239_11e9_a5fe_80a5898a2454row4_col0\" class=\"data row4 col0\" >30</td>\n",
       "                        <td id=\"T_1d0244b4_9239_11e9_a5fe_80a5898a2454row4_col1\" class=\"data row4 col1\" >253.8</td>\n",
       "            </tr>\n",
       "            <tr>\n",
       "                        <th id=\"T_1d0244b4_9239_11e9_a5fe_80a5898a2454level0_row5\" class=\"row_heading level0 row5\" >5</th>\n",
       "                        <td id=\"T_1d0244b4_9239_11e9_a5fe_80a5898a2454row5_col0\" class=\"data row5 col0\" >34</td>\n",
       "                        <td id=\"T_1d0244b4_9239_11e9_a5fe_80a5898a2454row5_col1\" class=\"data row5 col1\" >269.2</td>\n",
       "            </tr>\n",
       "            <tr>\n",
       "                        <th id=\"T_1d0244b4_9239_11e9_a5fe_80a5898a2454level0_row6\" class=\"row_heading level0 row6\" >6</th>\n",
       "                        <td id=\"T_1d0244b4_9239_11e9_a5fe_80a5898a2454row6_col0\" class=\"data row6 col0\" >40</td>\n",
       "                        <td id=\"T_1d0244b4_9239_11e9_a5fe_80a5898a2454row6_col1\" class=\"data row6 col1\" >284.8</td>\n",
       "            </tr>\n",
       "            <tr>\n",
       "                        <th id=\"T_1d0244b4_9239_11e9_a5fe_80a5898a2454level0_row7\" class=\"row_heading level0 row7\" >7</th>\n",
       "                        <td id=\"T_1d0244b4_9239_11e9_a5fe_80a5898a2454row7_col0\" class=\"data row7 col0\" >45</td>\n",
       "                        <td id=\"T_1d0244b4_9239_11e9_a5fe_80a5898a2454row7_col1\" class=\"data row7 col1\" >285</td>\n",
       "            </tr>\n",
       "            <tr>\n",
       "                        <th id=\"T_1d0244b4_9239_11e9_a5fe_80a5898a2454level0_row8\" class=\"row_heading level0 row8\" >8</th>\n",
       "                        <td id=\"T_1d0244b4_9239_11e9_a5fe_80a5898a2454row8_col0\" class=\"data row8 col0\" >48</td>\n",
       "                        <td id=\"T_1d0244b4_9239_11e9_a5fe_80a5898a2454row8_col1\" class=\"data row8 col1\" >277.4</td>\n",
       "            </tr>\n",
       "            <tr>\n",
       "                        <th id=\"T_1d0244b4_9239_11e9_a5fe_80a5898a2454level0_row9\" class=\"row_heading level0 row9\" >9</th>\n",
       "                        <td id=\"T_1d0244b4_9239_11e9_a5fe_80a5898a2454row9_col0\" class=\"data row9 col0\" >50</td>\n",
       "                        <td id=\"T_1d0244b4_9239_11e9_a5fe_80a5898a2454row9_col1\" class=\"data row9 col1\" >269.2</td>\n",
       "            </tr>\n",
       "            <tr>\n",
       "                        <th id=\"T_1d0244b4_9239_11e9_a5fe_80a5898a2454level0_row10\" class=\"row_heading level0 row10\" >10</th>\n",
       "                        <td id=\"T_1d0244b4_9239_11e9_a5fe_80a5898a2454row10_col0\" class=\"data row10 col0\" >58</td>\n",
       "                        <td id=\"T_1d0244b4_9239_11e9_a5fe_80a5898a2454row10_col1\" class=\"data row10 col1\" >244.2</td>\n",
       "            </tr>\n",
       "            <tr>\n",
       "                        <th id=\"T_1d0244b4_9239_11e9_a5fe_80a5898a2454level0_row11\" class=\"row_heading level0 row11\" >11</th>\n",
       "                        <td id=\"T_1d0244b4_9239_11e9_a5fe_80a5898a2454row11_col0\" class=\"data row11 col0\" >60</td>\n",
       "                        <td id=\"T_1d0244b4_9239_11e9_a5fe_80a5898a2454row11_col1\" class=\"data row11 col1\" >231.2</td>\n",
       "            </tr>\n",
       "            <tr>\n",
       "                        <th id=\"T_1d0244b4_9239_11e9_a5fe_80a5898a2454level0_row12\" class=\"row_heading level0 row12\" >12</th>\n",
       "                        <td id=\"T_1d0244b4_9239_11e9_a5fe_80a5898a2454row12_col0\" class=\"data row12 col0\" >64</td>\n",
       "                        <td id=\"T_1d0244b4_9239_11e9_a5fe_80a5898a2454row12_col1\" class=\"data row12 col1\" >180.4</td>\n",
       "            </tr>\n",
       "    </tbody></table>"
      ],
      "text/plain": [
       "<pandas.io.formats.style.Styler at 0x1b6ca7d3080>"
      ]
     },
     "execution_count": 1,
     "metadata": {},
     "output_type": "execute_result"
    }
   ],
   "source": [
    "import pandas as pd\n",
    "\n",
    "a= [10,15,20,24,30,34,40,45,48,50,58,60,64]\n",
    "b= [115.6,157.2,189.2,220.8,253.8,269.2,284.8,285.0,277.4,269.2,244.2,231.2,180.4]\n",
    "\n",
    "df = pd.DataFrame(a, columns = ['Angle, degrees (x)']); df['Distance, feet (y)'] = b\n",
    "df.style.set_properties(**{'text-align':'center'})"
   ]
  },
  {
   "cell_type": "markdown",
   "metadata": {
    "deletable": true,
    "editable": true
   },
   "source": [
    "## Question 1:\n",
    "<font size =4 >Store the value of $x$ and $y$ into lists. One for x and another one for y."
   ]
  },
  {
   "cell_type": "code",
   "execution_count": 17,
   "metadata": {
    "collapsed": false,
    "deletable": true,
    "editable": true
   },
   "outputs": [
    {
     "name": "stdout",
     "output_type": "stream",
     "text": [
      "n: 13\n",
      "x: [10, 15, 20, 24, 30, 34, 40, 45, 48, 50, 58, 60, 64]\n",
      "sum of x: 498\n",
      "\n",
      "\n",
      "x2: [100, 225, 400, 576, 900, 1156, 1600, 2025, 2304, 2500, 3364, 3600, 4096]\n",
      "sum of x2: 22846\n",
      "\n",
      "\n",
      "x3: [1000, 3375, 8000, 13824, 27000, 39304, 64000, 91125, 110592, 125000, 195112, 216000, 262144]\n",
      "sum of x3: 1156476\n",
      "\n",
      "\n",
      "x4: [10000, 50625, 160000, 331776, 810000, 1336336, 2560000, 4100625, 5308416, 6250000, 11316496, 12960000, 16777216]\n",
      "sum of x4: 61971490\n",
      "\n",
      "\n"
     ]
    }
   ],
   "source": [
    "x= [10,15,20,24,30,34,40,45,48,50,58,60,64]\n",
    "y= [115.6,157.2,189.2,220.8,253.8,269.2,284.8,285.0,277.4,269.2,244.2,231.2,180.4]   # store the data x & y inside lists\n",
    "\n",
    "n= len(x)   # find the sample size by using length of list\n",
    "\n",
    "x2= []\n",
    "x3= []\n",
    "x4= []\n",
    "x2y= []   # initialize empty lists for x^2, x^3, x^4, x*y and x^2*y\n",
    "xy= []\n",
    "\n",
    "nx= 0\n",
    "nx2= 0\n",
    "nx3= 0\n",
    "nx4= 0\n",
    "\n",
    "ny= 0\n",
    "nxy= 0\n",
    "nx2y= 0   # initialize sum of x, y, x^2, x^3, x^4, x*y, and x^2*y\n",
    "\n",
    "print(\"n: \"+str(n))\n",
    "print(\"x: \"+ str(x))\n",
    "for i in x:\n",
    "    nx += i\n",
    "print(\"sum of x: \"+ str(nx))\n",
    "print(\"\\n\")\n",
    "\n",
    "for i in x:\n",
    "    a= i**2        # calculate x power of 2\n",
    "    x2.append(a)   # append each value of x^2 into the list\n",
    "    nx2 += a\n",
    "print(\"x2: \"+ str(x2))\n",
    "print(\"sum of x2: \"+ str(nx2))\n",
    "print(\"\\n\")\n",
    "\n",
    "for j in x:\n",
    "    a= j**3        # calculate x power of 3\n",
    "    x3.append(a)   # append each value of x^3 into the list\n",
    "    nx3 += a       # calculate sum of x^3\n",
    "print(\"x3: \"+ str(x3))\n",
    "print(\"sum of x3: \"+ str(nx3))\n",
    "print(\"\\n\")\n",
    "\n",
    "for k in x:\n",
    "    a= k**4        # calculate x power of 4\n",
    "    x4.append(a)   # append each value of x^4 into the list\n",
    "    nx4 += a       # calculate sum of x^4\n",
    "print(\"x4: \"+ str(x4))\n",
    "print(\"sum of x4: \"+ str(nx4))\n",
    "print(\"\\n\")"
   ]
  },
  {
   "cell_type": "markdown",
   "metadata": {
    "deletable": true,
    "editable": true
   },
   "source": [
    "## Question 2:\n",
    "<font size =4 >Plot the scattered data. Do remember to import numpy and matplotlib.plyplot and use the scatter() function."
   ]
  },
  {
   "cell_type": "code",
   "execution_count": 18,
   "metadata": {
    "collapsed": false,
    "deletable": true,
    "editable": true
   },
   "outputs": [
    {
     "data": {
      "image/png": "[encoded data removed]",
      "text/plain": [
       "<Figure size 432x288 with 1 Axes>"
      ]
     },
     "metadata": {
      "needs_background": "light"
     },
     "output_type": "display_data"
    }
   ],
   "source": [
    "import numpy as np\n",
    "import matplotlib.pyplot\n",
    "\n",
    "plt.scatter(x,y)\n",
    "plt.show()"
   ]
  },
  {
   "cell_type": "markdown",
   "metadata": {
    "deletable": true,
    "editable": true
   },
   "source": [
    "## Question 3: \n",
    "<font size =4 >Find the value of sample size(n). Then, find the value of $x^2$, $x^3$, and $x^4$. Store the value inside other lists. After that, find the sum of each $x$, $x^2$, $x^3$, and $x^4$. </font> \n",
    "## <font color =\"red\" >Hint: \n",
    "<font size =4 >Use len() function to find the sample size. You can use for loop and lists."
   ]
  },
  {
   "cell_type": "code",
   "execution_count": 19,
   "metadata": {
    "collapsed": false,
    "deletable": true,
    "editable": true
   },
   "outputs": [
    {
     "name": "stdout",
     "output_type": "stream",
     "text": [
      "498\n",
      "22846\n",
      "1156476\n",
      "61971490\n"
     ]
    }
   ],
   "source": [
    "n= len(x)\n",
    "\n",
    "x2= []\n",
    "x3= []\n",
    "x4= []   # initialize empty lists for x^2, x^3, x^4, x*y and x^2*y\n",
    "\n",
    "nx = 0\n",
    "nx2 = 0\n",
    "nx3 = 0\n",
    "nx4 = 0\n",
    "\n",
    "for i in x:\n",
    "    nx = nx + i\n",
    "print(nx)\n",
    "    \n",
    "for i in x:\n",
    "    a = i**2\n",
    "    x2.append(a)\n",
    "    nx2 = nx2 + a\n",
    "print(nx2)\n",
    "\n",
    "for i in x:\n",
    "    a = i**3\n",
    "    x3.append(a)\n",
    "    nx3 = nx3 + a\n",
    "print(nx3)\n",
    "\n",
    "for i in x:\n",
    "    a = i**4\n",
    "    x4.append(a)\n",
    "    nx4 = nx4 + a\n",
    "print(nx4)"
   ]
  },
  {
   "cell_type": "markdown",
   "metadata": {
    "deletable": true,
    "editable": true
   },
   "source": [
    "## Question 4:\n",
    "<font size =4 >Find the value of $xy$, and $x^2y$. Store the value inside other lists. After that, find the sum of each $y$, $xy$, and $x^2y$. </font> \n",
    "## <font color =\"red\">Hint:\n",
    "<font size =4 >You can use for loop and lists."
   ]
  },
  {
   "cell_type": "code",
   "execution_count": 20,
   "metadata": {
    "collapsed": false,
    "deletable": true,
    "editable": true
   },
   "outputs": [
    {
     "name": "stdout",
     "output_type": "stream",
     "text": [
      "2977.9999999999995\n",
      "119937.4\n",
      "5527067.800000001\n"
     ]
    }
   ],
   "source": [
    "xy= []\n",
    "x2y= []   # initialize empty lists for x^2, x^3, x^4, x*y and x^2*y\n",
    "\n",
    "ny = 0\n",
    "nxy = 0\n",
    "nx2y = 0\n",
    "\n",
    "for i in y:\n",
    "    ny = ny + i\n",
    "print(ny)\n",
    "    \n",
    "for m in range(len(x)):\n",
    "    ab = x[m] * y[m]   # calculate x*y\n",
    "    xy.append(ab)      # append each value of x*y into the list\n",
    "    nxy += ab          # calculate sum of x*y\n",
    "print(nxy)\n",
    "\n",
    "for m in range(len(x)):\n",
    "    ab = x2[m] * y[m]   # calculate x*y\n",
    "    x2y.append(ab)      # append each value of x*y into the list\n",
    "    nx2y += ab          # calculate sum of x*y\n",
    "print(nx2y)"
   ]
  },
  {
   "cell_type": "markdown",
   "metadata": {
    "deletable": true,
    "editable": true
   },
   "source": [
    "## Question 5:\n",
    "\n",
    "## $$\\begin{bmatrix}n & \\sum x & \\sum x^2\\\\ \\sum x & \\sum x^2 & \\sum x^3 \\\\ \\sum x^2 & \\sum x^3 & \\sum x^4\\end{bmatrix} * \\begin{bmatrix}c\\\\b\\\\a\\end{bmatrix}= \\begin{bmatrix}\\sum y\\\\\\sum xy\\\\\\sum x^2y\\end{bmatrix}$$ \n",
    "\n",
    "<font size =4 >Using the following figure as reference, insert the following data into the matrix. Use <font color='magenta'>array()</font> function from numpy to transform the data into matrix. Note that you have 2 matrices here. The unknown matrix for $a$, $b$, and $c$ will be calculated later.<br>"
   ]
  },
  {
   "cell_type": "code",
   "execution_count": 21,
   "metadata": {
    "collapsed": false,
    "deletable": true,
    "editable": true
   },
   "outputs": [
    {
     "name": "stdout",
     "output_type": "stream",
     "text": [
      "matrix 1: \n",
      "[[      13      498    22846]\n",
      " [     498    22846  1156476]\n",
      " [   22846  1156476 61971490]]\n",
      "\n",
      "\n",
      "matrix 2:\n",
      "[2.9780000e+03 1.1993740e+05 5.5270678e+06]\n",
      "\n",
      "\n"
     ]
    }
   ],
   "source": [
    "import numpy as np\n",
    "\n",
    "m1=np.array([[n,nx,nx2], [nx,nx2,nx3], [nx2,nx3,nx4]])   # insert data into matrix 1\n",
    "print(\"matrix 1: \")\n",
    "print(m1)\n",
    "print(\"\\n\")\n",
    "\n",
    "m2=np.array([ny,nxy,nx2y])   # insert data into matrix 2\n",
    "print(\"matrix 2:\")\n",
    "print(m2)\n",
    "print(\"\\n\")"
   ]
  },
  {
   "cell_type": "markdown",
   "metadata": {
    "deletable": true,
    "editable": true
   },
   "source": [
    "## Question 6:\n",
    "<font size =4 >Inverse the first matrix. Then multiply with the second matrix to find the the unknown matrix [ c  b  a ]\n",
    "<br>The figure below shows how the inverse matrix works. </font>\n",
    "## $$ \\begin{bmatrix}c\\\\b\\\\a\\end{bmatrix}= \n",
    "\\begin{bmatrix}n & \\sum x & \\sum x^2\\\\ \\sum x & \\sum x^2 & \\sum x^3 \\\\ \\sum x^2 & \\sum x^3 & \\sum x^4\\end{bmatrix}^{-1}\n",
    "\\begin{bmatrix}\\sum y\\\\\\sum xy\\\\\\sum x^2y\\end{bmatrix}$$ \n"
   ]
  },
  {
   "cell_type": "code",
   "execution_count": 22,
   "metadata": {
    "collapsed": false,
    "deletable": true,
    "editable": true
   },
   "outputs": [
    {
     "name": "stdout",
     "output_type": "stream",
     "text": [
      "inverse of matrix 1:\n",
      "[[ 1.93557496e+00 -1.09690709e-01  1.33342811e-03]\n",
      " [-1.09690709e-01  7.00708407e-03 -9.03242866e-05]\n",
      " [ 1.33342811e-03 -9.03242866e-05  1.21014310e-06]]\n",
      "\n",
      "\n",
      "[-21.92863939  14.52405795  -0.17376821]\n"
     ]
    }
   ],
   "source": [
    "m1inv = np.linalg.inv(m1)   # inverse the matrix 1 \n",
    "print(\"inverse of matrix 1:\")\n",
    "print(m1inv)\n",
    "print(\"\\n\")\n",
    "\n",
    "ans= np.matmul(m1inv, m2)   # multiply inverse of m1 with matrix 2 \n",
    "print(ans)"
   ]
  },
  {
   "cell_type": "markdown",
   "metadata": {
    "deletable": true,
    "editable": true
   },
   "source": [
    "## Question 7:\n",
    "<font size =4 >Assign the answer (matrix form) into C, B and A respectively. Then, generate the new equation of the regression line. (original: $y = ax^2 + bx + c$)"
   ]
  },
  {
   "cell_type": "code",
   "execution_count": 25,
   "metadata": {
    "collapsed": true,
    "deletable": true,
    "editable": true
   },
   "outputs": [],
   "source": [
    "C= ans[0]\n",
    "B= ans[1]\n",
    "A= ans[2]\n",
    "\n",
    "## Y = A*(x[i]**2) + B*x[i] + C   # NEW_EQUATION : i is to be used in for loop later on"
   ]
  },
  {
   "cell_type": "markdown",
   "metadata": {
    "deletable": true,
    "editable": true
   },
   "source": [
    "## Question 8:\n",
    "<font size =4 >Find the value of new Y by calculating it using the equation.\n",
    "<br>Hint: initialize a new list Y[]"
   ]
  },
  {
   "cell_type": "code",
   "execution_count": 26,
   "metadata": {
    "collapsed": false,
    "deletable": true,
    "editable": true
   },
   "outputs": [
    {
     "name": "stdout",
     "output_type": "stream",
     "text": [
      "[105.93511901600985, 156.83438239866913, 199.04523523470684, 226.55826190996947, 257.4017092669176, 271.0132790675857, 281.00454111264196, 279.77334121557186, 274.86418421495136, 269.85373077188007, 235.91046012500044, 223.94927824463196, 195.8564774215165]\n"
     ]
    }
   ],
   "source": [
    "Y=[]\n",
    "\n",
    "for i in range(len(x)):\n",
    "    y0 = A*(x[i]**2) + B*x[i] + C\n",
    "    Y.append(y0)\n",
    "print(Y)"
   ]
  },
  {
   "cell_type": "markdown",
   "metadata": {
    "deletable": true,
    "editable": true
   },
   "source": [
    "## Question 9:\n",
    "<font size =4 >Plot the new regression line along the scattered line. Use the plot() function."
   ]
  },
  {
   "cell_type": "code",
   "execution_count": 27,
   "metadata": {
    "collapsed": false,
    "deletable": true,
    "editable": true
   },
   "outputs": [
    {
     "data": {
      "image/png": "[encoded data removed]",
      "text/plain": [
       "<Figure size 432x288 with 1 Axes>"
      ]
     },
     "metadata": {
      "needs_background": "light"
     },
     "output_type": "display_data"
    }
   ],
   "source": [
    "plt.xlabel(\"X\")\n",
    "plt.ylabel(\"Y\")\n",
    "\n",
    "plt.scatter(x,y)\n",
    "plt.plot(x,Y)\n",
    "plt.show()"
   ]
  },
  {
   "cell_type": "markdown",
   "metadata": {
    "deletable": true,
    "editable": true
   },
   "source": [
    "## Question 10:\n",
    "<font size =4 >Using the equation of the regression line, find the estimated value of distance (feet) of the baseball when it was hit at 70 degrees."
   ]
  },
  {
   "cell_type": "code",
   "execution_count": 28,
   "metadata": {
    "collapsed": false,
    "deletable": true,
    "editable": true
   },
   "outputs": [
    {
     "name": "stdout",
     "output_type": "stream",
     "text": [
      "Distance: 143.29118353089746 feet\n"
     ]
    }
   ],
   "source": [
    "y0 = A*(70**2) + B*70 + C\n",
    "print(\"Distance: \"+ str(y0) + \" feet\")"
   ]
  },
  {
   "cell_type": "markdown",
   "metadata": {
    "deletable": true,
    "editable": true
   },
   "source": [
    "# <font color='forestgreen'>Part 2: Polynomial Regression with Python Libraries</font>\n",
    "\n",
    "<font size =4> Table 2 below shows the positions (with levels) in ABC Sdn. Bhd. and their respective salaries."
   ]
  },
  {
   "cell_type": "code",
   "execution_count": 2,
   "metadata": {
    "collapsed": false,
    "deletable": true,
    "editable": true
   },
   "outputs": [
    {
     "data": {
      "text/html": [
       "<style  type=\"text/css\" >\n",
       "    #T_f303ef3a_923a_11e9_92ba_80a5898a2454row0_col0 {\n",
       "            text-align:  center;\n",
       "        }    #T_f303ef3a_923a_11e9_92ba_80a5898a2454row0_col1 {\n",
       "            text-align:  center;\n",
       "        }    #T_f303ef3a_923a_11e9_92ba_80a5898a2454row1_col0 {\n",
       "            text-align:  center;\n",
       "        }    #T_f303ef3a_923a_11e9_92ba_80a5898a2454row1_col1 {\n",
       "            text-align:  center;\n",
       "        }    #T_f303ef3a_923a_11e9_92ba_80a5898a2454row2_col0 {\n",
       "            text-align:  center;\n",
       "        }    #T_f303ef3a_923a_11e9_92ba_80a5898a2454row2_col1 {\n",
       "            text-align:  center;\n",
       "        }    #T_f303ef3a_923a_11e9_92ba_80a5898a2454row3_col0 {\n",
       "            text-align:  center;\n",
       "        }    #T_f303ef3a_923a_11e9_92ba_80a5898a2454row3_col1 {\n",
       "            text-align:  center;\n",
       "        }    #T_f303ef3a_923a_11e9_92ba_80a5898a2454row4_col0 {\n",
       "            text-align:  center;\n",
       "        }    #T_f303ef3a_923a_11e9_92ba_80a5898a2454row4_col1 {\n",
       "            text-align:  center;\n",
       "        }    #T_f303ef3a_923a_11e9_92ba_80a5898a2454row5_col0 {\n",
       "            text-align:  center;\n",
       "        }    #T_f303ef3a_923a_11e9_92ba_80a5898a2454row5_col1 {\n",
       "            text-align:  center;\n",
       "        }    #T_f303ef3a_923a_11e9_92ba_80a5898a2454row6_col0 {\n",
       "            text-align:  center;\n",
       "        }    #T_f303ef3a_923a_11e9_92ba_80a5898a2454row6_col1 {\n",
       "            text-align:  center;\n",
       "        }    #T_f303ef3a_923a_11e9_92ba_80a5898a2454row7_col0 {\n",
       "            text-align:  center;\n",
       "        }    #T_f303ef3a_923a_11e9_92ba_80a5898a2454row7_col1 {\n",
       "            text-align:  center;\n",
       "        }    #T_f303ef3a_923a_11e9_92ba_80a5898a2454row8_col0 {\n",
       "            text-align:  center;\n",
       "        }    #T_f303ef3a_923a_11e9_92ba_80a5898a2454row8_col1 {\n",
       "            text-align:  center;\n",
       "        }    #T_f303ef3a_923a_11e9_92ba_80a5898a2454row9_col0 {\n",
       "            text-align:  center;\n",
       "        }    #T_f303ef3a_923a_11e9_92ba_80a5898a2454row9_col1 {\n",
       "            text-align:  center;\n",
       "        }</style><table id=\"T_f303ef3a_923a_11e9_92ba_80a5898a2454\" ><thead>    <tr>        <th class=\"blank level0\" ></th>        <th class=\"col_heading level0 col0\" >Level (x)</th>        <th class=\"col_heading level0 col1\" >Annual Salary, $ (y)</th>    </tr></thead><tbody>\n",
       "                <tr>\n",
       "                        <th id=\"T_f303ef3a_923a_11e9_92ba_80a5898a2454level0_row0\" class=\"row_heading level0 row0\" >0</th>\n",
       "                        <td id=\"T_f303ef3a_923a_11e9_92ba_80a5898a2454row0_col0\" class=\"data row0 col0\" >1</td>\n",
       "                        <td id=\"T_f303ef3a_923a_11e9_92ba_80a5898a2454row0_col1\" class=\"data row0 col1\" >45000</td>\n",
       "            </tr>\n",
       "            <tr>\n",
       "                        <th id=\"T_f303ef3a_923a_11e9_92ba_80a5898a2454level0_row1\" class=\"row_heading level0 row1\" >1</th>\n",
       "                        <td id=\"T_f303ef3a_923a_11e9_92ba_80a5898a2454row1_col0\" class=\"data row1 col0\" >2</td>\n",
       "                        <td id=\"T_f303ef3a_923a_11e9_92ba_80a5898a2454row1_col1\" class=\"data row1 col1\" >50000</td>\n",
       "            </tr>\n",
       "            <tr>\n",
       "                        <th id=\"T_f303ef3a_923a_11e9_92ba_80a5898a2454level0_row2\" class=\"row_heading level0 row2\" >2</th>\n",
       "                        <td id=\"T_f303ef3a_923a_11e9_92ba_80a5898a2454row2_col0\" class=\"data row2 col0\" >3</td>\n",
       "                        <td id=\"T_f303ef3a_923a_11e9_92ba_80a5898a2454row2_col1\" class=\"data row2 col1\" >60000</td>\n",
       "            </tr>\n",
       "            <tr>\n",
       "                        <th id=\"T_f303ef3a_923a_11e9_92ba_80a5898a2454level0_row3\" class=\"row_heading level0 row3\" >3</th>\n",
       "                        <td id=\"T_f303ef3a_923a_11e9_92ba_80a5898a2454row3_col0\" class=\"data row3 col0\" >4</td>\n",
       "                        <td id=\"T_f303ef3a_923a_11e9_92ba_80a5898a2454row3_col1\" class=\"data row3 col1\" >80000</td>\n",
       "            </tr>\n",
       "            <tr>\n",
       "                        <th id=\"T_f303ef3a_923a_11e9_92ba_80a5898a2454level0_row4\" class=\"row_heading level0 row4\" >4</th>\n",
       "                        <td id=\"T_f303ef3a_923a_11e9_92ba_80a5898a2454row4_col0\" class=\"data row4 col0\" >5</td>\n",
       "                        <td id=\"T_f303ef3a_923a_11e9_92ba_80a5898a2454row4_col1\" class=\"data row4 col1\" >110000</td>\n",
       "            </tr>\n",
       "            <tr>\n",
       "                        <th id=\"T_f303ef3a_923a_11e9_92ba_80a5898a2454level0_row5\" class=\"row_heading level0 row5\" >5</th>\n",
       "                        <td id=\"T_f303ef3a_923a_11e9_92ba_80a5898a2454row5_col0\" class=\"data row5 col0\" >6</td>\n",
       "                        <td id=\"T_f303ef3a_923a_11e9_92ba_80a5898a2454row5_col1\" class=\"data row5 col1\" >150000</td>\n",
       "            </tr>\n",
       "            <tr>\n",
       "                        <th id=\"T_f303ef3a_923a_11e9_92ba_80a5898a2454level0_row6\" class=\"row_heading level0 row6\" >6</th>\n",
       "                        <td id=\"T_f303ef3a_923a_11e9_92ba_80a5898a2454row6_col0\" class=\"data row6 col0\" >7</td>\n",
       "                        <td id=\"T_f303ef3a_923a_11e9_92ba_80a5898a2454row6_col1\" class=\"data row6 col1\" >200000</td>\n",
       "            </tr>\n",
       "            <tr>\n",
       "                        <th id=\"T_f303ef3a_923a_11e9_92ba_80a5898a2454level0_row7\" class=\"row_heading level0 row7\" >7</th>\n",
       "                        <td id=\"T_f303ef3a_923a_11e9_92ba_80a5898a2454row7_col0\" class=\"data row7 col0\" >8</td>\n",
       "                        <td id=\"T_f303ef3a_923a_11e9_92ba_80a5898a2454row7_col1\" class=\"data row7 col1\" >300000</td>\n",
       "            </tr>\n",
       "            <tr>\n",
       "                        <th id=\"T_f303ef3a_923a_11e9_92ba_80a5898a2454level0_row8\" class=\"row_heading level0 row8\" >8</th>\n",
       "                        <td id=\"T_f303ef3a_923a_11e9_92ba_80a5898a2454row8_col0\" class=\"data row8 col0\" >9</td>\n",
       "                        <td id=\"T_f303ef3a_923a_11e9_92ba_80a5898a2454row8_col1\" class=\"data row8 col1\" >500000</td>\n",
       "            </tr>\n",
       "            <tr>\n",
       "                        <th id=\"T_f303ef3a_923a_11e9_92ba_80a5898a2454level0_row9\" class=\"row_heading level0 row9\" >9</th>\n",
       "                        <td id=\"T_f303ef3a_923a_11e9_92ba_80a5898a2454row9_col0\" class=\"data row9 col0\" >10</td>\n",
       "                        <td id=\"T_f303ef3a_923a_11e9_92ba_80a5898a2454row9_col1\" class=\"data row9 col1\" >1000000</td>\n",
       "            </tr>\n",
       "    </tbody></table>"
      ],
      "text/plain": [
       "<pandas.io.formats.style.Styler at 0x1b6d34fc6a0>"
      ]
     },
     "execution_count": 2,
     "metadata": {},
     "output_type": "execute_result"
    }
   ],
   "source": [
    "import pandas as pd\n",
    "\n",
    "a= [1,2,3,4,5,6,7,8,9,10]\n",
    "b= [45000,50000,60000,80000,110000,150000,200000,300000, 500000, 1000000]\n",
    "\n",
    "df = pd.DataFrame(a, columns = ['Level (x)']); df['Annual Salary, $ (y)'] = b\n",
    "df.style.set_properties(**{'text-align':'center'})"
   ]
  },
  {
   "cell_type": "markdown",
   "metadata": {
    "deletable": true,
    "editable": true
   },
   "source": [
    "## Question 11:\n",
    "<font size =4> Import the libraries needed to construct the polynomial regression line.\n",
    "## <font color =\"red\"> Hint:\n",
    "- numpy, matplotlib.pyplot, PolynomialFeatures from sklearn.preprocessing & LinearRegression from sklearn.linear_model"
   ]
  },
  {
   "cell_type": "code",
   "execution_count": 3,
   "metadata": {
    "collapsed": true,
    "deletable": true,
    "editable": true
   },
   "outputs": [],
   "source": [
    "import numpy as np\n",
    "import matplotlib.pyplot as plt\n",
    "from sklearn.preprocessing import PolynomialFeatures\n",
    "from sklearn.linear_model import LinearRegression"
   ]
  },
  {
   "cell_type": "markdown",
   "metadata": {
    "deletable": true,
    "editable": true
   },
   "source": [
    "## Question 12:\n",
    "<font size =4> Store the $x$ and $y$ values into lists. Then using numpy, initialize the lists to array so that it can be used well with other numpy functions.\n",
    "## <font color =\"red\"> Hint:\n",
    "- use array() from numpy to initialize the list </font>"
   ]
  },
  {
   "cell_type": "code",
   "execution_count": 5,
   "metadata": {
    "collapsed": true,
    "deletable": true,
    "editable": true
   },
   "outputs": [],
   "source": [
    "x= [1,2,3,4,5,6,7,8,9,10]\n",
    "y= [45000,50000,60000,80000,110000,150000,200000,300000, 500000, 1000000]\n",
    "\n",
    "x= np.array(x)\n",
    "y= np.array(y)"
   ]
  },
  {
   "cell_type": "markdown",
   "metadata": {
    "deletable": true,
    "editable": true
   },
   "source": [
    "## Question 13:\n",
    "<font size =4> Transform the data into column vector by inserting new axis.\n",
    "## <font color =\"red\"> Hint:\n",
    "- Use newaxis function from numpy"
   ]
  },
  {
   "cell_type": "code",
   "execution_count": 6,
   "metadata": {
    "collapsed": true,
    "deletable": true,
    "editable": true
   },
   "outputs": [],
   "source": [
    "x = x[:, np.newaxis]\n",
    "y = y[:, np.newaxis]"
   ]
  },
  {
   "cell_type": "markdown",
   "metadata": {
    "deletable": true,
    "editable": true
   },
   "source": [
    "## Question 14:\n",
    "<font size =4> Assign PolynomialFeatures() with the degree of 2 to a variable. Then, using the variable, transform the x values for the use of polynomial regression and assign it to a new variable.\n",
    "\n",
    "## <font color =\"red\"> Hint: \n",
    "- Use fit_transform(x)"
   ]
  },
  {
   "cell_type": "code",
   "execution_count": 7,
   "metadata": {
    "collapsed": true,
    "deletable": true,
    "editable": true
   },
   "outputs": [],
   "source": [
    "poly_features = PolynomialFeatures(degree = 2)\n",
    "x_poly = poly_features.fit_transform(x)"
   ]
  },
  {
   "cell_type": "markdown",
   "metadata": {
    "deletable": true,
    "editable": true
   },
   "source": [
    "## Question 15:\n",
    "<font size =4> Assign LinearRegression() to a variable. Then, using the variable, fit the transformed x values and y values.\n",
    "\n",
    "## <font color =\"red\"> Hint: \n",
    "- Use fit(x,y) function to fit the x and y values."
   ]
  },
  {
   "cell_type": "code",
   "execution_count": 8,
   "metadata": {
    "collapsed": false,
    "deletable": true,
    "editable": true
   },
   "outputs": [
    {
     "data": {
      "text/plain": [
       "LinearRegression(copy_X=True, fit_intercept=True, n_jobs=None, normalize=False)"
      ]
     },
     "execution_count": 8,
     "metadata": {},
     "output_type": "execute_result"
    }
   ],
   "source": [
    "poly_model = LinearRegression()\n",
    "poly_model.fit(x_poly, y)"
   ]
  },
  {
   "cell_type": "markdown",
   "metadata": {
    "deletable": true,
    "editable": true
   },
   "source": [
    "## Question 16:\n",
    "\n",
    "<font size =4> Find the value of y for the polynomial regression line. Then, sort the values of x and y for plotting.\n",
    "## <font color =\"red\"> Hint:\n",
    "- Use predict() function to find the new values of y<br>\n",
    "- Use zip() function to sort the values of x and y"
   ]
  },
  {
   "cell_type": "code",
   "execution_count": 9,
   "metadata": {
    "collapsed": true,
    "deletable": true,
    "editable": true
   },
   "outputs": [],
   "source": [
    "pred = poly_model.predict(x_poly)\n",
    "new_x, new_y = zip(*sorted(zip(x, pred)))"
   ]
  },
  {
   "cell_type": "markdown",
   "metadata": {
    "deletable": true,
    "editable": true
   },
   "source": [
    "## Question 17:\n",
    "\n",
    "<font size =4> Use scatter() function to plot the scattered data. Then, use plot() function to plot the new polynomial regression line using the new generated value of x and y.\n",
    "\n",
    "## <font color =\"red\"> Hint:\n",
    "\n",
    "- Use scatter() from matplotlib.pyplot\n",
    "- Use plot() from matplotlib.pyplot"
   ]
  },
  {
   "cell_type": "code",
   "execution_count": 13,
   "metadata": {
    "collapsed": false,
    "deletable": true,
    "editable": true
   },
   "outputs": [
    {
     "data": {
      "image/png": "[encoded data removed]",
      "text/plain": [
       "<Figure size 432x288 with 1 Axes>"
      ]
     },
     "metadata": {
      "needs_background": "light"
     },
     "output_type": "display_data"
    }
   ],
   "source": [
    "plt.scatter(x,y)\n",
    "plt.plot(new_x, new_y)\n",
    "\n",
    "plt.xlabel(\"x\")\n",
    "plt.xlabel(\"y\")\n",
    "plt.title(\"Polynomial Regression degree = 2\")\n",
    "\n",
    "plt.show()"
   ]
  }
 ],
 "metadata": {
  "kernelspec": {
   "display_name": "Python 3",
   "language": "python",
   "name": "python3"
  },
  "language_info": {
   "codemirror_mode": {
    "name": "ipython",
    "version": 3
   },
   "file_extension": ".py",
   "mimetype": "text/x-python",
   "name": "python",
   "nbconvert_exporter": "python",
   "pygments_lexer": "ipython3",
   "version": "3.5.2"
  }
 },
 "nbformat": 4,
 "nbformat_minor": 2
}
