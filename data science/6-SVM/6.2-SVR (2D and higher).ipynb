{
 "cells": [
  {
   "cell_type": "markdown",
   "metadata": {
    "deletable": true,
    "editable": true
   },
   "source": [
    "## SVR in python"
   ]
  },
  {
   "cell_type": "markdown",
   "metadata": {
    "deletable": true,
    "editable": true
   },
   "source": [
    "<font size=4 >Let's import all the libraries first!</font>"
   ]
  },
  {
   "cell_type": "code",
   "execution_count": 4,
   "metadata": {
    "collapsed": true,
    "deletable": true,
    "editable": true
   },
   "outputs": [],
   "source": [
    "import numpy as np\n",
    "import pandas as pd\n",
    "from matplotlib import pyplot as plt\n",
    "from sklearn.svm import SVR #Our today's topic"
   ]
  },
  {
   "cell_type": "markdown",
   "metadata": {
    "deletable": true,
    "editable": true
   },
   "source": [
    "<font size=4 >Let's get the Data!</font>"
   ]
  },
  {
   "cell_type": "code",
   "execution_count": 6,
   "metadata": {
    "collapsed": false,
    "deletable": true,
    "editable": true,
    "scrolled": true
   },
   "outputs": [
    {
     "data": {
      "text/html": [
       "<div>\n",
       "<style>\n",
       "    .dataframe thead tr:only-child th {\n",
       "        text-align: right;\n",
       "    }\n",
       "\n",
       "    .dataframe thead th {\n",
       "        text-align: left;\n",
       "    }\n",
       "\n",
       "    .dataframe tbody tr th {\n",
       "        vertical-align: top;\n",
       "    }\n",
       "</style>\n",
       "<table border=\"1\" class=\"dataframe\">\n",
       "  <thead>\n",
       "    <tr style=\"text-align: right;\">\n",
       "      <th></th>\n",
       "      <th>R&amp;D Spend</th>\n",
       "      <th>Administration</th>\n",
       "      <th>Marketing Spend</th>\n",
       "      <th>State</th>\n",
       "      <th>Profit</th>\n",
       "    </tr>\n",
       "  </thead>\n",
       "  <tbody>\n",
       "    <tr>\n",
       "      <th>0</th>\n",
       "      <td>165349.20</td>\n",
       "      <td>136897.80</td>\n",
       "      <td>471784.10</td>\n",
       "      <td>New York</td>\n",
       "      <td>192261.83</td>\n",
       "    </tr>\n",
       "    <tr>\n",
       "      <th>1</th>\n",
       "      <td>162597.70</td>\n",
       "      <td>151377.59</td>\n",
       "      <td>443898.53</td>\n",
       "      <td>California</td>\n",
       "      <td>191792.06</td>\n",
       "    </tr>\n",
       "    <tr>\n",
       "      <th>2</th>\n",
       "      <td>153441.51</td>\n",
       "      <td>101145.55</td>\n",
       "      <td>407934.54</td>\n",
       "      <td>Florida</td>\n",
       "      <td>191050.39</td>\n",
       "    </tr>\n",
       "    <tr>\n",
       "      <th>3</th>\n",
       "      <td>144372.41</td>\n",
       "      <td>118671.85</td>\n",
       "      <td>383199.62</td>\n",
       "      <td>New York</td>\n",
       "      <td>182901.99</td>\n",
       "    </tr>\n",
       "    <tr>\n",
       "      <th>4</th>\n",
       "      <td>142107.34</td>\n",
       "      <td>91391.77</td>\n",
       "      <td>366168.42</td>\n",
       "      <td>Florida</td>\n",
       "      <td>166187.94</td>\n",
       "    </tr>\n",
       "  </tbody>\n",
       "</table>\n",
       "</div>"
      ],
      "text/plain": [
       "   R&D Spend  Administration  Marketing Spend       State     Profit\n",
       "0  165349.20       136897.80        471784.10    New York  192261.83\n",
       "1  162597.70       151377.59        443898.53  California  191792.06\n",
       "2  153441.51       101145.55        407934.54     Florida  191050.39\n",
       "3  144372.41       118671.85        383199.62    New York  182901.99\n",
       "4  142107.34        91391.77        366168.42     Florida  166187.94"
      ]
     },
     "execution_count": 6,
     "metadata": {},
     "output_type": "execute_result"
    }
   ],
   "source": [
    "dataset = pd.read_csv('50_Startups.csv') #Loading the data into DataFrame\n",
    "dataset.head() #Displaying the data to make sure DataFrame is alright"
   ]
  },
  {
   "cell_type": "markdown",
   "metadata": {
    "deletable": true,
    "editable": true
   },
   "source": [
    "<font size=4>This time our Independent variables(X) will be not only Marketing spend but also <b>Adminstration and R&D_Spend</b>\n",
    "    <br>It will increase accuracy of our model"
   ]
  },
  {
   "cell_type": "code",
   "execution_count": 7,
   "metadata": {
    "collapsed": true,
    "deletable": true,
    "editable": true
   },
   "outputs": [],
   "source": [
    "###  dataframe.iloc requires 1)ROW(s) and 2)Column(s)\n",
    "x = dataset.iloc[:, :3].values #Put a colon to choose all rows and column 0,1,2 are as features.\n",
    "y = dataset.iloc[:, 4:].values #Profit column is at 4 index(start counting from 0 like a programmer!)\n"
   ]
  },
  {
   "cell_type": "code",
   "execution_count": 9,
   "metadata": {
    "collapsed": false,
    "deletable": true,
    "editable": true
   },
   "outputs": [
    {
     "data": {
      "text/plain": [
       "array([[  2.01641149e+00,   5.60752915e-01,   2.15394309e+00],\n",
       "       [  1.95586034e+00,   1.08280658e+00,   1.92360040e+00],\n",
       "       [  1.75436374e+00,  -7.28257028e-01,   1.62652767e+00],\n",
       "       [  1.55478369e+00,  -9.63646307e-02,   1.42221024e+00],\n",
       "       [  1.50493720e+00,  -1.07991935e+00,   1.28152771e+00],\n",
       "       [  1.27980001e+00,  -7.76239071e-01,   1.25421046e+00],\n",
       "       [  1.34006641e+00,   9.32147208e-01,  -6.88149930e-01],\n",
       "       [  1.24505666e+00,   8.71980011e-01,   9.32185978e-01],\n",
       "       [  1.03036886e+00,   9.86952101e-01,   8.30886909e-01],\n",
       "       [  1.09181921e+00,  -4.56640246e-01,   7.76107440e-01],\n",
       "       [  6.20398248e-01,  -3.87599089e-01,   1.49807267e-01],\n",
       "       [  5.93085418e-01,  -1.06553960e+00,   3.19833623e-01],\n",
       "       [  4.43259872e-01,   2.15449064e-01,   3.20617441e-01],\n",
       "       [  4.02077603e-01,   5.10178953e-01,   3.43956788e-01],\n",
       "       [  1.01718075e+00,   1.26919939e+00,   3.75742273e-01],\n",
       "       [  8.97913123e-01,   4.58678535e-02,   4.19218702e-01],\n",
       "       [  9.44411957e-02,   9.11841968e-03,   4.40446224e-01],\n",
       "       [  4.60720127e-01,   8.55666318e-01,   5.91016724e-01],\n",
       "       [  3.96724938e-01,  -2.58465367e-01,   6.92992062e-01],\n",
       "       [  2.79441650e-01,   1.15983657e+00,  -1.74312698e+00],\n",
       "       [  5.57260867e-02,  -2.69587651e-01,   7.23925995e-01],\n",
       "       [  1.02723599e-01,   1.16918609e+00,   7.32787791e-01],\n",
       "       [  6.00657792e-03,   5.18495648e-02,   7.62375876e-01],\n",
       "       [ -1.36200724e-01,  -5.62211268e-01,   7.74348908e-01],\n",
       "       [  7.31146008e-02,  -7.95469167e-01,  -5.81939297e-01],\n",
       "       [ -1.99311688e-01,   6.56489139e-01,  -6.03516725e-01],\n",
       "       [  3.53702028e-02,   8.21717916e-01,  -6.35835495e-01],\n",
       "       [ -3.55189938e-02,   2.35068543e-01,   1.17427116e+00],\n",
       "       [ -1.68792717e-01,   2.21014050e+00,  -7.67189437e-01],\n",
       "       [ -1.78608540e-01,   1.14245677e+00,  -8.58133663e-01],\n",
       "       [ -2.58074369e-01,  -2.05628659e-01,  -9.90357166e-01],\n",
       "       [ -2.76958231e-01,   1.13055391e+00,  -1.01441945e+00],\n",
       "       [ -2.26948675e-01,   2.83923813e-01,  -1.36244978e+00],\n",
       "       [ -4.01128925e-01,  -6.59324033e-01,   2.98172434e-02],\n",
       "       [ -6.00682122e-01,   1.31053525e+00,  -1.87861793e-03],\n",
       "       [ -6.09749941e-01,  -1.30865753e+00,  -4.54931587e-02],\n",
       "       [ -9.91570153e-01,   2.05924691e-01,  -8.17625734e-02],\n",
       "       [ -6.52532310e-01,  -2.52599402e+00,  -1.15608256e-01],\n",
       "       [ -1.17717755e+00,  -1.99727037e+00,  -2.12784866e-01],\n",
       "       [ -7.73820359e-01,  -1.38312156e+00,  -2.97583276e-01],\n",
       "       [ -9.89577015e-01,  -1.00900218e-01,  -3.15785883e-01],\n",
       "       [ -1.00853372e+00,  -1.32079581e+00,  -3.84552407e-01],\n",
       "       [ -1.10210556e+00,  -9.06937535e-01,  -5.20595959e-01],\n",
       "       [ -1.28113364e+00,   2.17681524e-01,  -1.44960468e+00],\n",
       "       [ -1.13430539e+00,   1.20641936e+00,  -1.50907418e+00],\n",
       "       [ -1.60035036e+00,   1.01253936e-01,  -1.72739998e+00],\n",
       "       [ -1.59341322e+00,  -1.99321741e-01,   7.11122474e-01],\n",
       "       [ -1.62236202e+00,   5.07721876e-01,  -1.74312698e+00],\n",
       "       [ -1.61043334e+00,  -2.50940884e+00,  -1.74312698e+00],\n",
       "       [ -1.62236202e+00,  -1.57225506e-01,  -1.36998473e+00]])"
      ]
     },
     "execution_count": 9,
     "metadata": {},
     "output_type": "execute_result"
    }
   ],
   "source": [
    "from sklearn.preprocessing import StandardScaler\n",
    "sc_x = StandardScaler()\n",
    "sc_y = StandardScaler()\n",
    "X = sc_x.fit_transform(x)\n",
    "Y = sc_y.fit_transform(y)\n",
    "X"
   ]
  },
  {
   "cell_type": "markdown",
   "metadata": {
    "deletable": true,
    "editable": true
   },
   "source": [
    "<font size=4>Firstly, let's split the data into Training and Test sets"
   ]
  },
  {
   "cell_type": "code",
   "execution_count": 12,
   "metadata": {
    "collapsed": true,
    "deletable": true,
    "editable": true
   },
   "outputs": [],
   "source": [
    "from sklearn.model_selection import train_test_split\n",
    "X_train, X_test, y_train, y_test = train_test_split(X, Y, test_size = 0.2, shuffle=False)"
   ]
  },
  {
   "cell_type": "markdown",
   "metadata": {
    "deletable": true,
    "editable": true
   },
   "source": [
    "<font size=4>Let's create three different models with RBF, Linear and Polynomial kernels and compare scores of each model"
   ]
  },
  {
   "cell_type": "code",
   "execution_count": 13,
   "metadata": {
    "collapsed": false,
    "deletable": true,
    "editable": true
   },
   "outputs": [
    {
     "name": "stderr",
     "output_type": "stream",
     "text": [
      "C:\\Users\\PC\\AppData\\Local\\Enthought\\Canopy\\edm\\envs\\User\\lib\\site-packages\\sklearn\\utils\\validation.py:578: DataConversionWarning: A column-vector y was passed when a 1d array was expected. Please change the shape of y to (n_samples, ), for example using ravel().\n",
      "  y = column_or_1d(y, warn=True)\n"
     ]
    }
   ],
   "source": [
    "model_rbf = SVR(kernel=\"rbf\").fit(X_train, y_train)\n",
    "model_poly = SVR(kernel=\"poly\").fit(X_train, y_train)\n",
    "model_linear = SVR(kernel=\"linear\").fit(X_train, y_train)"
   ]
  },
  {
   "cell_type": "markdown",
   "metadata": {
    "deletable": true,
    "editable": true
   },
   "source": [
    "<font size=4>Checking Training part"
   ]
  },
  {
   "cell_type": "code",
   "execution_count": 14,
   "metadata": {
    "collapsed": false,
    "deletable": true,
    "editable": true
   },
   "outputs": [
    {
     "data": {
      "text/plain": [
       "0.95606650940533222"
      ]
     },
     "execution_count": 14,
     "metadata": {},
     "output_type": "execute_result"
    }
   ],
   "source": [
    "model_rbf.score(X_train, y_train)"
   ]
  },
  {
   "cell_type": "code",
   "execution_count": 15,
   "metadata": {
    "collapsed": false,
    "deletable": true,
    "editable": true
   },
   "outputs": [
    {
     "data": {
      "text/plain": [
       "0.80420135413437843"
      ]
     },
     "execution_count": 15,
     "metadata": {},
     "output_type": "execute_result"
    }
   ],
   "source": [
    "model_poly.score(X_train, y_train)"
   ]
  },
  {
   "cell_type": "code",
   "execution_count": 16,
   "metadata": {
    "collapsed": false,
    "deletable": true,
    "editable": true
   },
   "outputs": [
    {
     "data": {
      "text/plain": [
       "0.94620681799790973"
      ]
     },
     "execution_count": 16,
     "metadata": {},
     "output_type": "execute_result"
    }
   ],
   "source": [
    "model_linear.score(X_train, y_train)"
   ]
  },
  {
   "cell_type": "markdown",
   "metadata": {
    "deletable": true,
    "editable": true
   },
   "source": [
    "<font size=4>As we can see, RBF and Linear kernels fit well for our data. Now, let's check the score for Test part"
   ]
  },
  {
   "cell_type": "code",
   "execution_count": 17,
   "metadata": {
    "collapsed": false,
    "deletable": true,
    "editable": true
   },
   "outputs": [
    {
     "data": {
      "text/plain": [
       "-5.1008365827279025"
      ]
     },
     "execution_count": 17,
     "metadata": {},
     "output_type": "execute_result"
    }
   ],
   "source": [
    "model_rbf.score(X_test, y_test)"
   ]
  },
  {
   "cell_type": "code",
   "execution_count": 18,
   "metadata": {
    "collapsed": false,
    "deletable": true,
    "editable": true
   },
   "outputs": [
    {
     "data": {
      "text/plain": [
       "-0.71884773961332149"
      ]
     },
     "execution_count": 18,
     "metadata": {},
     "output_type": "execute_result"
    }
   ],
   "source": [
    "model_poly.score(X_test, y_test)"
   ]
  },
  {
   "cell_type": "code",
   "execution_count": 19,
   "metadata": {
    "collapsed": false,
    "deletable": true,
    "editable": true
   },
   "outputs": [
    {
     "data": {
      "text/plain": [
       "0.43685891344036332"
      ]
     },
     "execution_count": 19,
     "metadata": {},
     "output_type": "execute_result"
    }
   ],
   "source": [
    "model_linear.score(X_test, y_test)"
   ]
  },
  {
   "cell_type": "markdown",
   "metadata": {
    "deletable": true,
    "editable": true
   },
   "source": [
    "## Shortcut!"
   ]
  },
  {
   "cell_type": "markdown",
   "metadata": {
    "deletable": true,
    "editable": true
   },
   "source": [
    "<font size=4> Instead of creating each model separately, We can use <b>For loop</b> and apply all three kernels and get the scores"
   ]
  },
  {
   "cell_type": "code",
   "execution_count": 20,
   "metadata": {
    "collapsed": false,
    "deletable": true,
    "editable": true,
    "scrolled": true
   },
   "outputs": [
    {
     "name": "stdout",
     "output_type": "stream",
     "text": [
      "Kernel: linear. Training Score: 0.946206817998. Test score: 0.43685891344\n",
      "Kernel: rbf. Training Score: 0.956066509405. Test score: -5.10083658273\n",
      "Kernel: poly. Training Score: 0.804201354134. Test score: -0.718847739613\n"
     ]
    },
    {
     "name": "stderr",
     "output_type": "stream",
     "text": [
      "C:\\Users\\PC\\AppData\\Local\\Enthought\\Canopy\\edm\\envs\\User\\lib\\site-packages\\sklearn\\utils\\validation.py:578: DataConversionWarning: A column-vector y was passed when a 1d array was expected. Please change the shape of y to (n_samples, ), for example using ravel().\n",
      "  y = column_or_1d(y, warn=True)\n"
     ]
    }
   ],
   "source": [
    "kernels=['linear','rbf','poly'] #Create a list of kernels like this\n",
    "for i in kernels:\n",
    "    model = SVR(kernel=i).fit(X_train, y_train)\n",
    "    train_score = model.score(X_train, y_train)\n",
    "    test_score = model.score(X_test, y_test)\n",
    "    print(\"Kernel: \" + i + \". Training Score: \" + str(train_score) +\". Test score: \" + str(test_score))\n",
    "    "
   ]
  },
  {
   "cell_type": "markdown",
   "metadata": {
    "deletable": true,
    "editable": true
   },
   "source": [
    "<font size=4> So far, SVR model with Linear Kernel fitted our data well. However, kernel type is one of the attributes of model and there are other important attributes(C=penalty parameter and epsilon) that should be <b>TUNED</b>"
   ]
  },
  {
   "cell_type": "markdown",
   "metadata": {
    "deletable": true,
    "editable": true
   },
   "source": [
    "<font size=4> Tuning Penalty Parameter"
   ]
  },
  {
   "cell_type": "code",
   "execution_count": 21,
   "metadata": {
    "collapsed": false,
    "deletable": true,
    "editable": true,
    "scrolled": true
   },
   "outputs": [
    {
     "name": "stdout",
     "output_type": "stream",
     "text": [
      "Tuning parameters for RVS model with linear Kernel\n",
      "Kernel: linear. Penalty: 1. Training Score: 0.946206817998. Test score: 0.43685891344\n",
      "Kernel: linear. Penalty: 10. Training Score: 0.945843224236. Test score: 0.454120425373\n",
      "Kernel: linear. Penalty: 100. Training Score: 0.945850756719. Test score: 0.453889038499\n",
      "Tuning parameters for RVS model with rbf Kernel\n",
      "Kernel: rbf. Penalty: 1. Training Score: 0.956066509405. Test score: -5.10083658273\n",
      "Kernel: rbf. Penalty: 10. Training Score: 0.978390037994. Test score: -4.05775739555\n",
      "Kernel: rbf. Penalty: 100. Training Score: 0.98605688602. Test score: -5.15041956591\n",
      "Tuning parameters for RVS model with poly Kernel\n",
      "Kernel: poly. Penalty: 1. Training Score: 0.804201354134. Test score: -0.718847739613\n",
      "Kernel: poly. Penalty: 10. Training Score: 0.831415388293. Test score: -0.530221529845\n",
      "Kernel: poly. Penalty: 100. Training Score: 0.831861635729. Test score: -1.11800305171\n"
     ]
    },
    {
     "name": "stderr",
     "output_type": "stream",
     "text": [
      "C:\\Users\\PC\\AppData\\Local\\Enthought\\Canopy\\edm\\envs\\User\\lib\\site-packages\\sklearn\\utils\\validation.py:578: DataConversionWarning: A column-vector y was passed when a 1d array was expected. Please change the shape of y to (n_samples, ), for example using ravel().\n",
      "  y = column_or_1d(y, warn=True)\n"
     ]
    }
   ],
   "source": [
    "kernels=['linear','rbf','poly']\n",
    "penalties = [1, 10, 100]\n",
    "\n",
    "for kernel in kernels:\n",
    "    print(\"Tuning parameters for RVS model with \"+kernel+\" Kernel\")\n",
    "    for c in penalties:\n",
    "        model = SVR(kernel=kernel, C=c).fit(X_train, y_train)\n",
    "        train_score = model.score(X_train, y_train)\n",
    "        test_score = model.score(X_test, y_test)\n",
    "        print(\"Kernel: \"+kernel+\". Penalty: \"+str(c)+\". Training Score: \"+str(train_score)+\". Test score: \"+str(test_score))\n",
    "    "
   ]
  },
  {
   "cell_type": "markdown",
   "metadata": {
    "deletable": true,
    "editable": true
   },
   "source": [
    "<font size=4> Tuning Epsilon Parameter"
   ]
  },
  {
   "cell_type": "markdown",
   "metadata": {
    "deletable": true,
    "editable": true
   },
   "source": [
    "<font size=4> We can decide that Linear kernel fits our data better than other kernels. So, let's tune Penalty and Epsilon parameters for Linear kernel only."
   ]
  },
  {
   "cell_type": "code",
   "execution_count": 22,
   "metadata": {
    "collapsed": false,
    "deletable": true,
    "editable": true,
    "scrolled": true
   },
   "outputs": [
    {
     "name": "stdout",
     "output_type": "stream",
     "text": [
      "Penalty: 1. Epsilon: 0.1. Training Score: 0.946206817998. Test score: 0.43685891344\n",
      "Penalty: 1. Epsilon: 0.2. Training Score: 0.944360823466. Test score: 0.391346085225\n",
      "Penalty: 1. Epsilon: 0.3. Training Score: 0.937306909146. Test score: 0.186320837563\n",
      "Penalty: 10. Epsilon: 0.1. Training Score: 0.945843224236. Test score: 0.454120425373\n",
      "Penalty: 10. Epsilon: 0.2. Training Score: 0.945272039967. Test score: 0.400557355088\n",
      "Penalty: 10. Epsilon: 0.3. Training Score: 0.941381622635. Test score: 0.307624207515\n",
      "Penalty: 100. Epsilon: 0.1. Training Score: 0.945850756719. Test score: 0.453889038499\n",
      "Penalty: 100. Epsilon: 0.2. Training Score: 0.945261134818. Test score: 0.400594441732\n",
      "Penalty: 100. Epsilon: 0.3. Training Score: 0.941379878779. Test score: 0.308275239322\n"
     ]
    },
    {
     "name": "stderr",
     "output_type": "stream",
     "text": [
      "C:\\Users\\PC\\AppData\\Local\\Enthought\\Canopy\\edm\\envs\\User\\lib\\site-packages\\sklearn\\utils\\validation.py:578: DataConversionWarning: A column-vector y was passed when a 1d array was expected. Please change the shape of y to (n_samples, ), for example using ravel().\n",
      "  y = column_or_1d(y, warn=True)\n"
     ]
    }
   ],
   "source": [
    "penalties = [1, 10, 100]\n",
    "epsilons = [0.1, 0.2, 0.3]\n",
    "\n",
    "\n",
    "for c in penalties:\n",
    "    for e in epsilons:\n",
    "        model = SVR(kernel=\"linear\", C=c, epsilon=e).fit(X_train, y_train)\n",
    "        train_score = model.score(X_train, y_train)\n",
    "        test_score = model.score(X_test, y_test)\n",
    "        print(\"Penalty: \"+str(c)+\". Epsilon: \"+str(e)+\". Training Score: \"+str(train_score)+\". Test score: \"+str(test_score))\n",
    "    "
   ]
  },
  {
   "cell_type": "markdown",
   "metadata": {
    "deletable": true,
    "editable": true
   },
   "source": [
    "## Conclusion"
   ]
  },
  {
   "cell_type": "markdown",
   "metadata": {
    "deletable": true,
    "editable": true
   },
   "source": [
    "<font size=4> Based on Training Score, best model is the one with penalty=1 and epsilon=0.1(default value) (Train Score: 0.946)\n"
   ]
  },
  {
   "cell_type": "markdown",
   "metadata": {
    "deletable": true,
    "editable": true
   },
   "source": [
    "<font size=4> Based on Test Score, best model is the one with penalty=10 and epsilon=0.1 (Test Score: 0.454)"
   ]
  },
  {
   "cell_type": "markdown",
   "metadata": {
    "deletable": true,
    "editable": true
   },
   "source": [
    "<font size=4> So far, we have got three good models:"
   ]
  },
  {
   "cell_type": "markdown",
   "metadata": {
    "deletable": true,
    "editable": true
   },
   "source": [
    "<font size=4> \n",
    "Model 1: Kernel = Linear, Penalty = 1(Default), Epsilon = 0.1(Default)<br>\n",
    "Model 2: Kernel = Linear, Penalty = 10, Epsilon = 0.1(Default)<br>\n",
    "Model 3: Kernel = Linear, Penalty = 100, Epsilon = 0.1(Default)"
   ]
  },
  {
   "cell_type": "code",
   "execution_count": 23,
   "metadata": {
    "collapsed": false,
    "deletable": true,
    "editable": true
   },
   "outputs": [
    {
     "name": "stderr",
     "output_type": "stream",
     "text": [
      "C:\\Users\\PC\\AppData\\Local\\Enthought\\Canopy\\edm\\envs\\User\\lib\\site-packages\\sklearn\\utils\\validation.py:578: DataConversionWarning: A column-vector y was passed when a 1d array was expected. Please change the shape of y to (n_samples, ), for example using ravel().\n",
      "  y = column_or_1d(y, warn=True)\n"
     ]
    }
   ],
   "source": [
    "model_1 = SVR(kernel=\"linear\", C=1, epsilon=0.1).fit(X_train, y_train)"
   ]
  },
  {
   "cell_type": "code",
   "execution_count": 24,
   "metadata": {
    "collapsed": false,
    "deletable": true,
    "editable": true
   },
   "outputs": [
    {
     "name": "stderr",
     "output_type": "stream",
     "text": [
      "C:\\Users\\PC\\AppData\\Local\\Enthought\\Canopy\\edm\\envs\\User\\lib\\site-packages\\sklearn\\utils\\validation.py:578: DataConversionWarning: A column-vector y was passed when a 1d array was expected. Please change the shape of y to (n_samples, ), for example using ravel().\n",
      "  y = column_or_1d(y, warn=True)\n"
     ]
    }
   ],
   "source": [
    "model_2 = SVR(kernel=\"linear\", C=10, epsilon=0.1).fit(X_train, y_train)"
   ]
  },
  {
   "cell_type": "code",
   "execution_count": 37,
   "metadata": {
    "collapsed": false,
    "deletable": true,
    "editable": true
   },
   "outputs": [
    {
     "name": "stderr",
     "output_type": "stream",
     "text": [
      "C:\\Users\\PC\\AppData\\Local\\Enthought\\Canopy\\edm\\envs\\User\\lib\\site-packages\\sklearn\\utils\\validation.py:578: DataConversionWarning: A column-vector y was passed when a 1d array was expected. Please change the shape of y to (n_samples, ), for example using ravel().\n",
      "  y = column_or_1d(y, warn=True)\n"
     ]
    }
   ],
   "source": [
    "model_3 = SVR(kernel=\"linear\", C=100, epsilon=0.1).fit(X_train, y_train)"
   ]
  },
  {
   "cell_type": "markdown",
   "metadata": {
    "deletable": true,
    "editable": true
   },
   "source": [
    "### Attention: Model Selection splits the data differently in each run, so score values are different for each \"Run\".<br>If not \"shuffle=False\""
   ]
  },
  {
   "cell_type": "markdown",
   "metadata": {},
   "source": [
    "## prediction with model 3:\n",
    "let's predict first value of benefit(y) with x1(R&D Spend), x2(Administration) ,x3(Marketing Spend) features to see the prediction acuracy with model 3. x1=162597.7,x2=151377.59,  x3=443898.53 and y=192261.83\n"
   ]
  },
  {
   "cell_type": "code",
   "execution_count": 45,
   "metadata": {
    "collapsed": false,
    "scrolled": true
   },
   "outputs": [
    {
     "data": {
      "text/plain": [
       "array([ 164053.26975896])"
      ]
     },
     "execution_count": 45,
     "metadata": {},
     "output_type": "execute_result"
    }
   ],
   "source": [
    "y_pred= model_3.predict([[ 162597.7 ,  151377.59,  443898.53]])\n",
    "y_pred"
   ]
  },
  {
   "cell_type": "markdown",
   "metadata": {},
   "source": [
    "as its clear the y_pred=164053.27 with model 3 (Penalty: 100, Epsilon: 0.1, Training Score: 0.9458, Test score: 0.4538) so the test acuracy of this model is 0.45 and the diffrence between y_pred=164053.26 and real y=192261.83 is acceptable. now you can try any new values for x1,x2,x3 and predict y as benefit of the new start up."
   ]
  },
  {
   "cell_type": "markdown",
   "metadata": {
    "deletable": true,
    "editable": true
   },
   "source": [
    "## Questions"
   ]
  },
  {
   "cell_type": "markdown",
   "metadata": {
    "deletable": true,
    "editable": true
   },
   "source": [
    "Find another dataset and construct questions"
   ]
  }
 ],
 "metadata": {
  "kernelspec": {
   "display_name": "Python 3",
   "language": "python",
   "name": "python3"
  },
  "language_info": {
   "codemirror_mode": {
    "name": "ipython",
    "version": 3
   },
   "file_extension": ".py",
   "mimetype": "text/x-python",
   "name": "python",
   "nbconvert_exporter": "python",
   "pygments_lexer": "ipython3",
   "version": "3.5.2"
  }
 },
 "nbformat": 4,
 "nbformat_minor": 2
}
