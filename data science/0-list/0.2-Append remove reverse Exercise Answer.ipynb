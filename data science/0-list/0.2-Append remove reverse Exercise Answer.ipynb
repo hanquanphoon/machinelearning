{
 "cells": [
  {
   "cell_type": "markdown",
   "metadata": {},
   "source": [
    "## Exercise Answer\n",
    "<br>\n",
    "<div style=\"font-size:16px; line-height:25pt\">\n",
    "    <h3>Task 1.</h3>\n",
    "    Below shows a list with contains 10 elements. Without using numpy, <b>add another 5 more random elements in the range of (-10,10)</b> into the list.\n",
    "</div>\n",
    "\n",
    "> **Hints:**\n",
    "> 1. import random\n",
    "> 1. use ***list.append(items)***"
   ]
  },
  {
   "cell_type": "code",
   "execution_count": null,
   "metadata": {},
   "outputs": [],
   "source": [
    "import random\n",
    "data = [-10, -4, 0, 6, 5, 0, 3, 8, -7, -7]\n",
    "\n",
    "for i in range(10):\n",
    "    data.append(random.randint(-10,10))\n",
    "data"
   ]
  },
  {
   "cell_type": "markdown",
   "metadata": {},
   "source": [
    "<div style=\"font-size:16px; line-height:25pt\">\n",
    "    <h3>Task 2.</h3>\n",
    "    Use the list that you have created from the previous task, now, <b>remove the item with index 5</b> and print the list. After that, <b>remove the item with index 10</b> and print the list again.\n",
    "</div>\n",
    "\n",
    "> **Hints:**\n",
    "> 1. use ***list.pop(index)***"
   ]
  },
  {
   "cell_type": "code",
   "execution_count": null,
   "metadata": {},
   "outputs": [],
   "source": [
    "data.pop(5)\n",
    "print data\n",
    "\n",
    "data.pop(6)\n",
    "print data"
   ]
  },
  {
   "cell_type": "markdown",
   "metadata": {},
   "source": [
    "<div style=\"font-size:16px; line-height:25pt\">\n",
    "    <h3>Task 3.</h3>\n",
    "    Now, use the list that you have created from the previous task and reverse the elements order.\n",
    "</div>\n",
    "\n",
    "> **Hints:**\n",
    "> 1. Use ***list.reverse()***"
   ]
  },
  {
   "cell_type": "code",
   "execution_count": null,
   "metadata": {},
   "outputs": [],
   "source": [
    "data.reverse()\n",
    "print data"
   ]
  },
  {
   "cell_type": "markdown",
   "metadata": {},
   "source": [
    "<div style=\"font-size:16px; line-height:25pt\">\n",
    "    <h3>Task 4.</h3>\n",
    "    Below shows a list with contains 5 elements. Without using numpy, <b>add more elements</b> into the list that will make up the <b>list to have 20 elements</b>. Set the <b>range of elements in the list to (-20, 20)</b>.\n",
    "</div>"
   ]
  },
  {
   "cell_type": "code",
   "execution_count": null,
   "metadata": {},
   "outputs": [],
   "source": [
    "import random\n",
    "x = [15, 1, 15, 10, 3]\n",
    "\n",
    "for i in range(15):\n",
    "    x.append(random.randint(-20,20))\n",
    "print x\n",
    "\n",
    "print len(x)"
   ]
  },
  {
   "cell_type": "markdown",
   "metadata": {},
   "source": [
    "<div style=\"font-size:16px; line-height:25pt\">\n",
    "    <h3>Task 5.</h3>\n",
    "    Use the list that you have created from the previous task, now, <b>remove all the values that is bigger then 10</b> in the list.\n",
    "</div>\n",
    "\n",
    "> **Hints:**\n",
    "> 1. use ***list.remove(item_to_remove)***"
   ]
  },
  {
   "cell_type": "code",
   "execution_count": null,
   "metadata": {},
   "outputs": [],
   "source": [
    "for i in x:\n",
    "    if i > 10:\n",
    "        x.remove(i)\n",
    "        \n",
    "print x"
   ]
  },
  {
   "cell_type": "markdown",
   "metadata": {},
   "source": [
    "<div style=\"font-size:16px; line-height:25pt\">\n",
    "    <h3>Task 6.</h3>\n",
    "    Now, use the list that you have created from the previous task and reverse the elements order.\n",
    "</div>\n",
    "\n",
    "> **Hints:**\n",
    "> 1. Use ***list.reverse()***"
   ]
  },
  {
   "cell_type": "code",
   "execution_count": null,
   "metadata": {},
   "outputs": [],
   "source": [
    "x.reverse()\n",
    "print x"
   ]
  },
  {
   "cell_type": "markdown",
   "metadata": {},
   "source": [
    "<div style=\"font-size:16px; line-height:25pt\">\n",
    "    <h3>Task 7.</h3>\n",
    "    Below shows a list which contains 5 elements. By using <b>Numpy</b>, <b>add more elements</b> into the list that will make up the <b>list to have 30 elements</b>. Set the <b>range of elements in the list to (-30, 30)</b>\n",
    "</div>\n",
    "\n",
    "> **Hints:**\n",
    "> 1. Use ***numpy.append(array, value, axis)***"
   ]
  },
  {
   "cell_type": "code",
   "execution_count": 10,
   "metadata": {},
   "outputs": [
    {
     "name": "stdout",
     "output_type": "stream",
     "text": [
      "[  3 -15 -12 -29 -15  -2 -18   3 -16  -2  12  25 -18  30  26  -3  29  14\n",
      "  12  -3  -5  11 -26   2  26 -23  26 -12 -22  -2]\n"
     ]
    }
   ],
   "source": [
    "import numpy as np\n",
    "import random\n",
    "data = np.array([3, -15, -12, -29, -15])\n",
    "\n",
    "for i in range(25):\n",
    "    data = np.append(data, [random.randint(-30,30)])\n",
    "    \n",
    "print data"
   ]
  },
  {
   "cell_type": "markdown",
   "metadata": {},
   "source": [
    "<div style=\"font-size:16px; line-height:25pt\">\n",
    "    <h3>Task 8.</h3>\n",
    "    Use the list that you have created from the previous task, now, <b>remove the values with the index of 15 and 25</b> in the list.\n",
    "</div>\n",
    "\n",
    "> **Hints:**\n",
    "> 1. Use ***numpy.delete(arr, obj, axis=None)***"
   ]
  },
  {
   "cell_type": "code",
   "execution_count": 11,
   "metadata": {},
   "outputs": [
    {
     "name": "stdout",
     "output_type": "stream",
     "text": [
      "[  3 -15 -12 -29 -15  -2 -18   3 -16  -2  12  25 -18  30  26  29  14  12\n",
      "  -3  -5  11 -26   2  26 -23 -12 -22  -2]\n"
     ]
    }
   ],
   "source": [
    "data = np.delete(data, [15])\n",
    "data = np.delete(data, [25])\n",
    "\n",
    "print data"
   ]
  },
  {
   "cell_type": "markdown",
   "metadata": {},
   "source": [
    "<div style=\"font-size:16px; line-height:25pt\">\n",
    "    <h3>Task 9.</h3>\n",
    "    Now, use the list that you have created from the previous task and reverse the elements order.\n",
    "</div>\n",
    "\n",
    "> **Hints:**\n",
    "> 1. Use ***numpy.flip(m, axis=None)***"
   ]
  },
  {
   "cell_type": "code",
   "execution_count": 12,
   "metadata": {},
   "outputs": [
    {
     "name": "stdout",
     "output_type": "stream",
     "text": [
      "[ -2 -22 -12 -23  26   2 -26  11  -5  -3  12  14  29  26  30 -18  25  12\n",
      "  -2 -16   3 -18  -2 -15 -29 -12 -15   3]\n"
     ]
    }
   ],
   "source": [
    "data = np.flip(data)\n",
    "print data"
   ]
  },
  {
   "cell_type": "markdown",
   "metadata": {},
   "source": [
    "<div style=\"font-size:16px; line-height:25pt\">\n",
    "    <h3>Task 10.</h3>\n",
    "    Now, try to do this, by using <b>numpy</b>\n",
    "    <ol>\n",
    "        <li>Create a list that contain random values in the range of -100 to 100. Set the size of the list to be 50</li>\n",
    "        <li>Calculate the different between the max and min values from the list</li>\n",
    "        <li>Find the average of the list. Make sure that the values is in float number.</li>\n",
    "        <li>Reverse the elements order in the list</li>\n",
    "    </ol>\n",
    "</div>"
   ]
  },
  {
   "cell_type": "code",
   "execution_count": 23,
   "metadata": {
    "scrolled": true
   },
   "outputs": [
    {
     "name": "stdout",
     "output_type": "stream",
     "text": [
      "[ -49   49   26   33  -90   76   31  -32  -75  -89  -65  -57   62    4\n",
      "   48   79  -36   96 -100   -3  -36   17  -40  -95   19   -1  -71  -56\n",
      "  -71    0  -64   45  -58   24   -9   41  -26  -34   87  -24  -27   46\n",
      "   59   70   92   15   54  -57   57  -23]\n",
      "196\n",
      "-3.16\n",
      "[ -23   57  -57   54   15   92   70   59   46  -27  -24   87  -34  -26\n",
      "   41   -9   24  -58   45  -64    0  -71  -56  -71   -1   19  -95  -40\n",
      "   17  -36   -3 -100   96  -36   79   48    4   62  -57  -65  -89  -75\n",
      "  -32   31   76  -90   33   26   49  -49]\n"
     ]
    }
   ],
   "source": [
    "import numpy as np\n",
    "data = np.random.randint(-100,100,50)\n",
    "print data\n",
    "\n",
    "print max(data)-min(data)\n",
    "print float(sum(data)) / len(data)\n",
    "data = np.flip(data)\n",
    "print data"
   ]
  },
  {
   "cell_type": "markdown",
   "metadata": {},
   "source": [
    "<br><br>\n",
    "\n",
    "## Exercise\n",
    "<br>\n",
    "<div style=\"font-size:16px; line-height:25pt\">\n",
    "    <h3>Task 1.</h3>\n",
    "    Below shows a list with contains 10 elements. Without using numpy, <b>add another 5 more random elements in the range of (-10,10)</b> into the list.\n",
    "</div>\n",
    "\n",
    "> **Hints:**\n",
    "> 1. import random\n",
    "> 1. use ***list.append(items)***"
   ]
  },
  {
   "cell_type": "code",
   "execution_count": null,
   "metadata": {},
   "outputs": [],
   "source": [
    "import random\n",
    "data = [-10, -4, 0, 6, 5, 0, 3, 8, -7, -7]\n",
    "\n",
    "for i in range(10):\n",
    "    data.append(random.randint(-10,10))\n",
    "data"
   ]
  },
  {
   "cell_type": "markdown",
   "metadata": {},
   "source": [
    "<div style=\"font-size:16px; line-height:25pt\">\n",
    "    <h3>Task 2.</h3>\n",
    "    Use the list that you have created from the previous task, now, <b>remove the item with index 5</b> and print the list. After that, <b>remove the item with index 10</b> and print the list again.\n",
    "</div>\n",
    "\n",
    "> **Hints:**\n",
    "> 1. use ***list.pop(index)***"
   ]
  },
  {
   "cell_type": "code",
   "execution_count": null,
   "metadata": {},
   "outputs": [],
   "source": [
    "data.pop(5)\n",
    "print data\n",
    "\n",
    "data.pop(6)\n",
    "print data"
   ]
  },
  {
   "cell_type": "markdown",
   "metadata": {},
   "source": [
    "<div style=\"font-size:16px; line-height:25pt\">\n",
    "    <h3>Task 3.</h3>\n",
    "    Now, use the list that you have created from the previous task and reverse the elements order.\n",
    "</div>\n",
    "\n",
    "> **Hints:**\n",
    "> 1. Use ***list.reverse()***"
   ]
  },
  {
   "cell_type": "code",
   "execution_count": null,
   "metadata": {},
   "outputs": [],
   "source": [
    "data.reverse()\n",
    "print data"
   ]
  },
  {
   "cell_type": "markdown",
   "metadata": {},
   "source": [
    "<div style=\"font-size:16px; line-height:25pt\">\n",
    "    <h3>Task 4.</h3>\n",
    "    Below shows a list with contains 5 elements. Without using numpy, <b>add more elements</b> into the list that will make up the <b>list to have 20 elements</b>. Set the <b>range of elements in the list to (-20, 20)</b>.\n",
    "</div>"
   ]
  },
  {
   "cell_type": "code",
   "execution_count": null,
   "metadata": {},
   "outputs": [],
   "source": [
    "import random\n",
    "x = [15, 1, 15, 10, 3]\n",
    "\n",
    "for i in range(15):\n",
    "    x.append(random.randint(-20,20))\n",
    "print x\n",
    "\n",
    "print len(x)"
   ]
  },
  {
   "cell_type": "markdown",
   "metadata": {},
   "source": [
    "<div style=\"font-size:16px; line-height:25pt\">\n",
    "    <h3>Task 5.</h3>\n",
    "    Use the list that you have created from the previous task, now, <b>remove all the values that is bigger then 10</b> in the list.\n",
    "</div>\n",
    "\n",
    "> **Hints:**\n",
    "> 1. use ***list.remove(item_to_remove)***"
   ]
  },
  {
   "cell_type": "code",
   "execution_count": null,
   "metadata": {},
   "outputs": [],
   "source": [
    "for i in x:\n",
    "    if i > 10:\n",
    "        x.remove(i)\n",
    "        \n",
    "print x"
   ]
  },
  {
   "cell_type": "markdown",
   "metadata": {},
   "source": [
    "<div style=\"font-size:16px; line-height:25pt\">\n",
    "    <h3>Task 6.</h3>\n",
    "    Now, use the list that you have created from the previous task and reverse the elements order.\n",
    "</div>\n",
    "\n",
    "> **Hints:**\n",
    "> 1. Use ***list.reverse()***"
   ]
  },
  {
   "cell_type": "code",
   "execution_count": null,
   "metadata": {},
   "outputs": [],
   "source": [
    "x.reverse()\n",
    "print x"
   ]
  },
  {
   "cell_type": "markdown",
   "metadata": {},
   "source": [
    "<div style=\"font-size:16px; line-height:25pt\">\n",
    "    <h3>Task 7.</h3>\n",
    "    Below shows a list which contains 5 elements. By using <b>Numpy</b>, <b>add more elements</b> into the list that will make up the <b>list to have 30 elements</b>. Set the <b>range of elements in the list to (-30, 30)</b>\n",
    "</div>\n",
    "\n",
    "> **Hints:**\n",
    "> 1. Use ***numpy.append(array, value, axis)***"
   ]
  },
  {
   "cell_type": "code",
   "execution_count": 10,
   "metadata": {},
   "outputs": [
    {
     "name": "stdout",
     "output_type": "stream",
     "text": [
      "[  3 -15 -12 -29 -15  -2 -18   3 -16  -2  12  25 -18  30  26  -3  29  14\n",
      "  12  -3  -5  11 -26   2  26 -23  26 -12 -22  -2]\n"
     ]
    }
   ],
   "source": [
    "import numpy as np\n",
    "import random\n",
    "data = np.array([3, -15, -12, -29, -15])\n",
    "\n",
    "for i in range(25):\n",
    "    data = np.append(data, [random.randint(-30,30)])\n",
    "    \n",
    "print data"
   ]
  },
  {
   "cell_type": "markdown",
   "metadata": {},
   "source": [
    "<div style=\"font-size:16px; line-height:25pt\">\n",
    "    <h3>Task 8.</h3>\n",
    "    Use the list that you have created from the previous task, now, <b>remove the values with the index of 15 and 25</b> in the list.\n",
    "</div>\n",
    "\n",
    "> **Hints:**\n",
    "> 1. Use ***numpy.delete(arr, obj, axis=None)***"
   ]
  },
  {
   "cell_type": "code",
   "execution_count": 11,
   "metadata": {},
   "outputs": [
    {
     "name": "stdout",
     "output_type": "stream",
     "text": [
      "[  3 -15 -12 -29 -15  -2 -18   3 -16  -2  12  25 -18  30  26  29  14  12\n",
      "  -3  -5  11 -26   2  26 -23 -12 -22  -2]\n"
     ]
    }
   ],
   "source": [
    "data = np.delete(data, [15])\n",
    "data = np.delete(data, [25])\n",
    "\n",
    "print data"
   ]
  },
  {
   "cell_type": "markdown",
   "metadata": {},
   "source": [
    "<div style=\"font-size:16px; line-height:25pt\">\n",
    "    <h3>Task 9.</h3>\n",
    "    Now, use the list that you have created from the previous task and reverse the elements order.\n",
    "</div>\n",
    "\n",
    "> **Hints:**\n",
    "> 1. Use ***numpy.flip(m, axis=None)***"
   ]
  },
  {
   "cell_type": "code",
   "execution_count": 12,
   "metadata": {},
   "outputs": [
    {
     "name": "stdout",
     "output_type": "stream",
     "text": [
      "[ -2 -22 -12 -23  26   2 -26  11  -5  -3  12  14  29  26  30 -18  25  12\n",
      "  -2 -16   3 -18  -2 -15 -29 -12 -15   3]\n"
     ]
    }
   ],
   "source": [
    "data = np.flip(data)\n",
    "print data"
   ]
  },
  {
   "cell_type": "markdown",
   "metadata": {},
   "source": [
    "<div style=\"font-size:16px; line-height:25pt\">\n",
    "    <h3>Task 10.</h3>\n",
    "    Now, try to do this, by using <b>numpy</b>\n",
    "    <ol>\n",
    "        <li>Create a list that contain random values in the range of -100 to 100. Set the size of the list to be 50</li>\n",
    "        <li>Calculate the different between the max and min values from the list</li>\n",
    "        <li>Find the average of the list. Make sure that the values is in float number.</li>\n",
    "        <li>Reverse the elements order in the list</li>\n",
    "    </ol>\n",
    "</div>"
   ]
  },
  {
   "cell_type": "code",
   "execution_count": 23,
   "metadata": {
    "scrolled": true
   },
   "outputs": [
    {
     "name": "stdout",
     "output_type": "stream",
     "text": [
      "[ -49   49   26   33  -90   76   31  -32  -75  -89  -65  -57   62    4\n",
      "   48   79  -36   96 -100   -3  -36   17  -40  -95   19   -1  -71  -56\n",
      "  -71    0  -64   45  -58   24   -9   41  -26  -34   87  -24  -27   46\n",
      "   59   70   92   15   54  -57   57  -23]\n",
      "196\n",
      "-3.16\n",
      "[ -23   57  -57   54   15   92   70   59   46  -27  -24   87  -34  -26\n",
      "   41   -9   24  -58   45  -64    0  -71  -56  -71   -1   19  -95  -40\n",
      "   17  -36   -3 -100   96  -36   79   48    4   62  -57  -65  -89  -75\n",
      "  -32   31   76  -90   33   26   49  -49]\n"
     ]
    }
   ],
   "source": [
    "import numpy as np\n",
    "data = np.random.randint(-100,100,50)\n",
    "print data\n",
    "\n",
    "print max(data)-min(data)\n",
    "print float(sum(data)) / len(data)\n",
    "data = np.flip(data)\n",
    "print data"
   ]
  }
 ],
 "metadata": {
  "kernelspec": {
   "display_name": "Python 2",
   "language": "python",
   "name": "python2"
  },
  "language_info": {
   "codemirror_mode": {
    "name": "ipython",
    "version": 2
   },
   "file_extension": ".py",
   "mimetype": "text/x-python",
   "name": "python",
   "nbconvert_exporter": "python",
   "pygments_lexer": "ipython2",
   "version": "2.7.13"
  }
 },
 "nbformat": 4,
 "nbformat_minor": 2
}
