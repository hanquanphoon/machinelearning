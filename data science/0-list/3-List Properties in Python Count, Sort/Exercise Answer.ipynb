{
 "cells": [
  {
   "cell_type": "markdown",
   "metadata": {},
   "source": [
    "## Exercise Answer\n",
    "<br>\n",
    "<div style=\"font-size:16px; line-height:25pt\">\n",
    "    <h3>Task 1.</h3>\n",
    "    Without using numpy, create a <b>list that contains 20 random number in the range of 1 to 10</b>. Then <b>count how many 4 </b>does the list contains.\n",
    "</div>\n",
    "\n",
    "> **Hints:**\n",
    "> 1. use ***list.count(x)***"
   ]
  },
  {
   "cell_type": "code",
   "execution_count": 10,
   "metadata": {},
   "outputs": [
    {
     "name": "stdout",
     "output_type": "stream",
     "text": [
      "[1, 4, 6, 1, 6, 5, 9, 2, 7, 6, 6, 8, 1, 8, 6, 8, 7, 5, 1, 3]\n",
      "1\n"
     ]
    }
   ],
   "source": [
    "import random\n",
    "data = []\n",
    "for i in range(20):\n",
    "    data.append(random.randint(1,10))\n",
    "    \n",
    "print(data)\n",
    "print(data.count(4))"
   ]
  },
  {
   "cell_type": "markdown",
   "metadata": {},
   "source": [
    "<div style=\"font-size:16px; line-height:25pt\">\n",
    "    <h3>Task 2.</h3>\n",
    "    Use the list that you have created from the previous task, now, <b>arrange the elements inside the list in accending order</b>.\n",
    "</div>\n",
    "\n",
    "> **Hints:**\n",
    "> 1. use ***list.sort()***"
   ]
  },
  {
   "cell_type": "code",
   "execution_count": 11,
   "metadata": {},
   "outputs": [
    {
     "name": "stdout",
     "output_type": "stream",
     "text": [
      "[1, 1, 1, 1, 2, 3, 4, 5, 5, 6, 6, 6, 6, 6, 7, 7, 8, 8, 8, 9]\n"
     ]
    }
   ],
   "source": [
    "data.sort()\n",
    "print(data)"
   ]
  },
  {
   "cell_type": "markdown",
   "metadata": {},
   "source": [
    "<div style=\"font-size:16px; line-height:25pt\">\n",
    "    <h3>Task 3.</h3>\n",
    "    Without using numpy, create a <b>list that contains 30 random number in the range of 0 to 10</b>. From the list, <b>count how many 2 and 6</b> is contains inside the list.\n",
    "</div>"
   ]
  },
  {
   "cell_type": "code",
   "execution_count": 15,
   "metadata": {},
   "outputs": [
    {
     "name": "stdout",
     "output_type": "stream",
     "text": [
      "[9, 2, 7, 10, 1, 8, 8, 8, 8, 0, 9, 8, 7, 8, 10, 6, 5, 7, 6, 5, 7, 8, 8, 9, 0, 4, 5, 10, 2, 2]\n",
      "3\n",
      "2\n"
     ]
    }
   ],
   "source": [
    "import random\n",
    "data1 = []\n",
    "for i in range(30):\n",
    "    data1.append(random.randint(0,10))\n",
    "    \n",
    "print(data1)\n",
    "\n",
    "print(data1.count(2))\n",
    "print(data1.count(6))"
   ]
  },
  {
   "cell_type": "markdown",
   "metadata": {},
   "source": [
    "<div style=\"font-size:16px; line-height:25pt\">\n",
    "    <h3>Task 4.</h3>\n",
    "    Use the list that you have created from the previous task, now, <b>arrange the elements inside the list in descending order</b>.\n",
    "</div>\n",
    "\n",
    "> **Hints:**\n",
    "> 1. use ***list.sort( reverse = False )***"
   ]
  },
  {
   "cell_type": "code",
   "execution_count": 17,
   "metadata": {},
   "outputs": [
    {
     "name": "stdout",
     "output_type": "stream",
     "text": [
      "[10, 10, 10, 9, 9, 9, 8, 8, 8, 8, 8, 8, 8, 8, 7, 7, 7, 7, 6, 6, 5, 5, 5, 4, 2, 2, 2, 1, 0, 0]\n"
     ]
    }
   ],
   "source": [
    "data1.sort( reverse = True )\n",
    "print(data1)"
   ]
  },
  {
   "cell_type": "markdown",
   "metadata": {},
   "source": [
    "<div style=\"font-size:16px; line-height:25pt\">\n",
    "    <h3>Task 5.</h3>\n",
    "    Using numpy, create a <b>list that contains 20 random number in the range of 10 to 20</b>. Then <b>count how many 15 </b>does the list contains.\n",
    "</div>\n",
    "\n",
    "> **Hints:**\n",
    "> 1. use ***numpy.count_nonzero( array == x_value )***"
   ]
  },
  {
   "cell_type": "code",
   "execution_count": 20,
   "metadata": {},
   "outputs": [
    {
     "name": "stdout",
     "output_type": "stream",
     "text": [
      "[15 13 10 14 18 15 19 14 11 14 16 19 12 17 19 17 11 17 12 18]\n",
      "2\n"
     ]
    }
   ],
   "source": [
    "import numpy as np\n",
    "data2 = np.random.randint(10,20,20)\n",
    "print(data2)\n",
    "\n",
    "print(np.count_nonzero(data2 == 15))"
   ]
  },
  {
   "cell_type": "markdown",
   "metadata": {},
   "source": [
    "<div style=\"font-size:16px; line-height:25pt\">\n",
    "    <h3>Task 6.</h3>\n",
    "    Use the list that you have created from the previous task, now, <b>arrange the elements inside the list</b>.\n",
    "</div>\n",
    "\n",
    "> **Hints:**\n",
    "> 1. use ***numpy.sort(a, axis=-1, kind=None, order=None)***"
   ]
  },
  {
   "cell_type": "code",
   "execution_count": 21,
   "metadata": {},
   "outputs": [
    {
     "name": "stdout",
     "output_type": "stream",
     "text": [
      "[10 11 11 12 12 13 14 14 14 15 15 16 17 17 17 18 18 19 19 19]\n"
     ]
    }
   ],
   "source": [
    "print(np.sort(data2))"
   ]
  },
  {
   "cell_type": "markdown",
   "metadata": {},
   "source": [
    "<div style=\"font-size:16px; line-height:25pt\">\n",
    "    <h3>Task 7.</h3>\n",
    "    Using numpy, create a <b>list that contains 50 random number in the range of -10 to 10</b>. From the list, <b>count how many -5 and 5</b> is contains inside the list.\n",
    "</div>"
   ]
  },
  {
   "cell_type": "code",
   "execution_count": 22,
   "metadata": {},
   "outputs": [
    {
     "name": "stdout",
     "output_type": "stream",
     "text": [
      "[ 6  2  8  6 -7 -4 -6  4 -4 -6 -1 -5  1  9  6  5  6  3  0  2 -5 -9 -9 -9\n",
      " -1  1  3 -5  9 -1  5 -2  7 -4 -9 -8  7  5  0  0 -7 -7  0 -2 -5  9  8  5\n",
      "  8  0]\n",
      "4\n",
      "4\n"
     ]
    }
   ],
   "source": [
    "import numpy as np\n",
    "data3 = np.random.randint(-10,10,50)\n",
    "print(data3)\n",
    "\n",
    "print(np.count_nonzero(data3 == -5))\n",
    "print(np.count_nonzero(data3 == 5))"
   ]
  },
  {
   "cell_type": "markdown",
   "metadata": {},
   "source": [
    "<div style=\"font-size:16px; line-height:25pt\">\n",
    "    <h3>Task 8.</h3>\n",
    "    Use the list that you have created from the previous task, now, <b>arrange the elements inside the list</b>.\n",
    "</div>"
   ]
  },
  {
   "cell_type": "code",
   "execution_count": 23,
   "metadata": {
    "scrolled": true
   },
   "outputs": [
    {
     "name": "stdout",
     "output_type": "stream",
     "text": [
      "[-9 -9 -9 -9 -8 -7 -7 -7 -6 -6 -5 -5 -5 -5 -4 -4 -4 -2 -2 -1 -1 -1  0  0\n",
      "  0  0  0  1  1  2  2  3  3  4  5  5  5  5  6  6  6  6  7  7  8  8  8  9\n",
      "  9  9]\n"
     ]
    }
   ],
   "source": [
    "print(np.sort(data3))"
   ]
  },
  {
   "cell_type": "markdown",
   "metadata": {},
   "source": [
    "<div style=\"font-size:16px; line-height:25pt\">\n",
    "    <h3>Task 9.</h3>\n",
    "    Using numpy, create a list that contains 200 random numbers in the range of -20 to 20. Find\n",
    "    <ol>\n",
    "        <li>the <b>average</b> of the list</li>\n",
    "        <li>the <b>differance</b> between the <b>largest number and the smallest number</b></li>\n",
    "        <li>find <b>how many times 7</b> appears in the list and <b>find the total</b> of it</li>\n",
    "    </ol>\n",
    "</div>\n",
    "\n",
    "> **Hints:**\n",
    "> 1. use ***numpy.count_nonzero( array == x_value )*** and multiply it with x value"
   ]
  },
  {
   "cell_type": "code",
   "execution_count": 25,
   "metadata": {},
   "outputs": [
    {
     "name": "stdout",
     "output_type": "stream",
     "text": [
      "[ -1   5  11  -3  16  13   8   4 -15 -11 -17  -6   8   8   1  17   8 -14\n",
      "  12   2  13 -18 -15   9  -4  -9 -12   3  -7  -8  -1  10   0  17  -3   5\n",
      " -17  11 -18   5 -18  -6  11  15  14  14 -11  16 -11  19 -11  16 -19  -5\n",
      "  17 -16  -6  15  10  -5 -17  16   3  -1 -11  -3   9 -11   3 -19 -12   3\n",
      " -11 -17  15  17   8   8   8  18  17  -6  16   9   0   2  -2  18  -7   9\n",
      "  -4   4  19  -4  -8  16  18  11  16  15   0 -20  -5  10  -6  -3  17  19\n",
      "   3 -14 -17  19   9 -12  10  -8  19 -16  14   0  -7   2   7  -8 -11  -1\n",
      "  18  -9  13 -12   9 -20   7  -4  18  16   9  16  10  18  -8  14   9   3\n",
      "  -7   5 -13  -7   9  11 -10  -4  12   8  -3  -5   0 -17   3  19  18   9\n",
      "   2   6  11   6 -17  -7 -17   1   8  -6  17 -19  -1  -7   5  -7  -4   3\n",
      " -16   0  12  -4   3   1   6 -12   8 -13  -4   4  -6  -8 -10   3  16 -17\n",
      "  13  13]\n",
      "1.45\n",
      "39\n",
      "2\n",
      "14\n"
     ]
    }
   ],
   "source": [
    "import numpy as np\n",
    "data4 = np.random.randint(-20,20,200)\n",
    "print(data4)\n",
    "\n",
    "print(sum(data4) / len(data4))\n",
    "print(max(data4) - min(data4))\n",
    "print(np.count_nonzero( data4 == 7))\n",
    "print(np.count_nonzero( data4 == 7)*7)"
   ]
  },
  {
   "cell_type": "markdown",
   "metadata": {},
   "source": [
    "<div style=\"font-size:16px; line-height:25pt\">\n",
    "    <h3>Task 10.</h3>\n",
    "    Use numpy<br>\n",
    "    Below shows a list that contains 20 random number in the range(10, 20). Do:\n",
    "    <ol>\n",
    "        <li><b>add more elements</b> into the list that will make up the list to have <b>500 elements</b>. Set the <b>range</b> of elements in the list to <b>(-30, 30)</b></li>\n",
    "        <li>find <b>how many times 21</b> appears in the list</li>\n",
    "        <li><b>arrange the list</b></li>\n",
    "    </ol>\n",
    "</div>"
   ]
  },
  {
   "cell_type": "code",
   "execution_count": 38,
   "metadata": {
    "scrolled": false
   },
   "outputs": [
    {
     "name": "stdout",
     "output_type": "stream",
     "text": [
      "[18 17 12 18 15 12 14 13 11 18 18 14 16 17 13 19 12 14 15 15]\n",
      "[ 18  17  12  18  15  12  14  13  11  18  18  14  16  17  13  19  12  14\n",
      "  15  15 -28 -19  27 -28  17 -15   2   5 -24 -29  29  -2   3   0 -20  14\n",
      "   7  -3 -16 -29   5 -13   6 -11  19 -22  29 -23 -22  -9  -9   1 -30 -10\n",
      " -21 -13  13  18 -25 -17  29  -7  16  22  -1  22  -8 -20 -26  10   0  20\n",
      "  16 -13  21 -25 -17 -27   3  26  -3 -17  18 -15  15   5  -9 -11  -6  28\n",
      " -12  -9  26  16  19  29  -4 -11  25 -28  25 -10 -14   4  -9   2 -22  15\n",
      " -12  -1   0   0  -7  -7   5 -12   1   8   2  18   9  -3  22  -7 -16  18\n",
      "  19  27 -27  15 -26  -4   3 -14  23 -27  28 -12 -13 -24  13 -29  -6  24\n",
      " -16   6  -8  10 -23 -13 -14 -22   8 -18 -18  26 -27   6 -30 -25 -26  18\n",
      "   6  14  21  -3  27  21  -7  12 -18  23   3 -14 -22  21  19  13 -30   1\n",
      " -22  -7   6 -29  14  28  12  27 -14 -22 -24 -16 -28  20   7   1 -24 -28\n",
      " -12 -24  22  17 -25  22  22   5  24   8  20   5 -12  17 -28  28  -7  21\n",
      "  25   5 -17  14  -8  28  11  17  27   5  -9  11 -14  11  18  11 -13  28\n",
      "  -9 -16  -3 -16  13  10 -16  19  13  15  21  28  26  10  13  27 -11  -8\n",
      " -12  -9 -26  27  15  -8   3 -11   8 -27 -27 -13  -6  18  27   7  22  -1\n",
      "  -6  29  27  -7 -29 -12 -23   8  -2  16 -13  -9 -18  24  22 -29 -22 -14\n",
      "  10   8   3 -28 -18  -1   7   0   9 -19  29  14  28  -5  -7   2 -30  -3\n",
      " -11  -4 -22   0  12  -3 -23  -9   8  -1  -9  11  -7 -23  22  -2  -5  28\n",
      " -17   6  13 -17  25  16  11 -16  23  13  21  14   4  16  29   1 -25  29\n",
      "  19  17 -25  -1 -13   4 -23 -13 -24  -9  19 -30 -14 -21 -10  -1  21 -25\n",
      "   1 -12 -23  -3  29  21 -28 -20 -14  29 -13  -8 -29  24 -15  26   0  24\n",
      "   8  -7  22  -8   1   7   6 -28 -14 -12  10  -5 -23  -3  20  15  -2  23\n",
      " -11  20  -1  22  10  11   8  25  -1 -29 -21   9 -24  -3 -19   4  19  -6\n",
      " -28 -25 -23   6 -24  -1 -20 -18   5  15 -19  -6   8   3   2   5 -12  -6\n",
      "  14  -2  25 -18   8   9 -21   1 -28  18 -16 -19  16 -19  19  17   1  27\n",
      "  24 -11   1  13   3   4 -30   4 -19  20 -28   1  -9 -10 -29 -29 -17  -1\n",
      " -22 -27  18 -13 -18  21  19  27 -19   2   8 -11  25   9  26 -10  -1  14\n",
      "   1  29 -15  15  -7  18  23 -25 -28  15  25   9  24   9] \n",
      "\n",
      "10 \n",
      "\n",
      "[-30 -30 -30 -30 -30 -30 -29 -29 -29 -29 -29 -29 -29 -29 -29 -29 -28 -28\n",
      " -28 -28 -28 -28 -28 -28 -28 -28 -28 -28 -28 -27 -27 -27 -27 -27 -27 -27\n",
      " -26 -26 -26 -26 -25 -25 -25 -25 -25 -25 -25 -25 -25 -24 -24 -24 -24 -24\n",
      " -24 -24 -24 -23 -23 -23 -23 -23 -23 -23 -23 -23 -22 -22 -22 -22 -22 -22\n",
      " -22 -22 -22 -22 -21 -21 -21 -21 -20 -20 -20 -20 -19 -19 -19 -19 -19 -19\n",
      " -19 -19 -18 -18 -18 -18 -18 -18 -18 -18 -17 -17 -17 -17 -17 -17 -17 -16\n",
      " -16 -16 -16 -16 -16 -16 -16 -16 -15 -15 -15 -15 -14 -14 -14 -14 -14 -14\n",
      " -14 -14 -14 -14 -13 -13 -13 -13 -13 -13 -13 -13 -13 -13 -13 -13 -12 -12\n",
      " -12 -12 -12 -12 -12 -12 -12 -12 -12 -11 -11 -11 -11 -11 -11 -11 -11 -11\n",
      " -10 -10 -10 -10 -10  -9  -9  -9  -9  -9  -9  -9  -9  -9  -9  -9  -9  -9\n",
      "  -8  -8  -8  -8  -8  -8  -8  -7  -7  -7  -7  -7  -7  -7  -7  -7  -7  -7\n",
      "  -7  -6  -6  -6  -6  -6  -6  -6  -5  -5  -5  -4  -4  -4  -3  -3  -3  -3\n",
      "  -3  -3  -3  -3  -3  -3  -2  -2  -2  -2  -2  -1  -1  -1  -1  -1  -1  -1\n",
      "  -1  -1  -1  -1  -1   0   0   0   0   0   0   0   1   1   1   1   1   1\n",
      "   1   1   1   1   1   1   2   2   2   2   2   2   3   3   3   3   3   3\n",
      "   3   3   4   4   4   4   4   4   5   5   5   5   5   5   5   5   5   5\n",
      "   6   6   6   6   6   6   6   6   7   7   7   7   7   8   8   8   8   8\n",
      "   8   8   8   8   8   8   8   9   9   9   9   9   9   9  10  10  10  10\n",
      "  10  10  10  11  11  11  11  11  11  11  11  12  12  12  12  12  12  13\n",
      "  13  13  13  13  13  13  13  13  13  13  14  14  14  14  14  14  14  14\n",
      "  14  14  14  15  15  15  15  15  15  15  15  15  15  15  15  16  16  16\n",
      "  16  16  16  16  16  17  17  17  17  17  17  17  17  18  18  18  18  18\n",
      "  18  18  18  18  18  18  18  18  18  19  19  19  19  19  19  19  19  19\n",
      "  19  19  20  20  20  20  20  20  21  21  21  21  21  21  21  21  21  21\n",
      "  22  22  22  22  22  22  22  22  22  22  22  23  23  23  23  23  24  24\n",
      "  24  24  24  24  24  25  25  25  25  25  25  25  25  26  26  26  26  26\n",
      "  26  27  27  27  27  27  27  27  27  27  27  27  28  28  28  28  28  28\n",
      "  28  28  28  29  29  29  29  29  29  29  29  29  29  29]\n"
     ]
    }
   ],
   "source": [
    "import numpy as np\n",
    "data5 = np.random.randint(10,20,20)\n",
    "print(data5)\n",
    "\n",
    "data5 = np.append(data5, [np.random.randint(-30,30,480)])\n",
    "print(data5,'\\n')\n",
    "\n",
    "print(np.count_nonzero(data5 == 21),'\\n')\n",
    "print(np.sort(data5))"
   ]
  }
 ],
 "metadata": {
  "kernelspec": {
   "display_name": "Python 3",
   "language": "python",
   "name": "python3"
  },
  "language_info": {
   "codemirror_mode": {
    "name": "ipython",
    "version": 3
   },
   "file_extension": ".py",
   "mimetype": "text/x-python",
   "name": "python",
   "nbconvert_exporter": "python",
   "pygments_lexer": "ipython3",
   "version": "3.7.3"
  }
 },
 "nbformat": 4,
 "nbformat_minor": 2
}
