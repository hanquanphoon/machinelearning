{
 "cells": [
  {
   "cell_type": "markdown",
   "metadata": {
    "deletable": true,
    "editable": true
   },
   "source": [
    "# Goodness of Fit\n",
    "<div style=\"font-size:16px; line-height:25pt\">\n",
    "is used to test if sample data <b>fits</b> a distribution from a certain population. In other words, it tells you if your sample data represents the data you would expect to find in the actual population.\n",
    "<br>Measures of goodness of fit is <b>sum</b> of discrepancy(kind of difference) between <b>observed</b> values and the values <b>expected</b> under the model.\n",
    "<br>There are many types <b>tests and their measures of fit</b> that help us to assess whether a given distribution fits the data-set and those tests are\n",
    "<br>1. The chi-square.\n",
    "<br>2. Kolmogorov-Smirnov.\n",
    "<br>3. Anderson-Darling.\n",
    "<br>4. Shipiro-Wilk.\n",
    "</div>"
   ]
  },
  {
   "cell_type": "markdown",
   "metadata": {
    "deletable": true,
    "editable": true
   },
   "source": [
    "Let's start with the <b>chi-square</b> test.\n",
    "<img src=\"pronounce.PNG\" width=800px, height=100px>\n",
    "<img src=\"formula.PNG\" width=500px, height=100px>\n",
    "<div style=\"font-size:16px; line-height:25pt\">\n",
    "The chi-square test is the most common of the goodness of fit tests and it can be used for discrete distributions like the binomial distribution and the Poisson distribution, while the The Kolmogorov-Smirnov and Anderson-Darling goodness of fit tests can only be used for continuous distributions.\n",
    "\n",
    "<br><b>Tip:</b> Chi-square test always includes on Hypothesis testing. Mostly H0 is accepted.\n",
    "<br>There are two main situations when a Chi-squared test is used:\n",
    "<br><b>1) A chi-squared goodness of fit test</b>\n",
    "<br>   Two Standard Hypotheses are:\n",
    "<br>   H0 = Particular Distribution fits the data\n",
    "<br>   H1 = Particular Distribution does not fit the data\n",
    "\n",
    "<br><b>2) A chi-squared test for indepedence (or for association)</b>\n",
    "<br>   Two Standard Hypotheses are:\n",
    "<br>   H0 = Factors are Independent\n",
    "<br>   H1 = Factors are not Independent\n",
    "<div>"
   ]
  },
  {
   "cell_type": "markdown",
   "metadata": {
    "deletable": true,
    "editable": true
   },
   "source": [
    "# Solving part\n",
    "<div style=\"font-size:16px; line-height:25pt\">\n",
    "1) State a Hypothesis test(H0 and H1)\n",
    "<br>2) Find out the <b>Expected values</b> for each entry.\n",
    "<br>3) Work out the <b>chi squared</b>(sum of variances of expected and observed values as shown in the formula)\n",
    "<br>4) Calculate the degrees of freedom with the following formula: \n",
    "<img src=degree_of_freedom.PNG width=500px height=50px>\n",
    "5) Find critical value in the following table(with Alpha 0.05). We mostly choose Probability level to be 95% accurate. So our Alha is 5%(100%-95%) which is 0.05.\n",
    "<img src=critical_value.PNG width=500px height=100px>\n",
    "<br>6) Accept or Reject Null Hypothesis\n",
    "<br><b>Accept</b> Null hypothesis IF value of <b>chi-squared</b> is <b>less than</b> critical value in the table\n",
    "<br><b>Reject</b> Null hypothesis IF value of <b>chi-squared</b> is <b>more than</b> critical value in the table\n",
    "    </div>"
   ]
  },
  {
   "cell_type": "markdown",
   "metadata": {
    "deletable": true,
    "editable": true
   },
   "source": [
    "## Example of Chi-Squared test for Independence"
   ]
  },
  {
   "cell_type": "markdown",
   "metadata": {
    "deletable": true,
    "editable": true
   },
   "source": [
    "<img src=\"example1.PNG\">"
   ]
  },
  {
   "cell_type": "markdown",
   "metadata": {
    "deletable": true,
    "editable": true
   },
   "source": [
    "Step 1. State Hypothesis(H0 and H1)\n",
    "<img src=example1.1.PNG>"
   ]
  },
  {
   "cell_type": "markdown",
   "metadata": {
    "deletable": true,
    "editable": true
   },
   "source": [
    "Step 2. Find out Expected Values for each entry\n",
    "<img src=example1.2.PNG>"
   ]
  },
  {
   "cell_type": "markdown",
   "metadata": {
    "deletable": true,
    "editable": true
   },
   "source": [
    "Step 3. Calculate <b>Chi-Squared</b>\n",
    "<img src=example1.3.PNG>"
   ]
  },
  {
   "cell_type": "markdown",
   "metadata": {
    "deletable": true,
    "editable": true
   },
   "source": [
    "Step 4. Calculate degrees of freedom with given formula\n",
    "<img src=example1.4.PNG>"
   ]
  },
  {
   "cell_type": "markdown",
   "metadata": {
    "deletable": true,
    "editable": true
   },
   "source": [
    "Step 5. Find critical value from the table\n",
    "<img src=example1.5.PNG>\n",
    "So, our critical value is 3.841"
   ]
  },
  {
   "cell_type": "markdown",
   "metadata": {
    "deletable": true,
    "editable": true
   },
   "source": [
    "Step 6. Reject or Accept Null Hypothesis\n",
    "<br>Our Chi-Square is 4.102 and critical value is 3.841. Therefore, we have to reject Null Hypothesis which states \"Gender and Preference for cats and dogs are INDEPENDENT\", and accept Alternative Hypothesis.\n",
    "<br>So, to conclude we say that Gender and Preference for cats and dogs are not INDEPENDENT.\n",
    "<br>\n",
    "<br><b>Please watch the video below if you have any issues understanding the Chi-Square test</b>"
   ]
  },
  {
   "cell_type": "code",
   "execution_count": 1,
   "metadata": {
    "collapsed": false,
    "deletable": true,
    "editable": true
   },
   "outputs": [
    {
     "data": {
      "text/html": [
       "<iframe width=\"560\" height=\"315\" src=\"https://www.youtube.com/embed/b3o_hjWKgQw\" frameborder=\"0\" allow=\"accelerometer; autoplay; encrypted-media; gyroscope; picture-in-picture\" allowfullscreen></iframe>\n"
      ],
      "text/plain": [
       "<IPython.core.display.HTML object>"
      ]
     },
     "metadata": {},
     "output_type": "display_data"
    }
   ],
   "source": [
    "%%HTML\n",
    "<iframe width=\"560\" height=\"315\" src=\"https://www.youtube.com/embed/b3o_hjWKgQw\" frameborder=\"0\" allow=\"accelerometer; autoplay; encrypted-media; gyroscope; picture-in-picture\" allowfullscreen></iframe>\n"
   ]
  },
  {
   "cell_type": "markdown",
   "metadata": {
    "deletable": true,
    "editable": true
   },
   "source": [
    "## Example of Chi-Squared goodness-of-fit test"
   ]
  },
  {
   "cell_type": "markdown",
   "metadata": {
    "deletable": true,
    "editable": true
   },
   "source": [
    "Question: 256 visual artists were surveyed to find out their zodiac. Are zodiac signs of artists distributed normally?\n",
    "DataFrame is provided.\n"
   ]
  },
  {
   "cell_type": "code",
   "execution_count": 95,
   "metadata": {
    "collapsed": false,
    "deletable": true,
    "editable": true
   },
   "outputs": [
    {
     "data": {
      "text/html": [
       "<div>\n",
       "<style scoped>\n",
       "    .dataframe tbody tr th:only-of-type {\n",
       "        vertical-align: middle;\n",
       "    }\n",
       "\n",
       "    .dataframe tbody tr th {\n",
       "        vertical-align: top;\n",
       "    }\n",
       "\n",
       "    .dataframe thead th {\n",
       "        text-align: right;\n",
       "    }\n",
       "</style>\n",
       "<table border=\"1\" class=\"dataframe\">\n",
       "  <thead>\n",
       "    <tr style=\"text-align: right;\">\n",
       "      <th></th>\n",
       "      <th>Zodiac signs</th>\n",
       "      <th>Observed values</th>\n",
       "    </tr>\n",
       "  </thead>\n",
       "  <tbody>\n",
       "    <tr>\n",
       "      <th>0</th>\n",
       "      <td>Aries</td>\n",
       "      <td>29</td>\n",
       "    </tr>\n",
       "    <tr>\n",
       "      <th>1</th>\n",
       "      <td>Taurus</td>\n",
       "      <td>24</td>\n",
       "    </tr>\n",
       "    <tr>\n",
       "      <th>2</th>\n",
       "      <td>Gemini</td>\n",
       "      <td>22</td>\n",
       "    </tr>\n",
       "    <tr>\n",
       "      <th>3</th>\n",
       "      <td>Cancer</td>\n",
       "      <td>19</td>\n",
       "    </tr>\n",
       "    <tr>\n",
       "      <th>4</th>\n",
       "      <td>Leo</td>\n",
       "      <td>21</td>\n",
       "    </tr>\n",
       "    <tr>\n",
       "      <th>5</th>\n",
       "      <td>Virgo</td>\n",
       "      <td>18</td>\n",
       "    </tr>\n",
       "    <tr>\n",
       "      <th>6</th>\n",
       "      <td>Libra</td>\n",
       "      <td>19</td>\n",
       "    </tr>\n",
       "    <tr>\n",
       "      <th>7</th>\n",
       "      <td>Scorpio</td>\n",
       "      <td>20</td>\n",
       "    </tr>\n",
       "    <tr>\n",
       "      <th>8</th>\n",
       "      <td>Sagittarius</td>\n",
       "      <td>23</td>\n",
       "    </tr>\n",
       "    <tr>\n",
       "      <th>9</th>\n",
       "      <td>Capricorn</td>\n",
       "      <td>18</td>\n",
       "    </tr>\n",
       "    <tr>\n",
       "      <th>10</th>\n",
       "      <td>Aquarius</td>\n",
       "      <td>20</td>\n",
       "    </tr>\n",
       "    <tr>\n",
       "      <th>11</th>\n",
       "      <td>Pisces</td>\n",
       "      <td>23</td>\n",
       "    </tr>\n",
       "  </tbody>\n",
       "</table>\n",
       "</div>"
      ],
      "text/plain": [
       "   Zodiac signs  Observed values\n",
       "0         Aries               29\n",
       "1        Taurus               24\n",
       "2        Gemini               22\n",
       "3        Cancer               19\n",
       "4           Leo               21\n",
       "5         Virgo               18\n",
       "6         Libra               19\n",
       "7       Scorpio               20\n",
       "8   Sagittarius               23\n",
       "9     Capricorn               18\n",
       "10     Aquarius               20\n",
       "11       Pisces               23"
      ]
     },
     "execution_count": 95,
     "metadata": {},
     "output_type": "execute_result"
    }
   ],
   "source": [
    "import pandas as pd\n",
    "\n",
    "zodiac_signs_list = ['Aries','Taurus','Gemini','Cancer','Leo','Virgo','Libra','Scorpio','Sagittarius','Capricorn','Aquarius','Pisces']\n",
    "observed_values_list = [29,24,22,19,21,18,19,20,23,18,20,23]\n",
    "expected_values_list = [] #Question: Fill this up\n",
    "chi_square_list = [] #Question: Fill this up\n",
    "question_table=pd.DataFrame(zodiac_signs_list,columns=['Zodiac signs'])\n",
    "\n",
    "question_table['Observed values']=observed_values_list\n",
    "question_table"
   ]
  },
  {
   "cell_type": "code",
   "execution_count": 96,
   "metadata": {
    "collapsed": false,
    "deletable": true,
    "editable": true
   },
   "outputs": [
    {
     "data": {
      "text/html": [
       "<div>\n",
       "<style scoped>\n",
       "    .dataframe tbody tr th:only-of-type {\n",
       "        vertical-align: middle;\n",
       "    }\n",
       "\n",
       "    .dataframe tbody tr th {\n",
       "        vertical-align: top;\n",
       "    }\n",
       "\n",
       "    .dataframe thead th {\n",
       "        text-align: right;\n",
       "    }\n",
       "</style>\n",
       "<table border=\"1\" class=\"dataframe\">\n",
       "  <thead>\n",
       "    <tr style=\"text-align: right;\">\n",
       "      <th></th>\n",
       "      <th>Zodiac signs</th>\n",
       "      <th>Observed values</th>\n",
       "      <th>Expected values</th>\n",
       "    </tr>\n",
       "  </thead>\n",
       "  <tbody>\n",
       "    <tr>\n",
       "      <th>0</th>\n",
       "      <td>Aries</td>\n",
       "      <td>29</td>\n",
       "      <td>21.3</td>\n",
       "    </tr>\n",
       "    <tr>\n",
       "      <th>1</th>\n",
       "      <td>Taurus</td>\n",
       "      <td>24</td>\n",
       "      <td>21.3</td>\n",
       "    </tr>\n",
       "    <tr>\n",
       "      <th>2</th>\n",
       "      <td>Gemini</td>\n",
       "      <td>22</td>\n",
       "      <td>21.3</td>\n",
       "    </tr>\n",
       "    <tr>\n",
       "      <th>3</th>\n",
       "      <td>Cancer</td>\n",
       "      <td>19</td>\n",
       "      <td>21.3</td>\n",
       "    </tr>\n",
       "    <tr>\n",
       "      <th>4</th>\n",
       "      <td>Leo</td>\n",
       "      <td>21</td>\n",
       "      <td>21.3</td>\n",
       "    </tr>\n",
       "    <tr>\n",
       "      <th>5</th>\n",
       "      <td>Virgo</td>\n",
       "      <td>18</td>\n",
       "      <td>21.3</td>\n",
       "    </tr>\n",
       "    <tr>\n",
       "      <th>6</th>\n",
       "      <td>Libra</td>\n",
       "      <td>19</td>\n",
       "      <td>21.3</td>\n",
       "    </tr>\n",
       "    <tr>\n",
       "      <th>7</th>\n",
       "      <td>Scorpio</td>\n",
       "      <td>20</td>\n",
       "      <td>21.3</td>\n",
       "    </tr>\n",
       "    <tr>\n",
       "      <th>8</th>\n",
       "      <td>Sagittarius</td>\n",
       "      <td>23</td>\n",
       "      <td>21.3</td>\n",
       "    </tr>\n",
       "    <tr>\n",
       "      <th>9</th>\n",
       "      <td>Capricorn</td>\n",
       "      <td>18</td>\n",
       "      <td>21.3</td>\n",
       "    </tr>\n",
       "    <tr>\n",
       "      <th>10</th>\n",
       "      <td>Aquarius</td>\n",
       "      <td>20</td>\n",
       "      <td>21.3</td>\n",
       "    </tr>\n",
       "    <tr>\n",
       "      <th>11</th>\n",
       "      <td>Pisces</td>\n",
       "      <td>23</td>\n",
       "      <td>21.3</td>\n",
       "    </tr>\n",
       "  </tbody>\n",
       "</table>\n",
       "</div>"
      ],
      "text/plain": [
       "   Zodiac signs  Observed values  Expected values\n",
       "0         Aries               29             21.3\n",
       "1        Taurus               24             21.3\n",
       "2        Gemini               22             21.3\n",
       "3        Cancer               19             21.3\n",
       "4           Leo               21             21.3\n",
       "5         Virgo               18             21.3\n",
       "6         Libra               19             21.3\n",
       "7       Scorpio               20             21.3\n",
       "8   Sagittarius               23             21.3\n",
       "9     Capricorn               18             21.3\n",
       "10     Aquarius               20             21.3\n",
       "11       Pisces               23             21.3"
      ]
     },
     "execution_count": 96,
     "metadata": {},
     "output_type": "execute_result"
    }
   ],
   "source": [
    "#Step 1. Create a Hypothesis test. Our Null Hypothesis: Data is distributed normally.\n",
    "null_hypothesis = None #let's assign it to None because we do not know whether it is true(accept H0) or false(reject H0)\n",
    "\n",
    "#Step 2. Find Expected Values and add it to dataframe\n",
    "all_observed = sum(observed_values_list) #we need sum of all observed values and divide it to number of rows)\n",
    "expected_value = all_observed/12 #we have 12 rows in the table(starting from 0), so in order to make it normally distributed we need to divide to 12(number of rows)\n",
    "#Now we need to add expected value for each unit(we can use \"for loop\")\n",
    "for i in range(12):\n",
    "    expected_values_list.append(round(expected_value, 1))#I also round up the number with only 1 decimal\n",
    "\n",
    "question_table['Expected values']=expected_values_list #adding Expected values to DataFrame\n",
    "question_table"
   ]
  },
  {
   "cell_type": "code",
   "execution_count": 97,
   "metadata": {
    "collapsed": false,
    "deletable": true,
    "editable": true
   },
   "outputs": [
    {
     "data": {
      "text/plain": [
       "True"
      ]
     },
     "execution_count": 97,
     "metadata": {},
     "output_type": "execute_result"
    }
   ],
   "source": [
    "#Step  3. Now let's calculate Chi-Squared for each unit and add it to the DataFrame\n",
    "for i in range(12):\n",
    "    chi_square1 = observed_values_list[i]-expected_values_list[i]\n",
    "    chi_square2 = (chi_square1*chi_square1)/expected_values_list[i]\n",
    "    chi_square_list.append(chi_square2)\n",
    "    \n",
    "question_table['Chi-Square values']=chi_square_list #adding Expected values to DataFrame\n",
    "chi_square_sum = sum(chi_square_list)\n",
    "question_table\n",
    "#Step 4. Calculate degrees of freedom\n",
    "degree_of_freedom = len(chi_square_list) - 1\n",
    "#Step 5. Find critical value. (Can look it up on the table and assign it to a variable)\n",
    "critical_value = 19.675\n",
    "#Step 6. Accept or Reject Null Hypothesis\n",
    "if(chi_square_sum < critical_value):\n",
    "    null_hypothesis = True #true as accept H0\n",
    "else: \n",
    "    null_hypothesis = False #false as reject H0\n",
    "    \n",
    "null_hypothesis #if true, then we gonna Accept H0. However, if it is false then we will Reject H0"
   ]
  },
  {
   "cell_type": "code",
   "execution_count": 98,
   "metadata": {
    "collapsed": false,
    "deletable": true,
    "editable": true
   },
   "outputs": [
    {
     "data": {
      "text/html": [
       "<div>\n",
       "<style scoped>\n",
       "    .dataframe tbody tr th:only-of-type {\n",
       "        vertical-align: middle;\n",
       "    }\n",
       "\n",
       "    .dataframe tbody tr th {\n",
       "        vertical-align: top;\n",
       "    }\n",
       "\n",
       "    .dataframe thead th {\n",
       "        text-align: right;\n",
       "    }\n",
       "</style>\n",
       "<table border=\"1\" class=\"dataframe\">\n",
       "  <thead>\n",
       "    <tr style=\"text-align: right;\">\n",
       "      <th></th>\n",
       "      <th>Zodiac signs</th>\n",
       "      <th>Observed values</th>\n",
       "      <th>Expected values</th>\n",
       "      <th>Chi-Square values</th>\n",
       "    </tr>\n",
       "  </thead>\n",
       "  <tbody>\n",
       "    <tr>\n",
       "      <th>0</th>\n",
       "      <td>Aries</td>\n",
       "      <td>29</td>\n",
       "      <td>21.3</td>\n",
       "      <td>2.783568</td>\n",
       "    </tr>\n",
       "    <tr>\n",
       "      <th>1</th>\n",
       "      <td>Taurus</td>\n",
       "      <td>24</td>\n",
       "      <td>21.3</td>\n",
       "      <td>0.342254</td>\n",
       "    </tr>\n",
       "    <tr>\n",
       "      <th>2</th>\n",
       "      <td>Gemini</td>\n",
       "      <td>22</td>\n",
       "      <td>21.3</td>\n",
       "      <td>0.023005</td>\n",
       "    </tr>\n",
       "    <tr>\n",
       "      <th>3</th>\n",
       "      <td>Cancer</td>\n",
       "      <td>19</td>\n",
       "      <td>21.3</td>\n",
       "      <td>0.248357</td>\n",
       "    </tr>\n",
       "    <tr>\n",
       "      <th>4</th>\n",
       "      <td>Leo</td>\n",
       "      <td>21</td>\n",
       "      <td>21.3</td>\n",
       "      <td>0.004225</td>\n",
       "    </tr>\n",
       "    <tr>\n",
       "      <th>5</th>\n",
       "      <td>Virgo</td>\n",
       "      <td>18</td>\n",
       "      <td>21.3</td>\n",
       "      <td>0.511268</td>\n",
       "    </tr>\n",
       "    <tr>\n",
       "      <th>6</th>\n",
       "      <td>Libra</td>\n",
       "      <td>19</td>\n",
       "      <td>21.3</td>\n",
       "      <td>0.248357</td>\n",
       "    </tr>\n",
       "    <tr>\n",
       "      <th>7</th>\n",
       "      <td>Scorpio</td>\n",
       "      <td>20</td>\n",
       "      <td>21.3</td>\n",
       "      <td>0.079343</td>\n",
       "    </tr>\n",
       "    <tr>\n",
       "      <th>8</th>\n",
       "      <td>Sagittarius</td>\n",
       "      <td>23</td>\n",
       "      <td>21.3</td>\n",
       "      <td>0.135681</td>\n",
       "    </tr>\n",
       "    <tr>\n",
       "      <th>9</th>\n",
       "      <td>Capricorn</td>\n",
       "      <td>18</td>\n",
       "      <td>21.3</td>\n",
       "      <td>0.511268</td>\n",
       "    </tr>\n",
       "    <tr>\n",
       "      <th>10</th>\n",
       "      <td>Aquarius</td>\n",
       "      <td>20</td>\n",
       "      <td>21.3</td>\n",
       "      <td>0.079343</td>\n",
       "    </tr>\n",
       "    <tr>\n",
       "      <th>11</th>\n",
       "      <td>Pisces</td>\n",
       "      <td>23</td>\n",
       "      <td>21.3</td>\n",
       "      <td>0.135681</td>\n",
       "    </tr>\n",
       "  </tbody>\n",
       "</table>\n",
       "</div>"
      ],
      "text/plain": [
       "   Zodiac signs  Observed values  Expected values  Chi-Square values\n",
       "0         Aries               29             21.3           2.783568\n",
       "1        Taurus               24             21.3           0.342254\n",
       "2        Gemini               22             21.3           0.023005\n",
       "3        Cancer               19             21.3           0.248357\n",
       "4           Leo               21             21.3           0.004225\n",
       "5         Virgo               18             21.3           0.511268\n",
       "6         Libra               19             21.3           0.248357\n",
       "7       Scorpio               20             21.3           0.079343\n",
       "8   Sagittarius               23             21.3           0.135681\n",
       "9     Capricorn               18             21.3           0.511268\n",
       "10     Aquarius               20             21.3           0.079343\n",
       "11       Pisces               23             21.3           0.135681"
      ]
     },
     "execution_count": 98,
     "metadata": {},
     "output_type": "execute_result"
    }
   ],
   "source": [
    "question_table #Print the whole table"
   ]
  },
  {
   "cell_type": "markdown",
   "metadata": {
    "deletable": true,
    "editable": true
   },
   "source": [
    "# Questions"
   ]
  },
  {
   "cell_type": "markdown",
   "metadata": {
    "deletable": true,
    "editable": true
   },
   "source": [
    "### Question:  The table shows the number of employees absent for just one day during a particular period of time\n",
    "| Day of the week \t| Monday \t| Tuesday \t| Wednesday \t|  Thursday  \t| Friday \t|  \t|\n",
    "|------:\t|:---:\t|:---:\t|:--:\t|:---:\t|:--:\t|:--:\t|\n",
    "|   Number of absentees  \t| 121 \t|  87 \t| 87 \t| 91 \t| 114 \t| Total 500 \t|"
   ]
  },
  {
   "cell_type": "markdown",
   "metadata": {
    "deletable": true,
    "editable": true
   },
   "source": [
    "Question 1. Create a <b>Hypothesis test</b> -->Create a boolean variable for Null Hypothesis and assign it to <b>None</b> for now.\n",
    "<br>Tip: Null Hypothesis variable can be True(accept) and False(reject). "
   ]
  },
  {
   "cell_type": "code",
   "execution_count": 9,
   "metadata": {
    "collapsed": true,
    "deletable": true,
    "editable": true
   },
   "outputs": [],
   "source": [
    "#Precode for Question 1\n",
    "import pandas as pd\n",
    "\n",
    "day_list = [] #Question: fill the list with weeks\n",
    "observed_absentees = [] #Question: Fill up the list\n",
    "expected_absentees = [] #Question: Fill up the list\n",
    "chi_square_list = [] #Question: Fill up the list\n",
    "\n",
    "#Creating the DataFrame\n",
    "question1_table = pd.DataFrame(day_list,columns=['Weekdays'])\n",
    "\n",
    "#Adding Observed Values into the DataFrame\n",
    "question1_table['Observed values']=observed_absentees\n",
    "\n",
    "#Step 1. Create a Hypothesis test.\n",
    "#Create and Assign the variable according to the question 1"
   ]
  },
  {
   "cell_type": "markdown",
   "metadata": {
    "deletable": true,
    "editable": true
   },
   "source": [
    "Question 2. Find out <b>Expected values</b> and add them to the DataFrame table"
   ]
  },
  {
   "cell_type": "code",
   "execution_count": 10,
   "metadata": {
    "collapsed": true,
    "deletable": true,
    "editable": true
   },
   "outputs": [
    {
     "ename": "NameError",
     "evalue": "name 'observed_absentees_sum' is not defined",
     "output_type": "error",
     "traceback": [
      "\u001b[0;31m---------------------------------------------------------------------------\u001b[0m",
      "\u001b[0;31mNameError\u001b[0m                                 Traceback (most recent call last)",
      "\u001b[0;32m<ipython-input-10-666b7d7ce95f>\u001b[0m in \u001b[0;36m<module>\u001b[0;34m\u001b[0m\n\u001b[1;32m      1\u001b[0m \u001b[0;31m#Precode for Question 2\u001b[0m\u001b[0;34m\u001b[0m\u001b[0;34m\u001b[0m\u001b[0;34m\u001b[0m\u001b[0m\n\u001b[1;32m      2\u001b[0m \u001b[0;31m#Step 2. Find Expected Values and add it to dataframe\u001b[0m\u001b[0;34m\u001b[0m\u001b[0;34m\u001b[0m\u001b[0;34m\u001b[0m\u001b[0m\n\u001b[0;32m----> 3\u001b[0;31m \u001b[0mobserved_absentees_sum\u001b[0m  \u001b[0;31m#we need sum of all observed values and divide it to number of rows)\u001b[0m\u001b[0;34m\u001b[0m\u001b[0;34m\u001b[0m\u001b[0m\n\u001b[0m\u001b[1;32m      4\u001b[0m \u001b[0mexpected_absentees\u001b[0m  \u001b[0;31m#we have 5 days in the table, so in order to find EVs we need to divide sum_of_observed_values to 5\u001b[0m\u001b[0;34m\u001b[0m\u001b[0;34m\u001b[0m\u001b[0m\n\u001b[1;32m      5\u001b[0m \u001b[0;31m#Now we need to add expected value for each unit(we can use \"for loop\")\u001b[0m\u001b[0;34m\u001b[0m\u001b[0;34m\u001b[0m\u001b[0;34m\u001b[0m\u001b[0m\n",
      "\u001b[0;31mNameError\u001b[0m: name 'observed_absentees_sum' is not defined"
     ]
    }
   ],
   "source": [
    "#Precode for Question 2\n",
    "#Step 2. Find Expected Values and add it to dataframe\n",
    "observed_absentees_sum  #we need sum of all observed values and divide it to number of rows)\n",
    "expected_absentees  #we have 5 days in the table, so in order to find EVs we need to divide sum_of_observed_values to 5\n",
    "#Now we need to add expected value for each unit(we can use \"for loop\")\n",
    "#Also round up the number with only 1 decimal\n",
    "\n",
    "#Add Expected values to DataFrame\n",
    "\n",
    "#Display the DataFrame"
   ]
  },
  {
   "cell_type": "markdown",
   "metadata": {
    "deletable": true,
    "editable": true
   },
   "source": [
    "Question 3. Find <b>Chi-Squared values</b> for each unit in table. "
   ]
  },
  {
   "cell_type": "code",
   "execution_count": 11,
   "metadata": {
    "collapsed": true,
    "deletable": true,
    "editable": true
   },
   "outputs": [],
   "source": [
    "#Precode for Question 3\n",
    "#Step  3. Now calculate Chi-Squared for each unit \n",
    "#Use for loop"
   ]
  },
  {
   "cell_type": "markdown",
   "metadata": {
    "deletable": true,
    "editable": true
   },
   "source": [
    "Question 4. Add all the chi-squared values to DataFrame. Calculate sum of Chi-Squared"
   ]
  },
  {
   "cell_type": "code",
   "execution_count": 13,
   "metadata": {
    "collapsed": true,
    "deletable": true,
    "editable": true
   },
   "outputs": [
    {
     "ename": "NameError",
     "evalue": "name 'chi_square_sum' is not defined",
     "output_type": "error",
     "traceback": [
      "\u001b[0;31m---------------------------------------------------------------------------\u001b[0m",
      "\u001b[0;31mNameError\u001b[0m                                 Traceback (most recent call last)",
      "\u001b[0;32m<ipython-input-13-9f29c8292434>\u001b[0m in \u001b[0;36m<module>\u001b[0;34m\u001b[0m\n\u001b[1;32m      2\u001b[0m \u001b[0;31m#Display the DataFrame\u001b[0m\u001b[0;34m\u001b[0m\u001b[0;34m\u001b[0m\u001b[0;34m\u001b[0m\u001b[0m\n\u001b[1;32m      3\u001b[0m \u001b[0;34m\u001b[0m\u001b[0m\n\u001b[0;32m----> 4\u001b[0;31m \u001b[0mchi_square_sum\u001b[0m \u001b[0;31m#Calculate the sum of Chi-Squared\u001b[0m\u001b[0;34m\u001b[0m\u001b[0;34m\u001b[0m\u001b[0m\n\u001b[0m",
      "\u001b[0;31mNameError\u001b[0m: name 'chi_square_sum' is not defined"
     ]
    }
   ],
   "source": [
    "#Precode for Question 4\n",
    "#Display the DataFrame\n",
    "\n",
    "chi_square_sum #Calculate the sum of Chi-Squared"
   ]
  },
  {
   "cell_type": "markdown",
   "metadata": {
    "deletable": true,
    "editable": true
   },
   "source": [
    "Question 5. Calculate <b>degrees of freedom</b> and Find <b>critical value</b> from the table provided. "
   ]
  },
  {
   "cell_type": "code",
   "execution_count": null,
   "metadata": {
    "collapsed": true,
    "deletable": true,
    "editable": true
   },
   "outputs": [],
   "source": [
    "#Precode for Question 5\n",
    "#Step 4. Calculate degrees of freedom\n",
    "degree_of_freedom\n",
    "#Step 5. Find critical value. (Can look it up on the table and assign it to a variable)\n",
    "critical_value"
   ]
  },
  {
   "cell_type": "markdown",
   "metadata": {
    "deletable": true,
    "editable": true
   },
   "source": [
    "Question 6. Accept or Reject Null Hypothesis"
   ]
  },
  {
   "cell_type": "code",
   "execution_count": 14,
   "metadata": {
    "collapsed": true,
    "deletable": true,
    "editable": true
   },
   "outputs": [],
   "source": [
    "#Precode for Question 6\n",
    "#Step 6. Accept or Reject Null Hypothesis\n",
    "#Assign Null Hypothesis to True or False according sum of Chi-Square and critical value"
   ]
  },
  {
   "cell_type": "markdown",
   "metadata": {
    "deletable": true,
    "editable": true
   },
   "source": [
    "### Question: According to a particular genetic theory the number of colour strains(pink, white, blue) in a certain flower should appear in the ratio 3:2:5. In 100 randomly chosen plants, the corresonding numbers of each colour were 24, 14 and 62. Test at the 1% level whether the differences between the observed amd expected frequencies are significant"
   ]
  },
  {
   "cell_type": "markdown",
   "metadata": {
    "deletable": true,
    "editable": true
   },
   "source": [
    "Question 7. Create a list of colors and Observed Frequncies and add them to the DataFrame(pandas)"
   ]
  },
  {
   "cell_type": "code",
   "execution_count": null,
   "metadata": {
    "collapsed": true,
    "deletable": true,
    "editable": true
   },
   "outputs": [],
   "source": [
    "#Precode for Question 7\n",
    "import pandas as pd\n",
    "\n",
    "color_list = [] #Question: fill the list with weeks\n",
    "observed_strains = [] #Question: Fill up the list\n",
    "expected_strains = [] #Question: Fill up the list\n",
    "chi_square_list = [] #Question: Fill up the list\n",
    "\n",
    "#Creating the DataFrame\n",
    "question2_table\n",
    "\n",
    "#Add Observed Values into the DataFrame\n",
    "\n",
    "\n"
   ]
  },
  {
   "cell_type": "markdown",
   "metadata": {
    "deletable": true,
    "editable": true
   },
   "source": [
    "Question 8. Create <b>Hypothesis test</b>(Just like in Question 2) "
   ]
  },
  {
   "cell_type": "code",
   "execution_count": null,
   "metadata": {
    "collapsed": true,
    "deletable": true,
    "editable": true
   },
   "outputs": [],
   "source": [
    "#Precode for Question 8\n",
    "#Step 1. Create a Hypothesis test.\n",
    "#Create and Assign the variable according to the question 1"
   ]
  },
  {
   "cell_type": "markdown",
   "metadata": {
    "deletable": true,
    "editable": true
   },
   "source": [
    "Question 9. Find out <b>Expected values</b> and add them to a list and also add the list to the DataFrame table "
   ]
  },
  {
   "cell_type": "code",
   "execution_count": null,
   "metadata": {
    "collapsed": true,
    "deletable": true,
    "editable": true
   },
   "outputs": [],
   "source": [
    "#Precode for Question 9\n",
    "\n",
    "#Step 2. Find Expected Values and add them to dataframe\n",
    "observed_absentees_sum  #we need sum of all observed values and divide it to number of rows)\n",
    "expected_strains  #do it according to the ratio 3:2:5. Sum of observed is 100%\n",
    "#Now we need to add expected value for each unit(we can use \"for loop\")\n",
    "#Also round up the number with only 1 decimal\n",
    "\n",
    "#Add Expected values to DataFrame\n",
    "\n",
    "#Display the DataFrame"
   ]
  },
  {
   "cell_type": "markdown",
   "metadata": {
    "deletable": true,
    "editable": true
   },
   "source": [
    "Question 10. Find <b>Chi-Squared values</b> for each unit in table. "
   ]
  },
  {
   "cell_type": "code",
   "execution_count": null,
   "metadata": {
    "collapsed": true,
    "deletable": true,
    "editable": true
   },
   "outputs": [],
   "source": [
    "#Precode for Question 10\n",
    "\n",
    "#Step  3. Now calculate Chi-Squared for each unit \n",
    "#Use for loop"
   ]
  },
  {
   "cell_type": "markdown",
   "metadata": {
    "deletable": true,
    "editable": true
   },
   "source": [
    "Question 11. Add all the chi-squared values to list and also add it to <b>DataFrame</b>. Calculate <b>sum of Chi-Squared</b>."
   ]
  },
  {
   "cell_type": "code",
   "execution_count": null,
   "metadata": {
    "collapsed": true,
    "deletable": true,
    "editable": true
   },
   "outputs": [],
   "source": [
    "#Precode for Question 11\n",
    "\n",
    "#Display the DataFrame\n",
    "\n",
    "chi_square_sum #Calculate the sum of Chi-Squared"
   ]
  },
  {
   "cell_type": "markdown",
   "metadata": {
    "deletable": true,
    "editable": true
   },
   "source": [
    "Question 12. Calculate <b>degrees of freedom</b> and Find <b>critical value(Use 0.001)</b> from the table provided."
   ]
  },
  {
   "cell_type": "code",
   "execution_count": null,
   "metadata": {
    "collapsed": true,
    "deletable": true,
    "editable": true
   },
   "outputs": [],
   "source": [
    "#Precode for Question 12\n",
    "\n",
    "#Precode for Question 5\n",
    "#Step 4. Calculate degrees of freedom\n",
    "degree_of_freedom\n",
    "#Step 5. Find critical value. (Can look it up on the table and assign it to a variable)\n",
    "critical_value"
   ]
  },
  {
   "cell_type": "markdown",
   "metadata": {
    "deletable": true,
    "editable": true
   },
   "source": [
    "Question 13. Accept or Reject Null Hypothesis"
   ]
  },
  {
   "cell_type": "code",
   "execution_count": null,
   "metadata": {
    "collapsed": true,
    "deletable": true,
    "editable": true
   },
   "outputs": [],
   "source": [
    "#Precode for Question 13\n",
    "#Step 6. Accept or Reject Null Hypothesis\n",
    "#Assign Null Hypothesis to True or False according sum of Chi-Square and critical value"
   ]
  },
  {
   "cell_type": "markdown",
   "metadata": {
    "deletable": true,
    "editable": true
   },
   "source": [
    "# Hints\n",
    "1) The way how to get expected values is Sum_of_all_observed_values divide to number of rows mostly. If the question is about ratio, then divide Sum_of_all_observed_values according to the ratio given.\n",
    "<br>2) The only way we Accept null hypothesis is when critical value is larger than chi-squared value. \n"
   ]
  }
 ],
 "metadata": {
  "kernelspec": {
   "display_name": "Python 3",
   "language": "python",
   "name": "python3"
  },
  "language_info": {
   "codemirror_mode": {
    "name": "ipython",
    "version": 3
   },
   "file_extension": ".py",
   "mimetype": "text/x-python",
   "name": "python",
   "nbconvert_exporter": "python",
   "pygments_lexer": "ipython3",
   "version": "3.5.2"
  }
 },
 "nbformat": 4,
 "nbformat_minor": 2
}
