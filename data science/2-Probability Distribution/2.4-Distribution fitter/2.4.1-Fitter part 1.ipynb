{
 "cells": [
  {
   "cell_type": "markdown",
   "metadata": {},
   "source": [
    "# Fitter Package(part 1)\n",
    "is a Python package which chooses the best fitted distribution for your data. However, we are going to limit to only following distributions: <b>Normal</b> distribution, <b>Uniform</b> Distribution and <b>Exponential</b> Distribution.\n",
    "### If you have forgotten or unsure about the distributions please recap from previous Sections and you can refer to the links and videos provided\n",
    "[Random Variables and Uniform Distribution](https://www.mathsisfun.com/data/random-variables-continuous.html)<br>\n",
    "[Normal Distribution](https://www.mathsisfun.com/data/standard-normal-distribution.html)\n"
   ]
  },
  {
   "cell_type": "code",
   "execution_count": 1,
   "metadata": {},
   "outputs": [
    {
     "data": {
      "text/html": [
       "<iframe width=\"560\" height=\"315\" src=\"https://www.youtube.com/embed/hgtMWR3TFnY\" frameborder=\"0\" allow=\"accelerometer; autoplay; encrypted-media; gyroscope; picture-in-picture\" allowfullscreen></iframe>\n"
      ],
      "text/plain": [
       "<IPython.core.display.HTML object>"
      ]
     },
     "metadata": {},
     "output_type": "display_data"
    }
   ],
   "source": [
    "%%HTML\n",
    "<iframe width=\"560\" height=\"315\" src=\"https://www.youtube.com/embed/hgtMWR3TFnY\" frameborder=\"0\" allow=\"accelerometer; autoplay; encrypted-media; gyroscope; picture-in-picture\" allowfullscreen></iframe>"
   ]
  },
  {
   "cell_type": "code",
   "execution_count": 2,
   "metadata": {},
   "outputs": [
    {
     "data": {
      "text/html": [
       "<iframe width=\"560\" height=\"315\" src=\"https://www.youtube.com/embed/-qt8CPIadWQ\" frameborder=\"0\" allow=\"accelerometer; autoplay; encrypted-media; gyroscope; picture-in-picture\" allowfullscreen></iframe>\n"
      ],
      "text/plain": [
       "<IPython.core.display.HTML object>"
      ]
     },
     "metadata": {},
     "output_type": "display_data"
    }
   ],
   "source": [
    "%%HTML\n",
    "<iframe width=\"560\" height=\"315\" src=\"https://www.youtube.com/embed/-qt8CPIadWQ\" frameborder=\"0\" allow=\"accelerometer; autoplay; encrypted-media; gyroscope; picture-in-picture\" allowfullscreen></iframe>"
   ]
  },
  {
   "cell_type": "code",
   "execution_count": 3,
   "metadata": {},
   "outputs": [
    {
     "data": {
      "text/html": [
       "<iframe width=\"560\" height=\"315\" src=\"https://www.youtube.com/embed/6WMZ7J0wwMI\" frameborder=\"0\" allow=\"accelerometer; autoplay; encrypted-media; gyroscope; picture-in-picture\" allowfullscreen></iframe>\n"
      ],
      "text/plain": [
       "<IPython.core.display.HTML object>"
      ]
     },
     "metadata": {},
     "output_type": "display_data"
    }
   ],
   "source": [
    "%%HTML\n",
    "<iframe width=\"560\" height=\"315\" src=\"https://www.youtube.com/embed/6WMZ7J0wwMI\" frameborder=\"0\" allow=\"accelerometer; autoplay; encrypted-media; gyroscope; picture-in-picture\" allowfullscreen></iframe>"
   ]
  },
  {
   "cell_type": "markdown",
   "metadata": {},
   "source": [
    "## Goodness of Fit\n",
    "\n",
    "<div style=\"font-size:16px; line-height:25pt\">\n",
    "Goodness of Fit is test that identifies how well certain <b>distribution</b> or model fits the <b>(observed)data</b>. There are different types of <b>Tests</b> which assess whether a given distribution is suited for a data-set. Example of names of those tests:\n",
    "<br>Chi Square Test.(Previous Topic)\n",
    "<br>Kolmogorov–Smirnov test.\n",
    "<br>Cramér–von Mises criterion.\n",
    "<br>Anderson–Darling test.\n",
    "<br>Shapiro–Wilk test.\n",
    "<br>Kuiper's test and others.\n",
    "<br>However, we are going to get familiarized with the most frequent used test called <b>Chi Square Test</b>. Please, refer to the video below to get the concept of Chi Squared test\n",
    "</div>"
   ]
  },
  {
   "cell_type": "code",
   "execution_count": 1,
   "metadata": {},
   "outputs": [
    {
     "data": {
      "text/html": [
       "<iframe width=\"560\" height=\"315\" src=\"https://www.youtube.com/embed/b3o_hjWKgQw\" frameborder=\"0\" allow=\"accelerometer; autoplay; encrypted-media; gyroscope; picture-in-picture\" allowfullscreen></iframe>\n"
      ],
      "text/plain": [
       "<IPython.core.display.HTML object>"
      ]
     },
     "metadata": {},
     "output_type": "display_data"
    }
   ],
   "source": [
    "%%HTML\n",
    "<iframe width=\"560\" height=\"315\" src=\"https://www.youtube.com/embed/b3o_hjWKgQw\" frameborder=\"0\" allow=\"accelerometer; autoplay; encrypted-media; gyroscope; picture-in-picture\" allowfullscreen></iframe>\n"
   ]
  },
  {
   "cell_type": "markdown",
   "metadata": {},
   "source": [
    "<div style=\"font-size:16px; line-height:25pt\">\n",
    "We are going to be using <b>Fitter</b> package which will help us to identify best fitted <b>Distribution</b> for any data-set. \n",
    "Once data is collected and converted to python(<b>Pandas</b> data-table), you can use Fitter and make sure that chosen distribution has the least <b>(sumsquare)</b>error.\n",
    "    </div>"
   ]
  },
  {
   "cell_type": "markdown",
   "metadata": {},
   "source": [
    "## Installation and importing"
   ]
  },
  {
   "cell_type": "code",
   "execution_count": 3,
   "metadata": {
    "collapsed": true
   },
   "outputs": [
    {
     "name": "stdout",
     "output_type": "stream",
     "text": [
      "Requirement already satisfied: fitter in c:\\users\\user\\anaconda3\\lib\\site-packages (1.1.11)\n",
      "Requirement already satisfied: numpy in c:\\users\\user\\anaconda3\\lib\\site-packages (from fitter) (1.16.2)\n",
      "Requirement already satisfied: pandas in c:\\users\\user\\anaconda3\\lib\\site-packages (from fitter) (0.24.2)\n",
      "Requirement already satisfied: scipy>=0.18 in c:\\users\\user\\anaconda3\\lib\\site-packages (from fitter) (1.2.1)\n",
      "Requirement already satisfied: matplotlib in c:\\users\\user\\anaconda3\\lib\\site-packages (from fitter) (3.0.3)\n",
      "Requirement already satisfied: python-dateutil>=2.5.0 in c:\\users\\user\\anaconda3\\lib\\site-packages (from pandas->fitter) (2.8.0)\n",
      "Requirement already satisfied: pytz>=2011k in c:\\users\\user\\anaconda3\\lib\\site-packages (from pandas->fitter) (2018.9)\n",
      "Requirement already satisfied: cycler>=0.10 in c:\\users\\user\\anaconda3\\lib\\site-packages (from matplotlib->fitter) (0.10.0)\n",
      "Requirement already satisfied: kiwisolver>=1.0.1 in c:\\users\\user\\anaconda3\\lib\\site-packages (from matplotlib->fitter) (1.0.1)\n",
      "Requirement already satisfied: pyparsing!=2.0.4,!=2.1.2,!=2.1.6,>=2.0.1 in c:\\users\\user\\anaconda3\\lib\\site-packages (from matplotlib->fitter) (2.3.1)\n",
      "Requirement already satisfied: six>=1.5 in c:\\users\\user\\anaconda3\\lib\\site-packages (from python-dateutil>=2.5.0->pandas->fitter) (1.12.0)\n",
      "Requirement already satisfied: setuptools in c:\\users\\user\\anaconda3\\lib\\site-packages (from kiwisolver>=1.0.1->matplotlib->fitter) (40.8.0)\n"
     ]
    }
   ],
   "source": [
    "!pip install fitter\n",
    "#for installing fitter package\n",
    "\n",
    "from fitter import Fitter\n",
    "#importing Fitter that scans the data and displays which distribution has the lowest Error\n"
   ]
  },
  {
   "cell_type": "markdown",
   "metadata": {},
   "source": [
    "[Documentation of Fitter Package](https://pypi.org/project/fitter/)"
   ]
  },
  {
   "attachments": {},
   "cell_type": "markdown",
   "metadata": {},
   "source": [
    "## Usage\n",
    "We have a Database of Fitness Customers which has records such as Name, Weight, Height<br>\n",
    "<img src=\"fitness_table.png\">"
   ]
  },
  {
   "cell_type": "code",
   "execution_count": 5,
   "metadata": {},
   "outputs": [],
   "source": [
    "#Let's import PANDAS which is another python library and it will help us to READ data from many formats, but \n",
    "#we will be reading data from only Excel file.\n",
    "import pandas as pd  #Importing pandas\n",
    "\n",
    "fitness_db = pd.read_excel('sample_data_bmi.xlsx', \"Sheet1\", skiprows=1)\n",
    "#Here I am reading excel file and storing into a variable called \"fitness_db\"\n",
    "#So \"read_excel\" is a function that does the job and we need to provide NAME of excel file and which sheet(2 important parameters)\n",
    "\n",
    "weight = fitness_db['Weight'] #Storing \"Weight\" data into a list\n",
    "height = fitness_db['Height'] #Storing \"Height\" data into a list\n",
    "bmi = fitness_db['BMI'] #Storing \"BMI\" data into a list\n",
    "\n"
   ]
  },
  {
   "cell_type": "markdown",
   "metadata": {},
   "source": [
    "## Probability Distribution for 'Height'"
   ]
  },
  {
   "cell_type": "code",
   "execution_count": 7,
   "metadata": {},
   "outputs": [
    {
     "name": "stdout",
     "output_type": "stream",
     "text": [
      "Fitted norm distribution with error=0.34009512603453906)\n",
      "Fitted expon distribution with error=0.33930800767536023)\n",
      "Fitted uniform distribution with error=0.3265306122448981)\n"
     ]
    },
    {
     "data": {
      "text/html": [
       "<div>\n",
       "<style scoped>\n",
       "    .dataframe tbody tr th:only-of-type {\n",
       "        vertical-align: middle;\n",
       "    }\n",
       "\n",
       "    .dataframe tbody tr th {\n",
       "        vertical-align: top;\n",
       "    }\n",
       "\n",
       "    .dataframe thead th {\n",
       "        text-align: right;\n",
       "    }\n",
       "</style>\n",
       "<table border=\"1\" class=\"dataframe\">\n",
       "  <thead>\n",
       "    <tr style=\"text-align: right;\">\n",
       "      <th></th>\n",
       "      <th>sumsquare_error</th>\n",
       "    </tr>\n",
       "  </thead>\n",
       "  <tbody>\n",
       "    <tr>\n",
       "      <th>uniform</th>\n",
       "      <td>0.326531</td>\n",
       "    </tr>\n",
       "    <tr>\n",
       "      <th>expon</th>\n",
       "      <td>0.339308</td>\n",
       "    </tr>\n",
       "    <tr>\n",
       "      <th>norm</th>\n",
       "      <td>0.340095</td>\n",
       "    </tr>\n",
       "  </tbody>\n",
       "</table>\n",
       "</div>"
      ],
      "text/plain": [
       "         sumsquare_error\n",
       "uniform         0.326531\n",
       "expon           0.339308\n",
       "norm            0.340095"
      ]
     },
     "execution_count": 7,
     "metadata": {},
     "output_type": "execute_result"
    },
    {
     "data": {
      "image/png": "[encoded data removed]",
      "text/plain": [
       "<Figure size 432x288 with 1 Axes>"
      ]
     },
     "metadata": {
      "needs_background": "light"
     },
     "output_type": "display_data"
    }
   ],
   "source": [
    "fitter_for_height = Fitter(height, distributions=['norm', 'expon', 'uniform'])\n",
    "#Step 1: First fitter will be for height data and we will see which of these three distributions fit our data with least error\n",
    "#Tip: if you do not provide the distributions, Fitter will scan all the distributions in the SciPy.\n",
    "fitter_for_height.fit()\n",
    "fitter_for_height.summary() #Summary shows the error and the graph of our data along with the distributions\n",
    "\n"
   ]
  },
  {
   "cell_type": "markdown",
   "metadata": {},
   "source": [
    "## Probability Distribution for 'Weight'"
   ]
  },
  {
   "cell_type": "code",
   "execution_count": 8,
   "metadata": {},
   "outputs": [
    {
     "name": "stdout",
     "output_type": "stream",
     "text": [
      "Fitted norm distribution with error=0.6739110215551474)\n",
      "Fitted expon distribution with error=0.7433353930620359)\n",
      "Fitted uniform distribution with error=0.7128536422365871)\n"
     ]
    },
    {
     "data": {
      "text/html": [
       "<div>\n",
       "<style scoped>\n",
       "    .dataframe tbody tr th:only-of-type {\n",
       "        vertical-align: middle;\n",
       "    }\n",
       "\n",
       "    .dataframe tbody tr th {\n",
       "        vertical-align: top;\n",
       "    }\n",
       "\n",
       "    .dataframe thead th {\n",
       "        text-align: right;\n",
       "    }\n",
       "</style>\n",
       "<table border=\"1\" class=\"dataframe\">\n",
       "  <thead>\n",
       "    <tr style=\"text-align: right;\">\n",
       "      <th></th>\n",
       "      <th>sumsquare_error</th>\n",
       "    </tr>\n",
       "  </thead>\n",
       "  <tbody>\n",
       "    <tr>\n",
       "      <th>norm</th>\n",
       "      <td>0.673911</td>\n",
       "    </tr>\n",
       "    <tr>\n",
       "      <th>uniform</th>\n",
       "      <td>0.712854</td>\n",
       "    </tr>\n",
       "    <tr>\n",
       "      <th>expon</th>\n",
       "      <td>0.743335</td>\n",
       "    </tr>\n",
       "  </tbody>\n",
       "</table>\n",
       "</div>"
      ],
      "text/plain": [
       "         sumsquare_error\n",
       "norm            0.673911\n",
       "uniform         0.712854\n",
       "expon           0.743335"
      ]
     },
     "execution_count": 8,
     "metadata": {},
     "output_type": "execute_result"
    },
    {
     "data": {
      "image/png": "[encoded data removed]",
      "text/plain": [
       "<Figure size 432x288 with 1 Axes>"
      ]
     },
     "metadata": {
      "needs_background": "light"
     },
     "output_type": "display_data"
    }
   ],
   "source": [
    "#Let's repeat it for 'weight' data\n",
    "fitter_for_weight = Fitter(weight, distributions=['norm', 'expon', 'uniform'])\n",
    "fitter_for_weight.fit()\n",
    "fitter_for_weight.summary()"
   ]
  },
  {
   "attachments": {},
   "cell_type": "markdown",
   "metadata": {},
   "source": [
    "## Getting the parameters of the distribution\n",
    "<div style=\"font-size:16px; line-height:25pt\">\n",
    "After we have chosen the best probability distribution, we can get the parameters of the distribution with <b>fitted_param</b>.<br>\n",
    "As we can see, best fitted distribution for \"height\" data is <b>Uniform</b> Distribution and for \"weight\" data is <b>Normal</b> Distribution. Now, we can get the parameters of both <b>Distribution</b>\n",
    "    </div>"
   ]
  },
  {
   "cell_type": "code",
   "execution_count": 9,
   "metadata": {},
   "outputs": [
    {
     "data": {
      "text/plain": [
       "(153.5, 35.0)"
      ]
     },
     "execution_count": 9,
     "metadata": {},
     "output_type": "execute_result"
    }
   ],
   "source": [
    "fitter_for_height.fitted_param['uniform']"
   ]
  },
  {
   "cell_type": "markdown",
   "metadata": {},
   "source": [
    "<div style=\"font-size:16px; line-height:25pt\">\n",
    "Uniform Distribution has two parameters which are the <b>beginning</b> and the <b>end</b> of the distribution. For example, \"Height\" data starts at 153.5 until 188.5 and these two values are the parameters of <b>Uniform</b> Distribution.\n",
    "    </div>"
   ]
  },
  {
   "cell_type": "code",
   "execution_count": 10,
   "metadata": {},
   "outputs": [],
   "source": [
    "uniform_param = fitter_for_height.fitted_param['uniform']\n",
    "#Let's store the parameters in a variable which will later be used to plot the Distribution"
   ]
  },
  {
   "cell_type": "code",
   "execution_count": 11,
   "metadata": {},
   "outputs": [
    {
     "data": {
      "text/plain": [
       "(64.05, 7.036582977553808)"
      ]
     },
     "execution_count": 11,
     "metadata": {},
     "output_type": "execute_result"
    }
   ],
   "source": [
    "fitter_for_weight.fitted_param['norm']"
   ]
  },
  {
   "cell_type": "markdown",
   "metadata": {},
   "source": [
    "<div style=\"font-size:16px; line-height:25pt\">\n",
    "Normal Distribution has also two parameters which are the <b>Mean</b> and <b>Standard Deviation</b> of the distribution. So, average weight in our data is 64.05(kg) and they vary by 7.03.\n",
    "    <div>"
   ]
  },
  {
   "cell_type": "code",
   "execution_count": 12,
   "metadata": {},
   "outputs": [],
   "source": [
    "norm_param = fitter_for_weight.fitted_param['norm']\n",
    "#Let's store the parameters in a variable which will later be used to plot the Distribution"
   ]
  },
  {
   "cell_type": "markdown",
   "metadata": {},
   "source": [
    "## Plotting the Probability Distribution\n",
    "We will be using Matplotlib package to plot the Distribution and use Scipy package to create the distribution"
   ]
  },
  {
   "cell_type": "code",
   "execution_count": 17,
   "metadata": {},
   "outputs": [
    {
     "data": {
      "text/plain": [
       "[<matplotlib.lines.Line2D at 0xb9b07f0>]"
      ]
     },
     "execution_count": 17,
     "metadata": {},
     "output_type": "execute_result"
    },
    {
     "data": {
      "image/png": "[encoded data removed]",
      "text/plain": [
       "<Figure size 432x288 with 1 Axes>"
      ]
     },
     "metadata": {
      "needs_background": "light"
     },
     "output_type": "display_data"
    }
   ],
   "source": [
    "#Here is the plot of Normal Distribution for Weight dataset\n",
    "from pylab import linspace, plot #for plotting\n",
    "import scipy.stats\n",
    "\n",
    "norm_dist = scipy.stats.norm #Creating Normal Distribution\n",
    "\n",
    "X = linspace(min(weight),max(weight), len(weight)) #Linspace has 3 parameters: minimum and maximum value and number of samples\n",
    "pdf_fitted = norm_dist.pdf(X, *norm_param) #Creating pdf of the normal distribution\n",
    "plot(X, pdf_fitted, '--r')  #Plotting the distribution"
   ]
  },
  {
   "cell_type": "code",
   "execution_count": 23,
   "metadata": {},
   "outputs": [
    {
     "data": {
      "text/plain": [
       "[<matplotlib.lines.Line2D at 0xb9af240>]"
      ]
     },
     "execution_count": 23,
     "metadata": {},
     "output_type": "execute_result"
    },
    {
     "data": {
      "image/png": "[encoded data removed]",
      "text/plain": [
       "<Figure size 432x288 with 1 Axes>"
      ]
     },
     "metadata": {
      "needs_background": "light"
     },
     "output_type": "display_data"
    }
   ],
   "source": [
    "#Here is the plot of Uniform Distribution for Height dataset\n",
    "from pylab import linspace, plot #for plotting\n",
    "import scipy.stats\n",
    "\n",
    "uniform_dist = scipy.stats.uniform #Creating Uniform Distribution\n",
    "\n",
    "X = linspace(min(height),max(height), len(height)) #Linspace has 3 parameters: minimum and maximum value and number of samples\n",
    "pdf_fitted = uniform_dist.pdf(X, *uniform_param)\n",
    "plot(X, pdf_fitted, marker='*')"
   ]
  },
  {
   "cell_type": "markdown",
   "metadata": {},
   "source": [
    "## Questions:"
   ]
  },
  {
   "attachments": {},
   "cell_type": "markdown",
   "metadata": {},
   "source": [
    "Following is part of data from file \"Practical Example.Descriptive-statistics-lesson\"\n",
    "<img src=\"table_for_question.png\">"
   ]
  },
  {
   "cell_type": "code",
   "execution_count": 45,
   "metadata": {},
   "outputs": [],
   "source": [
    "#Read the file named \"Practical-example.Descriptive-statistics-lesson\".\n",
    "#Store Area, Price and Month of Sale rows into three separate lists.\n",
    "\n",
    "#Precode for Questions\n",
    "import pandas as pd  #Importing pandas\n",
    "\n",
    "fitness_db = pd.read_excel('sample_data_bmi.xlsx', \"Sheet1\", skiprows=1)\n",
    "#Read the excel file shown above and store it in \"product_db\"\n",
    "product_db \n"
   ]
  },
  {
   "cell_type": "markdown",
   "metadata": {},
   "source": [
    "Question1. Find which distribution fits best for \"BMI\" data.(Limit Distributions to only Uniform, Normal and Exponential)"
   ]
  },
  {
   "cell_type": "code",
   "execution_count": 24,
   "metadata": {
    "collapsed": true
   },
   "outputs": [
    {
     "ename": "NameError",
     "evalue": "name 'fitter_for_bmi' is not defined",
     "output_type": "error",
     "traceback": [
      "\u001b[1;31m---------------------------------------------------------------------------\u001b[0m",
      "\u001b[1;31mNameError\u001b[0m                                 Traceback (most recent call last)",
      "\u001b[1;32m<ipython-input-24-260ec30cbdce>\u001b[0m in \u001b[0;36m<module>\u001b[1;34m\u001b[0m\n\u001b[0;32m      5\u001b[0m \u001b[1;33m\u001b[0m\u001b[0m\n\u001b[0;32m      6\u001b[0m \u001b[1;31m#Store Fitter object in a variable below. Tip: Make use of \"fit\" and \"summary\" functions of Fitter\u001b[0m\u001b[1;33m\u001b[0m\u001b[1;33m\u001b[0m\u001b[1;33m\u001b[0m\u001b[0m\n\u001b[1;32m----> 7\u001b[1;33m \u001b[0mfitter_for_bmi\u001b[0m\u001b[1;33m\u001b[0m\u001b[1;33m\u001b[0m\u001b[0m\n\u001b[0m",
      "\u001b[1;31mNameError\u001b[0m: name 'fitter_for_bmi' is not defined"
     ]
    }
   ],
   "source": [
    "#Precode for Question 1\n",
    "\n",
    "#Store \"BMI\" data into a list.\n",
    "\n",
    "\n",
    "#Store Fitter object in a variable below. \n",
    "fitter_for_bmi"
   ]
  },
  {
   "cell_type": "markdown",
   "metadata": {},
   "source": [
    "Question2. Find the Parameters of the distribution that you chose in question 1."
   ]
  },
  {
   "cell_type": "code",
   "execution_count": null,
   "metadata": {},
   "outputs": [],
   "source": [
    "#Precode for Question 2\n",
    "#Tip: Make use of \"fit\" and \"summary\" functions of Fitter\n",
    "\n",
    "bmi_dist_param"
   ]
  },
  {
   "cell_type": "markdown",
   "metadata": {},
   "source": [
    "Question3. Plot the pdf of the distribution that you chose in Question1."
   ]
  },
  {
   "cell_type": "code",
   "execution_count": null,
   "metadata": {},
   "outputs": [],
   "source": [
    "#Precode for Question 3\n",
    "from pylab import linspace, plot #for plotting\n",
    "import scipy.stats as st\n",
    "\n",
    "#Create the distribution\n",
    "bmi_dist\n",
    "\n",
    "X = linspace() #takes 3 parameters: minimum and maximum value and number of samples\n",
    "bmi_dist_pdf = bmi_dist.pdf() #takes 2 parameters: Linspace and parameters of the distribution\n",
    "plot()"
   ]
  },
  {
   "cell_type": "markdown",
   "metadata": {},
   "source": [
    "Question4. Find which distribution fits best for \"Area\" data. (Limit Distributions to only Uniform, Normal and Exponential)"
   ]
  },
  {
   "cell_type": "code",
   "execution_count": null,
   "metadata": {},
   "outputs": [],
   "source": [
    "#Precode for Question 4\n",
    "\n",
    "#Store \"Area\" data into a list.\n",
    "\n",
    "#Store Fitter object in a variable below. \n",
    "fitter_for_area"
   ]
  },
  {
   "cell_type": "markdown",
   "metadata": {},
   "source": [
    "Question5. Find and explain the parameters of the distribution you chose for \"Area\" data."
   ]
  },
  {
   "cell_type": "code",
   "execution_count": null,
   "metadata": {},
   "outputs": [],
   "source": [
    "#Precode for Question 5\n",
    "\n",
    "area_dist_param"
   ]
  },
  {
   "cell_type": "markdown",
   "metadata": {},
   "source": [
    "Question6. Plot the pdf of the distribution for \"Area\" data and use the parameters you found."
   ]
  },
  {
   "cell_type": "code",
   "execution_count": null,
   "metadata": {},
   "outputs": [],
   "source": [
    "#Precode for Question 6\n",
    "#Tip: Importing library should be done once per file\n",
    "#Create the distribution\n",
    "area_dist\n",
    "\n",
    "X = linspace() #takes 3 parameters: minimum and maximum value and number of samples\n",
    "area_dist_pdf = area_dist.pdf() #takes 2 parameters: Linspace and parameters of the distribution\n",
    "plot()"
   ]
  },
  {
   "cell_type": "markdown",
   "metadata": {},
   "source": [
    "Question7. Find which distribution fits best for \"Price\" data. (Limit Distributions to only Uniform, Normal and Exponential)"
   ]
  },
  {
   "cell_type": "code",
   "execution_count": 25,
   "metadata": {
    "collapsed": true
   },
   "outputs": [
    {
     "ename": "NameError",
     "evalue": "name 'fitter_for_price' is not defined",
     "output_type": "error",
     "traceback": [
      "\u001b[1;31m---------------------------------------------------------------------------\u001b[0m",
      "\u001b[1;31mNameError\u001b[0m                                 Traceback (most recent call last)",
      "\u001b[1;32m<ipython-input-25-177242e838dc>\u001b[0m in \u001b[0;36m<module>\u001b[1;34m\u001b[0m\n\u001b[0;32m      4\u001b[0m \u001b[1;33m\u001b[0m\u001b[0m\n\u001b[0;32m      5\u001b[0m \u001b[1;31m#Store Fitter object in a variable below.\u001b[0m\u001b[1;33m\u001b[0m\u001b[1;33m\u001b[0m\u001b[1;33m\u001b[0m\u001b[0m\n\u001b[1;32m----> 6\u001b[1;33m \u001b[0mfitter_for_price\u001b[0m\u001b[1;33m\u001b[0m\u001b[1;33m\u001b[0m\u001b[0m\n\u001b[0m",
      "\u001b[1;31mNameError\u001b[0m: name 'fitter_for_price' is not defined"
     ]
    }
   ],
   "source": [
    "#Precode for Question 7\n",
    "\n",
    "#Store \"Price\" data into a list.\n",
    "\n",
    "#Store Fitter object in a variable below. \n",
    "fitter_for_price"
   ]
  },
  {
   "cell_type": "markdown",
   "metadata": {},
   "source": [
    "Question8. Find and explain the parameters of the distribution you chose for \"Price\" data."
   ]
  },
  {
   "cell_type": "code",
   "execution_count": null,
   "metadata": {},
   "outputs": [],
   "source": [
    "#Precode for Question 8\n",
    "\n",
    "price_dist_param"
   ]
  },
  {
   "cell_type": "markdown",
   "metadata": {},
   "source": [
    "Question9. Plot the pdf of the distribution for \"Price\" data and use the parameters you found."
   ]
  },
  {
   "cell_type": "code",
   "execution_count": null,
   "metadata": {},
   "outputs": [],
   "source": [
    "#Precode for Question 9\n",
    "#Create the distribution\n",
    "price_dist\n",
    "\n",
    "X = linspace() #takes 3 parameters: minimum and maximum value and number of samples\n",
    "price_dist_pdf = price_dist.pdf() #takes 2 parameters: Linspace and parameters of the distribution\n",
    "plot()"
   ]
  },
  {
   "cell_type": "markdown",
   "metadata": {},
   "source": [
    "Question10. Find which distribution fits best for \"Month of Sale\" data. (Limit Distributions to only Uniform, Normal and Exponential)"
   ]
  },
  {
   "cell_type": "code",
   "execution_count": null,
   "metadata": {},
   "outputs": [],
   "source": [
    "#Precode for Question 10\n",
    "\n",
    "#Store \"Price\" data into a list.\n",
    "\n",
    "#Store Fitter object in a variable below. \n",
    "fitter_for_monthly_sale"
   ]
  },
  {
   "cell_type": "markdown",
   "metadata": {},
   "source": [
    "Question11. Find and explain the parameters of the distribution you chose for \"Month of Sale\" data."
   ]
  },
  {
   "cell_type": "code",
   "execution_count": null,
   "metadata": {},
   "outputs": [],
   "source": [
    "#Precode for Question 11\n",
    "\n",
    "monthly_sale_dist_param"
   ]
  },
  {
   "cell_type": "markdown",
   "metadata": {},
   "source": [
    "Question12. Plot the pdf of the distribution for \"Month of Sale\" data and use the parameters you found."
   ]
  },
  {
   "cell_type": "code",
   "execution_count": null,
   "metadata": {},
   "outputs": [],
   "source": [
    "#Precode for Question 12\n",
    "#Create the distribution\n",
    "monthly_sale_dist\n",
    "\n",
    "X = linspace() #takes 3 parameters: minimum and maximum value and number of samples\n",
    "monthly_sale_dist_pdf = monthly_sale_dist.pdf() #takes 2 parameters: Linspace and parameters of the distribution\n",
    "plot()"
   ]
  }
 ],
 "metadata": {
  "kernelspec": {
   "display_name": "Python 3",
   "language": "python",
   "name": "python3"
  },
  "language_info": {
   "codemirror_mode": {
    "name": "ipython",
    "version": 3
   },
   "file_extension": ".py",
   "mimetype": "text/x-python",
   "name": "python",
   "nbconvert_exporter": "python",
   "pygments_lexer": "ipython3",
   "version": "3.7.3"
  }
 },
 "nbformat": 4,
 "nbformat_minor": 2
}
