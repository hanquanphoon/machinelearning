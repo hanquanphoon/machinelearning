{
 "cells": [
  {
   "cell_type": "markdown",
   "metadata": {
    "deletable": true,
    "editable": true
   },
   "source": [
    "# Normal Distribution\n",
    "\n",
    "Data can be \"distributed\" (spread out) in different ways.\n",
    "<br> <img src=\"figure1.PNG\">\n",
    "\n",
    "<br>But there are many cases where the data tends to be around a central value with no bias left or right, and it gets close to a \"Normal Distribution\" like this: <img src=\"figure2.PNG\">\n",
    "\n",
    "<br>We say the data is \"normally distributed\": <img src=\"figure3.PNG\">\n",
    "<br><img src=\"figure8.PNG\">\n",
    "<br><img src=\"figure9.PNG\"> "
   ]
  },
  {
   "cell_type": "markdown",
   "metadata": {
    "deletable": true,
    "editable": true
   },
   "source": [
    "### Standard Deviations\n",
    "\n",
    "The Standard Deviation is a measure of how spread out numbers are.\n",
    "When dealing with standard deviation for normal distribution, we find that generally: \n",
    "<img src=\"figure4.PNG\">"
   ]
  },
  {
   "cell_type": "markdown",
   "metadata": {
    "deletable": true,
    "editable": true
   },
   "source": [
    "**Example 1**: 95% of students at school are between 1.1m and 1.7m tall.\n",
    "Assuming this data is normally distributed, can you calculate the mean and standard deviation?\n"
   ]
  },
  {
   "cell_type": "markdown",
   "metadata": {
    "deletable": true,
    "editable": true
   },
   "source": [
    "<em>Hint</em>: We know that in normal distribution 95% of values are within two standard deviations of the mean.\n",
    "<br><img src=\"figure5.PNG\">\n",
    "From the figure, we can see that the mean is halfway between 1.1m and 1.7m. And also, 95% is 2 standard deviations either side of the mean (a total of 4 standard deviations).\n"
   ]
  },
  {
   "cell_type": "code",
   "execution_count": 3,
   "metadata": {
    "collapsed": false,
    "deletable": true,
    "editable": true
   },
   "outputs": [
    {
     "name": "stdout",
     "output_type": "stream",
     "text": [
      "1.4\n"
     ]
    }
   ],
   "source": [
    "#SOLUTION:\n",
    "\n",
    "mean=(1.1+1.7)/2\n",
    "print (mean)\n",
    "\n"
   ]
  },
  {
   "cell_type": "code",
   "execution_count": 6,
   "metadata": {
    "collapsed": false
   },
   "outputs": [
    {
     "name": "stdout",
     "output_type": "stream",
     "text": [
      "0.15\n"
     ]
    }
   ],
   "source": [
    "#we know 95% means:\n",
    "# mean-2(standard_deviation)=1.1\n",
    "# mean+2(standard_deviation)=1.7\n",
    "#4*(standard_deviation)=(1.7-1.1)\n",
    "\n",
    "standard_deviation=0.6/4\n",
    "print (standard_deviation)"
   ]
  },
  {
   "cell_type": "markdown",
   "metadata": {
    "deletable": true,
    "editable": true
   },
   "source": [
    "And graphically, the normal distribution is:\n",
    "<br><img src=\"figure6.PNG\">\n"
   ]
  },
  {
   "cell_type": "markdown",
   "metadata": {
    "deletable": true,
    "editable": true
   },
   "source": [
    "### Create random samples from a normal distribution using numpy\n",
    "\n",
    "***numpy.random.normal(loc= ,scale= ,size= )***\n",
    "<br><br>Parameters:\n",
    "<br>a) <em>loc</em>: mean (center) of the distribution.\n",
    "<br>b) <em>scale</em>: standard deviation (spread or width) of the distribution.\n",
    "<br>c) <em>size</em>: output shape/ size of the samples.\n",
    "<br><br>Returns:\n",
    "<br> Drawn samples from the parameterized normal distribution."
   ]
  },
  {
   "cell_type": "markdown",
   "metadata": {
    "deletable": true,
    "editable": true
   },
   "source": [
    "**Example2.1**: Generate a random samples for normal distributions with the following properties:\n",
    "<br>a) size of samples=10000\n",
    "<br>b) mean=100\n",
    "<br>c) standard deviation=0.1\n"
   ]
  },
  {
   "cell_type": "code",
   "execution_count": 2,
   "metadata": {
    "collapsed": true,
    "deletable": true,
    "editable": true
   },
   "outputs": [],
   "source": [
    "#SOLUTION:\n",
    "\n",
    "#step 1: import nmupy libry\n",
    "import numpy as np\n",
    "\n",
    "#step 2: Assign the mean and standard deviation in a variable.\n",
    "mean=100\n",
    "sd=0.1\n",
    "size=10000\n",
    "\n",
    "#step 3: Create a random samples for normal distribution using numpy and put it in a list.\n",
    "X=np.random.normal(mean,sd,size)"
   ]
  },
  {
   "cell_type": "markdown",
   "metadata": {
    "deletable": true,
    "editable": true
   },
   "source": [
    "### Plot histogram for normal distribution using matplotlib\n",
    "\n",
    "***matplotlib.pyplot.hist(data, bins, density=True, color)***\n",
    "\n",
    "<br>Parameters:\n",
    "<br>a) <em>data</em>: sample data for normal distribution.\n",
    "<br>b) <em>bins</em>: size of class interval. (It will create a list of bin edges)\n",
    "<br>c) <em>density</em>: booleans, if 'True', data is normalized.\n",
    "<br>d) <em>color</em>: bar color\n",
    "<br><br>Returns:\n",
    "<br> 1) Draw a histogram\n",
    "<br> 2) Return value of (array, bins, patches)\n",
    "\n",
    "<em>***We need this bins value to draw our normal distribution.</em>\n"
   ]
  },
  {
   "cell_type": "markdown",
   "metadata": {
    "deletable": true,
    "editable": true
   },
   "source": [
    "**Example2.2**: Using the sample data from Example 2.1, draw a histogram for its normal distribution."
   ]
  },
  {
   "cell_type": "code",
   "execution_count": 3,
   "metadata": {
    "collapsed": false,
    "deletable": true,
    "editable": true
   },
   "outputs": [
    {
     "data": {
      "image/png": "[encoded data removed]",
      "text/plain": [
       "<Figure size 432x288 with 1 Axes>"
      ]
     },
     "metadata": {
      "needs_background": "light"
     },
     "output_type": "display_data"
    }
   ],
   "source": [
    "#SOLUTION:\n",
    "\n",
    "#step 1: import matplotlib libry\n",
    "import matplotlib.pyplot as plt\n",
    "\n",
    "#step 2: Create a histogram for the random samples and set the number of data bins. Use appropriate number of bins. \n",
    "n, bins, patches =plt.hist(X,bins=50,density=True)"
   ]
  },
  {
   "cell_type": "markdown",
   "metadata": {
    "deletable": true,
    "editable": true
   },
   "source": [
    "### Probability density functions (pdf)\n",
    "Probability distributions are typically defined in terms of the probability density function. However, there are a number of probability functions used in applications.\n",
    "\n",
    "<br> For normal distribution, its probability density function (pdf) depends on its mean and standard deviation, where \n",
    "<br><img src=\"figure7.PNG\"> \n",
    "\n",
    "<br>Since for continuous distributions the probability at a single point is zero, this is often expressed in terms of an integral between two points. \n",
    "\n",
    "In python, we can use stats library to find the pdf for normal distribution:\n",
    "<br>***stats.norm.pdf(x, loc, scale)***\n",
    "<br><br>Parameters:\n",
    "<br>a) <em>x</em>: value from a distribution.\n",
    "<br>b) <em>loc</em>: mean (center) of the distribution.\n",
    "<br>c) <em>scale</em>: standard deviation (spread or width) of the distribution.\n",
    "<br><br>Returns:\n",
    "<br> Probability density function,pdf for a distribution. "
   ]
  },
  {
   "cell_type": "markdown",
   "metadata": {
    "deletable": true,
    "editable": true
   },
   "source": [
    "**Example2.2**: Using the bins value from Example 2.2 , draw a graph for its ***probability density function(pdf)***."
   ]
  },
  {
   "cell_type": "code",
   "execution_count": 4,
   "metadata": {
    "collapsed": false,
    "deletable": true,
    "editable": true,
    "scrolled": true
   },
   "outputs": [
    {
     "data": {
      "image/png": "[encoded data removed]",
      "text/plain": [
       "<Figure size 432x288 with 1 Axes>"
      ]
     },
     "metadata": {
      "needs_background": "light"
     },
     "output_type": "display_data"
    }
   ],
   "source": [
    "#SOLUTION:\n",
    "\n",
    "#step 1: import scipy libry\n",
    "from scipy.stats import norm\n",
    "\n",
    "#step 2: Find the pdf for each item in the bins and put it in a list.\n",
    "pdf=[]\n",
    "for i in bins:\n",
    "    f=norm.pdf(i,mean,sd)\n",
    "    pdf.append(f)\n",
    "\n",
    "#step 3: Plot the graph for the pdf using matplotlib.\n",
    "plt.plot(bins,pdf, linewidth=2, color='r')    \n",
    "\n",
    "plt.xlabel('Data')\n",
    "plt.ylabel('Probability')\n",
    "plt.title('Pdf with mean=0, standard deviation=0.1')\n",
    "plt.grid(True)\n",
    "plt.show()\n"
   ]
  },
  {
   "cell_type": "markdown",
   "metadata": {
    "deletable": true,
    "editable": true
   },
   "source": [
    "### Commulative density functions (cdf)\n",
    "The comulative distribution function (cdf) is the probability that the variable takes a value less than or equal to x. <img src=\"figure19.PNG\">\n",
    "\n",
    "<br>We know that the sum of all probabilities must equal 100%, therefore: <img src=\"figure20.PNG\">\n",
    "\n",
    "In python, we can use stats libry to find the cdf for normal distribution:\n",
    "<br>***stats.norm.cdf(x, loc, scale)***\n",
    "<br><br>Parameters:\n",
    "<br>a) <em>x</em>: value from a distribution.\n",
    "<br>b) <em>loc</em>: mean (center) of the distribution.\n",
    "<br>c) <em>scale</em>: standard deviation (spread or width) of the distribution.\n",
    "<br><br>Returns:\n",
    "<br> Probability of less or equal than value of x.\n",
    "\n"
   ]
  },
  {
   "cell_type": "markdown",
   "metadata": {
    "deletable": true,
    "editable": true
   },
   "source": [
    "**Example2.3**: Using the bins value from Example 2.2, draw a graph for its ***commulative density function (cdf)***."
   ]
  },
  {
   "cell_type": "code",
   "execution_count": 5,
   "metadata": {
    "collapsed": false,
    "deletable": true,
    "editable": true
   },
   "outputs": [
    {
     "data": {
      "image/png": "[encoded data removed]",
      "text/plain": [
       "<Figure size 432x288 with 1 Axes>"
      ]
     },
     "metadata": {
      "needs_background": "light"
     },
     "output_type": "display_data"
    }
   ],
   "source": [
    "#SOLUTION:\n",
    "\n",
    "#step 1: Find the pdf for each item in the bins and put it in a list.\n",
    "cdf=[]\n",
    "for i in bins:\n",
    "    f=norm.cdf(i,mean,sd)\n",
    "    cdf.append(f)\n",
    "\n",
    "#step 6: Plot the graph for the pdf using matplotlib.\n",
    "plt.plot(bins,cdf, linewidth=2, color='g')    \n",
    "\n",
    "plt.xlabel('Data')\n",
    "plt.ylabel('Probability')\n",
    "plt.title('Cdf with mean=100, standard deviation=0.1')\n",
    "plt.grid(True)\n",
    "plt.show()"
   ]
  },
  {
   "cell_type": "markdown",
   "metadata": {
    "deletable": true,
    "editable": true
   },
   "source": [
    "**Example3**: X is a normal distributed variable with mean = 30 and standard deviation = 4. Find \n",
    "<br>a) probability of x less than 40, P(x < 35). <img src=\"figure16.PNG\" width='350' >\n",
    "\n",
    "\n",
    "<br>b) probability of x greater than 21, P(x > 21). <img src=\"figure17.PNG\" width='350' >\n",
    "<br>c) probability of x between 30 and 35, P(30 < x < 35) <img src=\"figure18.PNG\" width='350' >"
   ]
  },
  {
   "cell_type": "code",
   "execution_count": 6,
   "metadata": {
    "collapsed": false,
    "deletable": true,
    "editable": true
   },
   "outputs": [
    {
     "name": "stdout",
     "output_type": "stream",
     "text": [
      "0.894350226333\n",
      "0.987775527345\n",
      "0.394350226333\n"
     ]
    }
   ],
   "source": [
    "#SOLUTION:\n",
    "\n",
    "from scipy.stats import norm\n",
    "\n",
    "mean=30\n",
    "sd=4\n",
    "\n",
    "#(a)\n",
    "p=norm.cdf(35, mean, sd)\n",
    "print p\n",
    "\n",
    "#(b)\n",
    "p=1-norm.cdf(21, mean, sd)\n",
    "print p\n",
    "\n",
    "#(c)\n",
    "p1=norm.cdf(35, mean, sd)\n",
    "p2=norm.cdf(30, mean, sd)\n",
    "p=p1-p2\n",
    "print p"
   ]
  },
  {
   "cell_type": "markdown",
   "metadata": {
    "deletable": true,
    "editable": true
   },
   "source": [
    "### Percent  point functions (ppf)\n",
    "The percent point function (ppf) is the inverse of the cumulative distribution function (cdf).\n",
    "For ppf, we start with the probability and compute the corresponding x for the cumulative distribution. <img src=\"figure21.PNG\">\n",
    "\n",
    "\n",
    "\n",
    "In python, we can use stats libry to find the ppf for normal distribution: \n",
    "<br>***stats.norm.ppf(q, loc, scale)***\n",
    "<br><br>Parameters:\n",
    "<br>a) <em>q</em>: probability for value less than x.\n",
    "<br>b) <em>loc</em>: mean (center) of the distribution.\n",
    "<br>c) <em>scale</em>: standard deviation (spread or width) of the distribution.\n",
    "<br><br>Returns:\n",
    "<br>Value of x corresponding to the probability, q."
   ]
  },
  {
   "cell_type": "markdown",
   "metadata": {
    "deletable": true,
    "editable": true
   },
   "source": [
    "**Example4**: Based on the solution from Example 3 (for a and b only), use its probability to find the value of the corresponding x. \n",
    "(***HINT***: You should get back the same value of x from Example 3.)"
   ]
  },
  {
   "cell_type": "code",
   "execution_count": 7,
   "metadata": {
    "collapsed": false,
    "deletable": true,
    "editable": true
   },
   "outputs": [
    {
     "name": "stdout",
     "output_type": "stream",
     "text": [
      "35.0\n",
      "21.0\n"
     ]
    }
   ],
   "source": [
    "#SOLUTION:\n",
    "\n",
    "from scipy.stats import norm\n",
    "\n",
    "mean=30\n",
    "sd=4\n",
    "\n",
    "#(a)\n",
    "x=norm.ppf(0.894350226333, mean, sd)\n",
    "print x\n",
    "\n",
    "#(b)\n",
    "x=norm.ppf(1-0.987775527345, mean, sd)\n",
    "print x\n"
   ]
  },
  {
   "cell_type": "markdown",
   "metadata": {
    "deletable": true,
    "editable": true
   },
   "source": [
    "# Exercises"
   ]
  },
  {
   "cell_type": "markdown",
   "metadata": {
    "deletable": true,
    "editable": true
   },
   "source": [
    "**TASK 1**: The ages of all students in a class is normally distributed. The 95% of total data is between the age 15.6 and 18.4. Find the mean and standard deviation of the given data.\n",
    "\n",
    "***Hint***: We know that in normal distribution 95% of values are within two standard deviations of the mean."
   ]
  },
  {
   "cell_type": "code",
   "execution_count": 8,
   "metadata": {
    "collapsed": false,
    "deletable": true,
    "editable": true
   },
   "outputs": [
    {
     "name": "stdout",
     "output_type": "stream",
     "text": [
      "17.0\n",
      "0.7\n"
     ]
    }
   ],
   "source": [
    "#SOLUTION 1: \n",
    "mean=(15.6+18.4)/2\n",
    "sd=(18.4-17)/2\n",
    "\n",
    "print mean\n",
    "print sd"
   ]
  },
  {
   "cell_type": "markdown",
   "metadata": {
    "deletable": true,
    "editable": true
   },
   "source": [
    "**TASK 2**: Generate a random samples for normal distributions with the following properties:\n",
    "<br>a) size of samples=5000\n",
    "<br>b) mean=150\n",
    "<br>c) standard deviation=30"
   ]
  },
  {
   "cell_type": "code",
   "execution_count": 9,
   "metadata": {
    "collapsed": false,
    "deletable": true,
    "editable": true
   },
   "outputs": [
    {
     "name": "stdout",
     "output_type": "stream",
     "text": [
      "[ 143.18729388  127.55987731  112.74597688 ...,  148.99523052  118.19810231\n",
      "  146.01926812]\n"
     ]
    }
   ],
   "source": [
    "#SOLUTION 2:\n",
    "import numpy as np\n",
    "\n",
    "mean=150\n",
    "sd=30\n",
    "size=5000\n",
    "\n",
    "X=np.random.normal(mean,sd,size)\n",
    "print X"
   ]
  },
  {
   "cell_type": "markdown",
   "metadata": {
    "deletable": true,
    "editable": true
   },
   "source": [
    "**TASK 3**: Now draw a histogram of normal distribution for sample data from Task 2."
   ]
  },
  {
   "cell_type": "code",
   "execution_count": 10,
   "metadata": {
    "collapsed": false,
    "deletable": true,
    "editable": true
   },
   "outputs": [
    {
     "data": {
      "image/png": "[encoded data removed]",
      "text/plain": [
       "<Figure size 432x288 with 1 Axes>"
      ]
     },
     "metadata": {
      "needs_background": "light"
     },
     "output_type": "display_data"
    }
   ],
   "source": [
    "#SOLUTION 3:\n",
    "import matplotlib.pyplot as plt\n",
    "\n",
    "n, bins, patches =plt.hist(X,bins=50,density=True, color='purple')\n"
   ]
  },
  {
   "cell_type": "markdown",
   "metadata": {
    "deletable": true,
    "editable": true
   },
   "source": [
    "**TASK 4**: Now draw the pdf for random samples from Task 2."
   ]
  },
  {
   "cell_type": "code",
   "execution_count": 11,
   "metadata": {
    "collapsed": false,
    "deletable": true,
    "editable": true
   },
   "outputs": [
    {
     "data": {
      "image/png": "[encoded data removed]",
      "text/plain": [
       "<Figure size 432x288 with 1 Axes>"
      ]
     },
     "metadata": {
      "needs_background": "light"
     },
     "output_type": "display_data"
    }
   ],
   "source": [
    "#SOLUTION 4:\n",
    "\n",
    "from scipy.stats import norm\n",
    "\n",
    "pdf=[]\n",
    "for i in bins:\n",
    "    f=norm.pdf(i,mean,sd)\n",
    "    pdf.append(f)\n",
    "\n",
    "plt.plot(bins,pdf, linewidth=2, color='brown')    \n",
    "\n",
    "plt.xlabel('Data')\n",
    "plt.ylabel('Probability')\n",
    "plt.title('Pdf with mean=150, standard deviation=30')\n",
    "plt.grid(True)\n",
    "plt.show()"
   ]
  },
  {
   "cell_type": "markdown",
   "metadata": {
    "deletable": true,
    "editable": true
   },
   "source": [
    "**TASK 5**: Now draw the cdf for random samples from Task 2."
   ]
  },
  {
   "cell_type": "code",
   "execution_count": 12,
   "metadata": {
    "collapsed": false,
    "deletable": true,
    "editable": true
   },
   "outputs": [
    {
     "data": {
      "image/png": "[encoded data removed]",
      "text/plain": [
       "<Figure size 432x288 with 1 Axes>"
      ]
     },
     "metadata": {
      "needs_background": "light"
     },
     "output_type": "display_data"
    }
   ],
   "source": [
    "#SOLUTION 5:\n",
    "\n",
    "cdf=[]\n",
    "for i in bins:\n",
    "    f=norm.cdf(i,mean,sd)\n",
    "    cdf.append(f)\n",
    "\n",
    "plt.plot(bins,cdf, linewidth=2, color='cyan')    \n",
    "\n",
    "plt.xlabel('Data')\n",
    "plt.ylabel('Probability')\n",
    "plt.title('Cdf with mean=150, standard deviation=30')\n",
    "plt.grid(True)\n",
    "plt.show()"
   ]
  },
  {
   "cell_type": "markdown",
   "metadata": {
    "deletable": true,
    "editable": true
   },
   "source": [
    "**TASK 6**: \n",
    "\n",
    "If mean of a given data for a random value is 81.1 and standard deviation is 4.7, then find the probability of getting a value more than 83."
   ]
  },
  {
   "cell_type": "code",
   "execution_count": 13,
   "metadata": {
    "collapsed": false,
    "deletable": true,
    "editable": true
   },
   "outputs": [
    {
     "name": "stdout",
     "output_type": "stream",
     "text": [
      "0.656987510915\n",
      "0.343012489085\n"
     ]
    }
   ],
   "source": [
    "#SOLUTION 6:\n",
    "\n",
    "mean=81.1\n",
    "sd=4.7\n",
    "\n",
    "#cdf for less than 83\n",
    "p=norm.cdf(83, mean, sd)\n",
    "print p\n",
    "\n",
    "#cdf for more than 83\n",
    "print (1-p)"
   ]
  },
  {
   "cell_type": "markdown",
   "metadata": {
    "deletable": true,
    "editable": true
   },
   "source": [
    "**TASK 7**: The average speed of a car is 65 km/h with a standard deviation of 4. Find the probability that the speed is less than 60 km/h."
   ]
  },
  {
   "cell_type": "code",
   "execution_count": 14,
   "metadata": {
    "collapsed": false,
    "deletable": true,
    "editable": true
   },
   "outputs": [
    {
     "name": "stdout",
     "output_type": "stream",
     "text": [
      "0.105649773667\n"
     ]
    }
   ],
   "source": [
    "#SOLUTION 7\n",
    "\n",
    "mean=65\n",
    "sd=4\n",
    "\n",
    "#cdf for less than 60\n",
    "p=norm.cdf(60,mean,sd)\n",
    "print p\n"
   ]
  },
  {
   "cell_type": "markdown",
   "metadata": {
    "deletable": true,
    "editable": true
   },
   "source": [
    "**Task 8**: The average score of a statistics test for a class is 85 and standard deviation is 10. Find the probability of a random score falling between 75 and 95."
   ]
  },
  {
   "cell_type": "code",
   "execution_count": 15,
   "metadata": {
    "collapsed": false,
    "deletable": true,
    "editable": true
   },
   "outputs": [
    {
     "name": "stdout",
     "output_type": "stream",
     "text": [
      "0.682689492137\n"
     ]
    }
   ],
   "source": [
    "#SOLUTION 8 :\n",
    "\n",
    "mean=85\n",
    "sd=10\n",
    "\n",
    "#cdf less than 75\n",
    "p1=norm.cdf(75,mean,sd)\n",
    "\n",
    "#cdf less than 95\n",
    "p2=norm.cdf(95,mean,sd)\n",
    "\n",
    "#cdf between 75 and 95\n",
    "p=p2-p1\n",
    "print p"
   ]
  },
  {
   "cell_type": "markdown",
   "metadata": {
    "deletable": true,
    "editable": true
   },
   "source": [
    "**Task 9**: The heights of students in a class are normally distributed with mean 160cm and standard deviation 8cm. Given that we are looking for students who are larger than 25% of all other students, what size does the subject have to be?"
   ]
  },
  {
   "cell_type": "code",
   "execution_count": 16,
   "metadata": {
    "collapsed": false,
    "deletable": true,
    "editable": true
   },
   "outputs": [
    {
     "name": "stdout",
     "output_type": "stream",
     "text": [
      "154.604081998\n"
     ]
    }
   ],
   "source": [
    "#SOLUTION 9:\n",
    "mean=160 \n",
    "sd=8\n",
    "\n",
    "height=norm.ppf(0.25,mean,sd)\n",
    "print height"
   ]
  },
  {
   "cell_type": "markdown",
   "metadata": {
    "deletable": true,
    "editable": true
   },
   "source": [
    "**Task 10**: The weight of students in a class are normally distributed with mean 45kg and standard deviation 2kg. Given that we are looking for students who are lighter than 95% of all other students, what size does the subject have to be?"
   ]
  },
  {
   "cell_type": "code",
   "execution_count": 17,
   "metadata": {
    "collapsed": false,
    "deletable": true,
    "editable": true
   },
   "outputs": [
    {
     "name": "stdout",
     "output_type": "stream",
     "text": [
      "41.7102927461\n"
     ]
    }
   ],
   "source": [
    "#SOLUTION 10:\n",
    "\n",
    "mean=45\n",
    "sd=2\n",
    "\n",
    "weight=norm.ppf(1-0.95, mean, sd)\n",
    "print weight"
   ]
  },
  {
   "cell_type": "markdown",
   "metadata": {
    "deletable": true,
    "editable": true
   },
   "source": [
    "**REFERENCES**:\n",
    "\n",
    "<br> 1) Scipy.org\n",
    "<br>https://docs.scipy.org/doc/scipy/reference/generated/scipy.stats.norm.html\n",
    "\n",
    "<br>2) CDF, PPF in Excel, R and Python\n",
    "<br>http://eric.univ-lyon2.fr/~ricco/tanagra/fichiers/en_Tanagra_Calcul_P_Value.pdf\n",
    "\n",
    "<br> Math Is Fun\n",
    "<br> https://www.mathsisfun.com/data/standard-normal-distribution.html\n",
    " "
   ]
  }
 ],
 "metadata": {
  "kernelspec": {
   "display_name": "Python 3",
   "language": "python",
   "name": "python3"
  },
  "language_info": {
   "codemirror_mode": {
    "name": "ipython",
    "version": 3
   },
   "file_extension": ".py",
   "mimetype": "text/x-python",
   "name": "python",
   "nbconvert_exporter": "python",
   "pygments_lexer": "ipython3",
   "version": "3.5.2"
  }
 },
 "nbformat": 4,
 "nbformat_minor": 2
}
