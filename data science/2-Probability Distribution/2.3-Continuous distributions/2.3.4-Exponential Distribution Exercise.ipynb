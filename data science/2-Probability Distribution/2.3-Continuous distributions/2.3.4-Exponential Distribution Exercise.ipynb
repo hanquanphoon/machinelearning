{
 "cells": [
  {
   "cell_type": "markdown",
   "metadata": {
    "deletable": true,
    "editable": true
   },
   "source": [
    "# Exponential Distribution Exercise\n",
    "\n",
    "<br>\n",
    "\n",
    "### Task 1\n",
    "The number of days ahead travelers purchase their airline tickets can be modeled by an exponential distribution with the **average amount of time equal to 15 days**. \n",
    "\n",
    "Draw a Exponential Distributed graph without using numpy. Label your X-axis and Y-axis.\n",
    "\n",
    "> **Hints:** \n",
    "> 1. Set x with a range\n",
    "> 2. Find the **value** for **mean** and **lambda**\n",
    "> 3. Use PDF formula $ f(x)= \\lambda e^{-\\lambda x} $ to find f(x)"
   ]
  },
  {
   "cell_type": "code",
   "execution_count": 19,
   "metadata": {
    "collapsed": false,
    "deletable": true,
    "editable": true
   },
   "outputs": [
    {
     "data": {
      "image/png": "[encoded data removed]",
      "text/plain": [
       "<Figure size 432x288 with 1 Axes>"
      ]
     },
     "metadata": {
      "needs_background": "light"
     },
     "output_type": "display_data"
    }
   ],
   "source": [
    "# Equation: lamb*math.exp((-lamb)*x)\n",
    "import random\n",
    "import math\n",
    "import matplotlib.pyplot as plt\n"
   ]
  },
  {
   "cell_type": "markdown",
   "metadata": {
    "deletable": true,
    "editable": true
   },
   "source": [
    "### Task 2\n",
    "Refer the information in Task 1, solve the question below.\n",
    "\n",
    "a. ***Find the probability*** that a traveler will purchase a ticket ***fewer than ten days in advance***. <br>\n",
    "b. ***Find the probability*** that the traveler will purchase a ticket between ***4 to 6 days***\n",
    "\n",
    "> **Hints:**\n",
    "> 1. Use CDF formula: $ f(x) = 1 - e^{-\\lambda x} $<br><br>\n",
    "> 2. $ P(4 < x < 6) $ Use **P(x < 6) - P(x < 4)**"
   ]
  },
  {
   "cell_type": "code",
   "execution_count": 1,
   "metadata": {
    "collapsed": true,
    "deletable": true,
    "editable": true
   },
   "outputs": [],
   "source": [
    "# Equation: 1 - math.exp((-lamb)*x)\n"
   ]
  },
  {
   "cell_type": "markdown",
   "metadata": {
    "deletable": true,
    "editable": true
   },
   "source": [
    "### Task 3\n",
    "On the **average**, a certain computer part lasts **ten years**. The **length of time** the computer part lasts is exponentially distributed.\n",
    "\n",
    "Draw a Exponential Distributed graph without using numpy."
   ]
  },
  {
   "cell_type": "code",
   "execution_count": 25,
   "metadata": {
    "collapsed": false,
    "deletable": true,
    "editable": true
   },
   "outputs": [
    {
     "data": {
      "image/png": "[encoded data removed]",
      "text/plain": [
       "<Figure size 432x288 with 1 Axes>"
      ]
     },
     "metadata": {
      "needs_background": "light"
     },
     "output_type": "display_data"
    }
   ],
   "source": [
    "import random\n",
    "import math\n",
    "import matplotlib.pyplot as plt"
   ]
  },
  {
   "cell_type": "markdown",
   "metadata": {
    "deletable": true,
    "editable": true
   },
   "source": [
    "### Task 4\n",
    "Refer the information in Task 3, solve the question below.\n",
    "\n",
    "a. What is the ***probability*** that a computer part ***lasts more than 7 years***?<br>\n",
    "b. Find **P(9 < x < 11)**\n",
    "\n",
    "> **Hints:**\n",
    "> 1. **Total probability = 1**"
   ]
  },
  {
   "cell_type": "code",
   "execution_count": null,
   "metadata": {
    "collapsed": true,
    "deletable": true,
    "editable": true
   },
   "outputs": [],
   "source": []
  },
  {
   "cell_type": "markdown",
   "metadata": {
    "deletable": true,
    "editable": true
   },
   "source": [
    "### Task 5\n",
    "Suppose that the **length of a phone call (in minutes)** is an exponential random variable with decay parameter = <b>$ \\frac{1}{12} $</b>\n",
    "\n",
    "a. Find <b>$ {\\overline{x}} $</b> and <b>$ \\lambda $</b> <br>\n",
    "b. Draw the graph. (Not using numpy)\n",
    "\n",
    "> **Hints:**\n",
    "> 1. Decay parameter = Lambda"
   ]
  },
  {
   "cell_type": "code",
   "execution_count": null,
   "metadata": {
    "collapsed": true,
    "deletable": true,
    "editable": true
   },
   "outputs": [],
   "source": [
    "import random\n",
    "import math\n",
    "import matplotlib.pyplot as plt"
   ]
  },
  {
   "cell_type": "markdown",
   "metadata": {
    "deletable": true,
    "editable": true
   },
   "source": [
    "### Task 6\n",
    "Refer the information in Task 5, solve the question below.\n",
    "\n",
    "If another person arrives at a public telephone just before you, **find the probability** that you will have to **wait more than five minutes**. \n",
    "\n",
    "> **Hints:**\n",
    "> $ P(x > 5) $"
   ]
  },
  {
   "cell_type": "code",
   "execution_count": null,
   "metadata": {
    "collapsed": true,
    "deletable": true,
    "editable": true
   },
   "outputs": [],
   "source": []
  },
  {
   "cell_type": "markdown",
   "metadata": {
    "deletable": true,
    "editable": true
   },
   "source": [
    "### Task 7\n",
    "The time spent waiting between events is often modeled using the exponential distribution. For example, suppose that an **average of 30 customers per hour** arrive at a store and the time between arrivals is exponentially distributed.\n",
    "\n",
    "<br>\n",
    "\n",
    "**Plot a graph** that represented to the information above **without using numpy**. Set the length of your data to 20 hours."
   ]
  },
  {
   "cell_type": "code",
   "execution_count": null,
   "metadata": {
    "collapsed": true,
    "deletable": true,
    "editable": true
   },
   "outputs": [],
   "source": [
    "import random\n",
    "import math\n",
    "import matplotlib.pyplot as plt"
   ]
  },
  {
   "cell_type": "markdown",
   "metadata": {
    "deletable": true,
    "editable": true
   },
   "source": [
    "### Task 8\n",
    "Refer the information in Task 7, solve the question below.\n",
    "\n",
    "a. Find the area when x is between 5 and 15. <br>\n",
    "b. **Seventy percent** of the customers arrive within how many minutes of the previous customer?\n",
    "\n",
    "> **Hints:**<br>\n",
    "> a. Area means find the probability. So $ P(5<x<15) $<br>\n",
    "> b. $ P(X < x) = 0.70 $"
   ]
  },
  {
   "cell_type": "code",
   "execution_count": null,
   "metadata": {
    "collapsed": true,
    "deletable": true,
    "editable": true
   },
   "outputs": [],
   "source": [
    "import math"
   ]
  },
  {
   "cell_type": "markdown",
   "metadata": {
    "deletable": true,
    "editable": true
   },
   "source": [
    "### Task 9\n",
    "The time (in hours) required to repair a machine is an exponential distributed random variable with paramter $ \\lambda = \\frac{1}{2} $.\n",
    "\n",
    "Plot a **PDF** and **CDF** graph using **numpy**. Remember tp label x-axis and y-axis.\n",
    "\n",
    "> **Hints:**<br>\n",
    "> a. Generate your lists with ***np.random.exponential(mean,scale of data)*** <br>\n",
    "> b. Remeber to ***sort()*** your list. <br>\n",
    "> c. Use ***st.expon.pdf(lists_name)*** and ***st.expon.cdf(lists_name)***"
   ]
  },
  {
   "cell_type": "code",
   "execution_count": null,
   "metadata": {
    "collapsed": true,
    "deletable": true,
    "editable": true
   },
   "outputs": [],
   "source": [
    "import numpy as np\n",
    "import scipy.stats as st"
   ]
  },
  {
   "cell_type": "markdown",
   "metadata": {
    "deletable": true,
    "editable": true
   },
   "source": [
    "### Task 10\n",
    "Refer the information in Task 9. Solve the question below.\n",
    "\n",
    "a. Find the **probability** that a repair time **exceeds 2 hours**. <br>\n",
    "b. Base on the PDF graph, find the **area between the 1 - 4 hours**."
   ]
  },
  {
   "cell_type": "code",
   "execution_count": null,
   "metadata": {
    "collapsed": true,
    "deletable": true,
    "editable": true
   },
   "outputs": [],
   "source": [
    "def cdf(x):\n",
    "    return 1 - math.exp((-lamb)*x)"
   ]
  }
 ],
 "metadata": {
  "kernelspec": {
   "display_name": "Python 3",
   "language": "python",
   "name": "python3"
  },
  "language_info": {
   "codemirror_mode": {
    "name": "ipython",
    "version": 3
   },
   "file_extension": ".py",
   "mimetype": "text/x-python",
   "name": "python",
   "nbconvert_exporter": "python",
   "pygments_lexer": "ipython3",
   "version": "3.5.2"
  }
 },
 "nbformat": 4,
 "nbformat_minor": 2
}
