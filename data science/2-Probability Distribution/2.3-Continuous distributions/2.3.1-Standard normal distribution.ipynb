{
 "cells": [
  {
   "cell_type": "markdown",
   "metadata": {
    "deletable": true,
    "editable": true
   },
   "source": [
    "## Standard normal distribution\n",
    "\n",
    " <img src=\"figure10.PNG\">"
   ]
  },
  {
   "cell_type": "markdown",
   "metadata": {
    "deletable": true,
    "editable": true
   },
   "source": [
    "**Example 1**: A normal distribution has a mean=8 and a standard deviation=2. Calculate the standard score deviation of the value X=13."
   ]
  },
  {
   "cell_type": "code",
   "execution_count": 12,
   "metadata": {
    "collapsed": false,
    "deletable": true,
    "editable": true
   },
   "outputs": [
    {
     "name": "stdout",
     "output_type": "stream",
     "text": [
      "-0.5\n"
     ]
    }
   ],
   "source": [
    "#Solution 1:\n",
    "mean=8 \n",
    "sd=2\n",
    "X=13\n",
    "\n",
    "z=(X-mean)/sd\n",
    "print z_score"
   ]
  },
  {
   "cell_type": "markdown",
   "metadata": {
    "deletable": true,
    "editable": true
   },
   "source": [
    "**Example 2**: The masses of students of a school are normally distributed with a mean of 60 kg and a standard deviation of 15 kg.\n",
    "Find\n",
    "(i) the standard score of the mass of 65 kg.\n",
    "(ii) the mass of student that corresponds to the score of -1/2."
   ]
  },
  {
   "cell_type": "code",
   "execution_count": 14,
   "metadata": {
    "collapsed": false,
    "deletable": true,
    "editable": true
   },
   "outputs": [
    {
     "name": "stdout",
     "output_type": "stream",
     "text": [
      "0.333333333333\n"
     ]
    }
   ],
   "source": [
    "#Solution 2.1:\n",
    "mean=60.\n",
    "sd=15\n",
    "X=65\n",
    "\n",
    "z=(X-mean)/sd\n",
    "print z\n"
   ]
  },
  {
   "cell_type": "code",
   "execution_count": 15,
   "metadata": {
    "collapsed": false,
    "deletable": true,
    "editable": true
   },
   "outputs": [
    {
     "name": "stdout",
     "output_type": "stream",
     "text": [
      "52.5\n"
     ]
    }
   ],
   "source": [
    "#Solution 2.2:\n",
    "z=-1./2\n",
    "\n",
    "X=z*sd+mean\n",
    "print X\n"
   ]
  },
  {
   "cell_type": "code",
   "execution_count": 18,
   "metadata": {
    "collapsed": false,
    "deletable": true,
    "editable": true
   },
   "outputs": [
    {
     "data": {
      "text/plain": [
       "0.10748769707458694"
      ]
     },
     "execution_count": 18,
     "metadata": {},
     "output_type": "execute_result"
    }
   ],
   "source": [
    "import scipy.stats as st\n",
    "st.norm.cdf(-1.24)   \n"
   ]
  },
  {
   "cell_type": "markdown",
   "metadata": {
    "deletable": true,
    "editable": true
   },
   "source": [
    "### Commulative Probability of a standard normal distribution\n",
    "\n",
    "By itself, the Z-score doesn’t provide much information to you. It gains the most value when compared against a Z-table, which tabulates the cumulative probability of a standard normal distribution up until a given Z-score.\n",
    "\n",
    "<img src=\"figure12.PNG\" width='400' height='380'>\n",
    "\n",
    "We know that the sum of all probabilities must equal 100%, so we can use the Z-table to calculate probabilities on both sides of the Z-score under the normal distribution. \n",
    "\n",
    "<img src=\"figure13.PNG\" width='450' height='400'>\n",
    "\n",
    "\n",
    "<br>When reading the tables of the standard normal distribution, we have to take note of the following:\n",
    " \n",
    " <img src=\"figure11.PNG\" width='800' height='500'>\n"
   ]
  },
  {
   "cell_type": "markdown",
   "metadata": {
    "deletable": true,
    "editable": true
   },
   "source": [
    "**Example 3**:\n",
    "Z is the Random Variable that follows the Standard Normal Distribution.\n",
    "<br>What is P( Z < 0.76)? \n",
    "<br>(What is the probability that Z is less than 0.76?)"
   ]
  },
  {
   "cell_type": "code",
   "execution_count": 2,
   "metadata": {
    "collapsed": false,
    "deletable": true,
    "editable": true
   },
   "outputs": [
    {
     "name": "stdout",
     "output_type": "stream",
     "text": [
      "0.776372707562\n"
     ]
    }
   ],
   "source": [
    "#solution:\n",
    "\n",
    "# We'll bring in scipy to do the calculation of probability from the Z-table\n",
    "import scipy.stats as st\n",
    "\n",
    "z=0.76\n",
    "p=st.norm.cdf(z)\n",
    "print p"
   ]
  },
  {
   "cell_type": "markdown",
   "metadata": {
    "deletable": true,
    "editable": true
   },
   "source": [
    "**Example 4**: Z is the Random Variable that follows the Standard Normal Distribution. \n",
    "<br>What is P( Z > 1.24)?"
   ]
  },
  {
   "cell_type": "markdown",
   "metadata": {
    "deletable": true,
    "editable": true
   },
   "source": [
    "<i>Hint</i>: As the curve is symmetrical about the vertical line, so we can consider the area from the other side. \n",
    "<img src=\"figure14.PNG\">\n",
    "<br>P(Z>1.24) = P(Z<-1.24)"
   ]
  },
  {
   "cell_type": "code",
   "execution_count": 4,
   "metadata": {
    "collapsed": false,
    "deletable": true,
    "editable": true
   },
   "outputs": [
    {
     "name": "stdout",
     "output_type": "stream",
     "text": [
      "0.107487697075\n"
     ]
    }
   ],
   "source": [
    "#solution:\n",
    "z=-1.24\n",
    "p=st.norm.cdf(z)\n",
    "print p"
   ]
  },
  {
   "cell_type": "markdown",
   "metadata": {
    "deletable": true,
    "editable": true
   },
   "source": [
    "**Example 5**: Z is the Random Variable that follows the Standard Normal Distribution. \n",
    "<br>What is P (0 < Z < 2.47)"
   ]
  },
  {
   "cell_type": "markdown",
   "metadata": {
    "deletable": true,
    "editable": true
   },
   "source": [
    "<i>Hint</i>\n",
    "<img src=\"figure15.PNG\">\n"
   ]
  },
  {
   "cell_type": "code",
   "execution_count": 6,
   "metadata": {
    "collapsed": false,
    "deletable": true,
    "editable": true
   },
   "outputs": [
    {
     "name": "stdout",
     "output_type": "stream",
     "text": [
      "0.493244347393\n"
     ]
    }
   ],
   "source": [
    "#solution:\n",
    "z1=2.47\n",
    "z2=0\n",
    "\n",
    "p1=st.norm.cdf(z1)\n",
    "p2=st.norm.cdf(z2)\n",
    "\n",
    "p=p1-p2\n",
    "print p"
   ]
  }
 ],
 "metadata": {
  "kernelspec": {
   "display_name": "Python 3",
   "language": "python",
   "name": "python3"
  },
  "language_info": {
   "codemirror_mode": {
    "name": "ipython",
    "version": 3
   },
   "file_extension": ".py",
   "mimetype": "text/x-python",
   "name": "python",
   "nbconvert_exporter": "python",
   "pygments_lexer": "ipython3",
   "version": "3.5.2"
  }
 },
 "nbformat": 4,
 "nbformat_minor": 2
}
