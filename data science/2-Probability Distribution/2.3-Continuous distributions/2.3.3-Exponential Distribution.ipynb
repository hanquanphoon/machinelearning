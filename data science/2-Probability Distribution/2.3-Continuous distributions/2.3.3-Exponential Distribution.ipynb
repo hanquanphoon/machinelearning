{
 "cells": [
  {
   "cell_type": "markdown",
   "metadata": {
    "deletable": true,
    "editable": true
   },
   "source": [
    "# Exponential Distribution"
   ]
  },
  {
   "cell_type": "markdown",
   "metadata": {
    "deletable": true,
    "editable": true
   },
   "source": [
    "## <b>1. </b><b style=\"text-decoration:underline;\">What is Exponential Distribution?</b>\n",
    "<br>\n",
    "The <b>exponential distribution</b> is one of the widely used <b>continuous distributions</b>. It is often used to <b>model the time elapsed between events</b>. <br>\n",
    "Exponential distribution normally is used in climate.\n",
    "\n",
    "> Dictionary: model = simulation\n",
    "    \n",
    "### Watch the video for further more understanding..."
   ]
  },
  {
   "cell_type": "code",
   "execution_count": 1,
   "metadata": {
    "collapsed": false,
    "deletable": true,
    "editable": true
   },
   "outputs": [
    {
     "data": {
      "text/html": [
       "<iframe width=\"853\" height=\"480\" src=\"https://www.youtube.com/embed/bKkLYSi5XNE?start=000&end=194\" frameborder=\"0\" allow=\"accelerometer; autoplay; encrypted-media; gyroscope; picture-in-picture\" allowfullscreen></iframe>"
      ],
      "text/plain": [
       "<IPython.core.display.HTML object>"
      ]
     },
     "metadata": {},
     "output_type": "display_data"
    }
   ],
   "source": [
    "%%HTML\n",
    "<iframe width=\"853\" height=\"480\" src=\"https://www.youtube.com/embed/bKkLYSi5XNE?start=000&end=194\" frameborder=\"0\" allow=\"accelerometer; autoplay; encrypted-media; gyroscope; picture-in-picture\" allowfullscreen></iframe>"
   ]
  },
  {
   "cell_type": "markdown",
   "metadata": {
    "deletable": true,
    "editable": true
   },
   "source": [
    "<hr style=\"border:2px solid;\">\n",
    "\n",
    "<br><br><br><br>\n",
    "\n",
    "## <b>2. </b><b style=\"text-decoration:underline;\">Equations of Exponential Distribution</b>"
   ]
  },
  {
   "cell_type": "markdown",
   "metadata": {
    "deletable": true,
    "editable": true
   },
   "source": [
    "<br><br>\n",
    "\n",
    "<b style=\"font-size:2em;font-weight:900;\">a. </b>\n",
    "<b style=\"font-size:2em;text-decoration:underline;font-weight:900;\">PDF (Probability Density Function)</b><br>\n",
    "\n",
    "<b style=\"font-size:3em;\"> $$ f(x)= \\lambda e^{-\\lambda x} $$ </b><br>\n",
    "<b style=\"font-size:2em;\">$$ where:  x > 0 $$</b>\n",
    "\n",
    "<b style=\"font-size:16px;\">\n",
    " In PDF (Probability Density Function):\n",
    "\n",
    " * $ x > 0 $\n",
    " * $ e $ is the natural number (2.71)\n",
    " * $ \\lambda \\neq constant $, where <b style=\"font-size:20px;\">$ \\lambda = \\frac{1}{\\overline{x}} $</b>\n",
    " * $ \\lambda $ cannot less then 0, where <b style=\"font-size:20px;\">$ x > 0 $</b>\n",
    "</b>\n",
    "\n",
    "<br><br>\n",
    "\n",
    "<b style=\"font-size:16px;\">The outcome of the graph will be like the image below:</b>\n",
    "<img src=\"Exponential_pdf.PNG\" width=500, height=300>"
   ]
  },
  {
   "cell_type": "markdown",
   "metadata": {
    "deletable": true,
    "editable": true
   },
   "source": [
    "<b style=\"font-size:2em;font-weight:900;\">2. </b>\n",
    "<b style=\"font-size:2em;text-decoration:underline;font-weight:900;\">CDF (Cumulative Distribution Function)</b><br>\n",
    "\n",
    "<b style=\"font-size:3em;\"> $$ F(x) = 1 - e^{-\\lambda x} $$ </b>\n",
    "\n",
    "\n",
    "> Why we need to use <b>1 minus $ e^{-\\lambda x} $</b> is due to the <b>total probability = 1</b>\n",
    "\n",
    "<br><br>\n",
    "\n",
    "<b style=\"font-size:16px;\">The outcome of the graph will be like the image below:</b>\n",
    "<img src=\"Exponential_cdf.PNG\" width=500, height=300>\n",
    "\n",
    "<br>\n",
    "\n",
    "### Watch the video for further more understanding about CDF..."
   ]
  },
  {
   "cell_type": "code",
   "execution_count": 2,
   "metadata": {
    "collapsed": false,
    "deletable": true,
    "editable": true
   },
   "outputs": [
    {
     "data": {
      "text/html": [
       "<iframe width=\"853\" height=\"480\" src=\"https://www.youtube.com/embed/nkBafy_nj3A\" frameborder=\"0\" allow=\"accelerometer; autoplay; encrypted-media; gyroscope; picture-in-picture\" allowfullscreen></iframe>"
      ],
      "text/plain": [
       "<IPython.core.display.HTML object>"
      ]
     },
     "metadata": {},
     "output_type": "display_data"
    }
   ],
   "source": [
    "%%HTML\n",
    "<iframe width=\"853\" height=\"480\" src=\"https://www.youtube.com/embed/nkBafy_nj3A\" frameborder=\"0\" allow=\"accelerometer; autoplay; encrypted-media; gyroscope; picture-in-picture\" allowfullscreen></iframe>"
   ]
  },
  {
   "cell_type": "markdown",
   "metadata": {
    "deletable": true,
    "editable": true
   },
   "source": [
    "<hr style=\"border:2px solid;\">\n",
    "\n",
    "<br><br><br><br>\n",
    "\n",
    "## <b>3. </b><b style=\"text-decoration:underline;\">More about Exponential Distribution</b>"
   ]
  },
  {
   "cell_type": "markdown",
   "metadata": {
    "deletable": true,
    "editable": true
   },
   "source": [
    "<b style=\"font-size:20px;font-weight:900;\">The images below shows the graph of Exponential Distribution in PDF &amp; CDF in excel</b>\n",
    "<img src=\"exponential_distribution_excel.PNG\">"
   ]
  },
  {
   "cell_type": "markdown",
   "metadata": {
    "deletable": true,
    "editable": true
   },
   "source": [
    "<b style=\"font-size:20px;font-weight:900;\">Solving a real life Question.</b>\n",
    "\n",
    "### Question 1.\n",
    "\n",
    "The **amount of time** spouses shop for anniversary cards can be modeled by an exponential distribution with the ***average amount of time equal to eight minutes***.\n",
    "\n",
    "Question<br>\n",
    "    a. State the probability density function<br>\n",
    "    b. graph the distribution.\n",
    "<br><br>\n",
    "\n",
    "#### Solution for\n",
    "<b style=\"text-decoration:underline;\">Question a</b>\n",
    "1. Average of time (<b>$ {\\overline{x}} $</b>) = 8 mins\n",
    "1. Lambda (<b>$ \\lambda $</b>) = 0.125 or $ \\frac{1}{8} $\n",
    "1. Equation equals <b>$ f(x)= 0.125e^{-0.125x} $</b>\n",
    "\n",
    "<b style=\"text-decoration:underline;\">Question b</b><br>\n",
    "We solve the equation already. Let's plot the graph\n",
    "1. First, find the value for f(x)\n",
    "1. Let's set the range of x from 0 to 20\n",
    "1. Make a new list that append() fx value by using the formula\n",
    "1. Lastly, plot the graph with (x,fx)"
   ]
  },
  {
   "cell_type": "code",
   "execution_count": 3,
   "metadata": {
    "collapsed": false,
    "deletable": true,
    "editable": true
   },
   "outputs": [
    {
     "data": {
      "image/png": "[encoded data removed]",
      "text/plain": [
       "<Figure size 432x288 with 1 Axes>"
      ]
     },
     "metadata": {
      "needs_background": "light"
     },
     "output_type": "display_data"
    }
   ],
   "source": [
    "import matplotlib.pyplot as plt\n",
    "import numpy as np\n",
    "import math\n",
    "\n",
    "x = range(0,21)\n",
    "lamb = 0.125\n",
    "fx = []\n",
    "for i in x:\n",
    "    fx.append(lamb*math.exp(-lamb*i))\n",
    "    \n",
    "plt.plot(x,fx)\n",
    "plt.xlabel('x')\n",
    "plt.ylabel('$f(x)$')\n",
    "plt.show()"
   ]
  },
  {
   "cell_type": "markdown",
   "metadata": {
    "deletable": true,
    "editable": true
   },
   "source": [
    "### Question 2.\n",
    "Using the information in Question 1, \n",
    "\n",
    "Question<br>\n",
    "    a. ***find the probability*** that a clerk **spends four to five minutes** with a customer.<br>\n",
    "    b. ***Half*** of all customers are ***finished within how long***? (Find the ***50th percentile***)\n",
    "\n",
    "<br><br>\n",
    "#### Solution for\n",
    "<b style=\"text-decoration:underline;\">Question a</b><br>\n",
    "We need to find the probability that a clerk spends 4-5 mins with a customer, $ P(4<x<5) $\n",
    "<img src=\"example1.PNG\">\n",
    "\n",
    "> Cumulative distribution function (CDF) gives the area to the left.\n",
    "\n",
    "\n",
    "To find the probability, we need to use cumulative distribution function (CDF). \n",
    "1. Use the formula: $ P(x < x) = 1 - e^{-\\lambda x} $. When\n",
    "    * $ P(x < 5) = 1 - e^{(-0.125)(5)} $ = 0.464738571481\n",
    "    * $ P(x < 4) = 1 - e^{(-0.125)(4)} $ = 0.393469340287\n",
    "<br><br>\n",
    "1. Then $ P(4 < x < 5) $\n",
    "    * = $ P(x < 5) $ - $ P(x < 4) $\n",
    "    * = 0.464738571481 - 0.393469340287\n",
    "    * = **0.071269231194**\n",
    "    \n",
    "<b> &darr; Below are the codes for solving this question. &darr; </b>"
   ]
  },
  {
   "cell_type": "code",
   "execution_count": 4,
   "metadata": {
    "collapsed": false,
    "deletable": true,
    "editable": true
   },
   "outputs": [
    {
     "name": "stdout",
     "output_type": "stream",
     "text": [
      "0.0712692311936\n"
     ]
    }
   ],
   "source": [
    "x5 = 1 - math.exp(-0.125*5)\n",
    "x4 = 1 - math.exp(-0.125*4)\n",
    "\n",
    "print x5-x4"
   ]
  },
  {
   "cell_type": "markdown",
   "metadata": {
    "deletable": true,
    "editable": true
   },
   "source": [
    "<b style=\"text-decoration:underline;\">Question b</b><br>\n",
    "***Half*** of all customers are ***finished within how long***? (Find the ***50th percentile***)\n",
    "<img src=\"example2.PNG\">\n",
    "\n",
    "1. First, find the value of k. Put in the formula\n",
    "    * $ P(x < k) = 0.50 $\n",
    "    * = $ 1 - e^{(-0.125)(k)} = 0.50$\n",
    "    * = $ e^{(-0.125)(k)} = 1 - 0.50$\n",
    "    * = $ e^{(-0.125)(k)} = 0.50 $\n",
    "    * = $ \\ln(e^{(-0.125)(k)}) = \\ln(0.50) $ &larr; Then take natural log ($\\ln x = \\log_{e} x$)\n",
    "    * $ k = \\frac{\\log(0.50)}{-0.125} $\n",
    "    * $ k = 5.55 $\n",
    "    \n",
    "<b> &darr; Below are the codes for solving this question. &darr; </b>"
   ]
  },
  {
   "cell_type": "code",
   "execution_count": 6,
   "metadata": {
    "collapsed": false,
    "deletable": true,
    "editable": true,
    "scrolled": true
   },
   "outputs": [
    {
     "name": "stdout",
     "output_type": "stream",
     "text": [
      "5.54517744448\n"
     ]
    }
   ],
   "source": [
    "k = math.log(0.50) / -0.125\n",
    "print k\n"
   ]
  },
  {
   "cell_type": "markdown",
   "metadata": {
    "deletable": true,
    "editable": true
   },
   "source": [
    "<b style=\"font-size:20px;font-weight:900;\">How can we define a question to use Exponential Distribution.</b>"
   ]
  },
  {
   "cell_type": "code",
   "execution_count": 3,
   "metadata": {
    "collapsed": false,
    "deletable": true,
    "editable": true
   },
   "outputs": [
    {
     "data": {
      "text/html": [
       "<iframe width=\"853\" height=\"480\" src=\"https://www.youtube.com/embed/_AK4Z1Al9d4\" frameborder=\"0\" allow=\"accelerometer; autoplay; encrypted-media; gyroscope; picture-in-picture\" allowfullscreen></iframe>"
      ],
      "text/plain": [
       "<IPython.core.display.HTML object>"
      ]
     },
     "metadata": {},
     "output_type": "display_data"
    }
   ],
   "source": [
    "%%HTML\n",
    "<iframe width=\"853\" height=\"480\" src=\"https://www.youtube.com/embed/_AK4Z1Al9d4\" frameborder=\"0\" allow=\"accelerometer; autoplay; encrypted-media; gyroscope; picture-in-picture\" allowfullscreen></iframe>"
   ]
  },
  {
   "cell_type": "markdown",
   "metadata": {
    "deletable": true,
    "editable": true
   },
   "source": [
    "<hr style=\"border:2px solid;\">\n",
    "\n",
    "<br><br><br><br>\n",
    "\n",
    "## <b>4. </b><b style=\"text-decoration:underline;\">Python Code</b>\n",
    "\n",
    "<br>\n",
    "\n",
    "<b style=\"font-size:1.5em;\">First Ways (Using random and math library)</b>\n",
    "* **import random, math** and **matplotlib library**\n",
    "* make a list\n",
    "* **sort()** the list\n",
    "* find <b>average</b>\n",
    "* find <b>$ \\lambda $</b>\n",
    "* find f(x) by using PDF formula **$ f(x)= \\lambda e^{-\\lambda x} $**\n",
    "* lastly, **plot your graph**\n",
    "\n",
    "<br><br>\n",
    "<b style=\"font-size:2em;font-weight:900;\">Example 1: PDF graph</b>"
   ]
  },
  {
   "cell_type": "code",
   "execution_count": 9,
   "metadata": {
    "collapsed": false,
    "deletable": true,
    "editable": true
   },
   "outputs": [
    {
     "data": {
      "image/png": "[encoded data removed]",
      "text/plain": [
       "<Figure size 432x288 with 1 Axes>"
      ]
     },
     "metadata": {
      "needs_background": "light"
     },
     "output_type": "display_data"
    }
   ],
   "source": [
    "import random\n",
    "import math\n",
    "import matplotlib.pyplot as plt\n",
    "\n",
    "x1 = []\n",
    "pdf_list = []\n",
    "\n",
    "for i in range(100):\n",
    "    x1.append(random.randint(0,10))\n",
    "\n",
    "x1.sort()\n",
    "\n",
    "mean = float(sum(x1)/len(x1))\n",
    "lamb = 1 / mean\n",
    "\n",
    "def pdf(x):\n",
    "    return lamb*(math.exp((-lamb)*x))\n",
    "    #            ---- this part ----\n",
    "#   we can write in this way too math.e**((-1*lamb)*x))\n",
    "\n",
    "\n",
    "for j in x1:\n",
    "    pdf_list.append(pdf(j))\n",
    "\n",
    "\n",
    "plt.plot(x1, pdf_list, lw = 5, label = \"PDF\")\n",
    "plt.legend(loc=\"best\")\n",
    "plt.show()"
   ]
  },
  {
   "cell_type": "markdown",
   "metadata": {
    "deletable": true,
    "editable": true
   },
   "source": [
    "<b style=\"font-size:2em;font-weight:900;\">Example 1: CDF graph</b>"
   ]
  },
  {
   "cell_type": "code",
   "execution_count": 10,
   "metadata": {
    "collapsed": false,
    "deletable": true,
    "editable": true
   },
   "outputs": [
    {
     "data": {
      "image/png": "[encoded data removed]",
      "text/plain": [
       "<Figure size 432x288 with 1 Axes>"
      ]
     },
     "metadata": {
      "needs_background": "light"
     },
     "output_type": "display_data"
    }
   ],
   "source": [
    "cdf_list = []\n",
    "\n",
    "def cdf(x):\n",
    "    return 1 - math.exp((-lamb)*x)\n",
    "    #          ---- this part ----\n",
    "#   we can write in this way too math.e**((-1*lamb)*x))\n",
    "\n",
    "\n",
    "for k in x1:\n",
    "    cdf_list.append(cdf(k))\n",
    "    \n",
    "plt.plot(x1, cdf_list, color=\"red\", lw = 5, label = \"CDF\")\n",
    "plt.legend(loc=\"best\")\n",
    "plt.show()"
   ]
  },
  {
   "cell_type": "markdown",
   "metadata": {
    "deletable": true,
    "editable": true
   },
   "source": [
    "<br><br><br><br>\n",
    "\n",
    "<b style=\"font-size:2em;font-weight:900;\">Example 2: PDF graph</b>\n",
    "\n",
    "<br>\n",
    "\n",
    "<b style=\"font-size:1.5em;text-decoration:underline;\">Second Ways (Using numpy and scipy library)</b>\n",
    "* **import numpy, scipy.stats** and **matplotlib library**\n",
    "* make a list with **np.random.exponential(mean, scale of data)**\n",
    "* **sort()** the list\n",
    "* To find f(x) use **st.expon.pdf(x)**\n",
    "* lastly, **plot your graph**"
   ]
  },
  {
   "cell_type": "code",
   "execution_count": 11,
   "metadata": {
    "collapsed": false,
    "deletable": true,
    "editable": true
   },
   "outputs": [
    {
     "data": {
      "image/png": "[encoded data removed]",
      "text/plain": [
       "<Figure size 432x288 with 1 Axes>"
      ]
     },
     "metadata": {
      "needs_background": "light"
     },
     "output_type": "display_data"
    }
   ],
   "source": [
    "import numpy as np\n",
    "import scipy.stats as st\n",
    "\n",
    "\n",
    "x = np.random.exponential(0.5,100)\n",
    "#   np.random.exponential(mean, scale of data)\n",
    "\n",
    "x.sort()\n",
    "\n",
    "expo_pdf = st.expon.pdf(x)\n",
    "\n",
    "\n",
    "plt.plot(x, expo_pdf, lw = 2, label = \"PDF\")\n",
    "plt.legend(loc=\"best\")\n",
    "plt.show()"
   ]
  },
  {
   "cell_type": "markdown",
   "metadata": {
    "deletable": true,
    "editable": true
   },
   "source": [
    "<b style=\"font-size:2em;font-weight:900;\">Example 2: CDF graph</b>"
   ]
  },
  {
   "cell_type": "code",
   "execution_count": 12,
   "metadata": {
    "collapsed": false,
    "deletable": true,
    "editable": true,
    "scrolled": true
   },
   "outputs": [
    {
     "data": {
      "image/png": "[encoded data removed]",
      "text/plain": [
       "<Figure size 432x288 with 1 Axes>"
      ]
     },
     "metadata": {
      "needs_background": "light"
     },
     "output_type": "display_data"
    }
   ],
   "source": [
    "import numpy as np\n",
    "import scipy.stats as st\n",
    "\n",
    "\n",
    "x = np.random.exponential(0.5,100)\n",
    "x.sort()\n",
    "expo_cdf = st.expon.cdf(x)\n",
    "\n",
    "\n",
    "plt.plot(x, expo_cdf, color=\"red\", lw = 2, label = \"CDF\")\n",
    "plt.legend(loc=\"best\")\n",
    "plt.show()"
   ]
  },
  {
   "cell_type": "code",
   "execution_count": null,
   "metadata": {
    "collapsed": true,
    "deletable": true,
    "editable": true
   },
   "outputs": [],
   "source": []
  }
 ],
 "metadata": {
  "kernelspec": {
   "display_name": "Python 3",
   "language": "python",
   "name": "python3"
  },
  "language_info": {
   "codemirror_mode": {
    "name": "ipython",
    "version": 3
   },
   "file_extension": ".py",
   "mimetype": "text/x-python",
   "name": "python",
   "nbconvert_exporter": "python",
   "pygments_lexer": "ipython3",
   "version": "3.5.2"
  }
 },
 "nbformat": 4,
 "nbformat_minor": 2
}
