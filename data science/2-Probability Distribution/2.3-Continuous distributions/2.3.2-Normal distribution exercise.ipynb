{
 "cells": [
  {
   "cell_type": "markdown",
   "metadata": {},
   "source": [
    "**Task 1**: Generate a random samples for normal distributions with the following properties:\n",
    "<br>a) size of samples=1000\n",
    "<br>b) mean=8\n",
    "<br>c) standard deviation=15"
   ]
  },
  {
   "cell_type": "code",
   "execution_count": null,
   "metadata": {},
   "outputs": [],
   "source": [
    "#Solution "
   ]
  },
  {
   "cell_type": "markdown",
   "metadata": {},
   "source": [
    "**Task 2**: Generate a random samples for normal distributions with the following properties:\n",
    "<br>a) size of samples=100\n",
    "<br>b) mean=50\n",
    "<br>c) standard deviation=10"
   ]
  },
  {
   "cell_type": "code",
   "execution_count": null,
   "metadata": {},
   "outputs": [],
   "source": [
    "#Solution "
   ]
  },
  {
   "cell_type": "markdown",
   "metadata": {},
   "source": [
    "**Task 3**: Using the same result from task 1 and task 2, draw a graph for its probability density function"
   ]
  },
  {
   "cell_type": "code",
   "execution_count": null,
   "metadata": {},
   "outputs": [],
   "source": [
    "#Solution "
   ]
  },
  {
   "cell_type": "markdown",
   "metadata": {},
   "source": [
    "**Task 4**: A normal distribution has mean= 50 and a standard deviation= 10. \n",
    "<br>a) Calculate the standard score of each of the following values of X.\n",
    "<br>(i) X=58\n",
    "<br>(ii) X=35\n",
    "\n",
    "\n",
    "    "
   ]
  },
  {
   "cell_type": "code",
   "execution_count": null,
   "metadata": {},
   "outputs": [],
   "source": [
    "#Solution "
   ]
  },
  {
   "cell_type": "markdown",
   "metadata": {},
   "source": [
    "b) the value of X of each of the following z-scores.\n",
    "<br>(i) Z=1.25\n",
    "<br>(ii) Z=-0.5"
   ]
  },
  {
   "cell_type": "code",
   "execution_count": null,
   "metadata": {},
   "outputs": [],
   "source": [
    "#Solution "
   ]
  },
  {
   "cell_type": "markdown",
   "metadata": {},
   "source": [
    "**Task 5**: Evaluate each of the following probailities by using scipy.\n",
    "<br>(a) P(Z> 1.247)\n",
    "<br>(b) P(Z<-1.35)\n",
    "<br>(c) P(Z<0.87)\n",
    "<br>(d) P(Z>-0.72)\n",
    "<br>(e) P(0<Z<2.38)\n",
    "<br>(f) P(-0.56<Z<0)\n",
    "<br>(g) P(0.6<Z<1.5)\n",
    "<br>(h) P(-0.7<Z<1.8)\n",
    "<br>(i) P(-1.4<Z<-0.6)"
   ]
  },
  {
   "cell_type": "code",
   "execution_count": 19,
   "metadata": {},
   "outputs": [],
   "source": [
    "#Solution "
   ]
  }
 ],
 "metadata": {
  "kernelspec": {
   "display_name": "Python 2",
   "language": "python",
   "name": "python2"
  },
  "language_info": {
   "codemirror_mode": {
    "name": "ipython",
    "version": 2
   },
   "file_extension": ".py",
   "mimetype": "text/x-python",
   "name": "python",
   "nbconvert_exporter": "python",
   "pygments_lexer": "ipython2",
   "version": "2.7.12"
  }
 },
 "nbformat": 4,
 "nbformat_minor": 2
}
