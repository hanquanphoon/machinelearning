{
 "cells": [
  {
   "cell_type": "markdown",
   "metadata": {
    "deletable": true,
    "editable": true
   },
   "source": [
    "# Percentile\n",
    "Percentile is the value below which a percentage of data falls\n",
    "<img src=\"PercentilesExample.bmp\">\n",
    "<img src=\"PercentileExample2.bmp\">"
   ]
  },
  {
   "cell_type": "markdown",
   "metadata": {
    "deletable": true,
    "editable": true
   },
   "source": [
    "### Decile\n",
    "Deciles are like Percentiles, but Deciles divide the data by 10%. So, we have 10 deciles(from 1 to 100%)\n",
    "<br>The 1st decile is 10th Percentile. The 2nd is 20 Percentile. And etc\n",
    "<img src=\"Percentile,DecileExample.bmp\">"
   ]
  },
  {
   "cell_type": "markdown",
   "metadata": {
    "deletable": true,
    "editable": true
   },
   "source": [
    "### Quartile\n",
    "Quartiles are the values that split list of ordered numbers into quarters\n",
    "<img src=\"Percentile,QuartileExample.bmp\">"
   ]
  },
  {
   "cell_type": "markdown",
   "metadata": {
    "collapsed": true,
    "deletable": true,
    "editable": true
   },
   "source": [
    "Example:\n",
    "<img src=\"decile.PNG\">\n",
    "<img src=\"decile2.PNG\"> "
   ]
  },
  {
   "cell_type": "markdown",
   "metadata": {
    "deletable": true,
    "editable": true
   },
   "source": [
    "# using library of numpy for percentile \n",
    " for using the library of percentile for diffrent "
   ]
  },
  {
   "cell_type": "code",
   "execution_count": 1,
   "metadata": {
    "collapsed": true,
    "deletable": true,
    "editable": true
   },
   "outputs": [],
   "source": [
    "import numpy as np\n"
   ]
  },
  {
   "cell_type": "code",
   "execution_count": 2,
   "metadata": {
    "collapsed": false,
    "deletable": true,
    "editable": true
   },
   "outputs": [
    {
     "name": "stdout",
     "output_type": "stream",
     "text": [
      "39.5\n"
     ]
    }
   ],
   "source": [
    "import numpy as np\n",
    "a = np.array([47,35,37,32,40,39,36,34,35,31,44])\n",
    "p = np.percentile(a, 75) # return 75th percentile, e.g 4th quartile point.\n",
    "print (p)"
   ]
  },
  {
   "cell_type": "code",
   "execution_count": 3,
   "metadata": {
    "collapsed": false,
    "deletable": true,
    "editable": true
   },
   "outputs": [
    {
     "name": "stdout",
     "output_type": "stream",
     "text": [
      "34.5\n"
     ]
    }
   ],
   "source": [
    "import numpy as np\n",
    "a = np.array([47,35,37,32,40,39,36,34,35,31,44])\n",
    "p = np.percentile(a, 25) # return 25th percentile, e.g 1th quartile point.\n",
    "print (p)"
   ]
  },
  {
   "cell_type": "code",
   "execution_count": 4,
   "metadata": {
    "collapsed": false,
    "deletable": true,
    "editable": true
   },
   "outputs": [
    {
     "name": "stdout",
     "output_type": "stream",
     "text": [
      "36.0\n"
     ]
    }
   ],
   "source": [
    "import numpy as np\n",
    "a = np.array([47,35,37,32,40,39,36,34,35,31,44])\n",
    "p = np.percentile(a, 50) # return 50th percentile, e.g median.\n",
    "print (p)"
   ]
  },
  {
   "cell_type": "code",
   "execution_count": null,
   "metadata": {
    "collapsed": true,
    "deletable": true,
    "editable": true
   },
   "outputs": [],
   "source": []
  }
 ],
 "metadata": {
  "kernelspec": {
   "display_name": "Python 3",
   "language": "python",
   "name": "python3"
  },
  "language_info": {
   "codemirror_mode": {
    "name": "ipython",
    "version": 3
   },
   "file_extension": ".py",
   "mimetype": "text/x-python",
   "name": "python",
   "nbconvert_exporter": "python",
   "pygments_lexer": "ipython3",
   "version": "3.5.2"
  }
 },
 "nbformat": 4,
 "nbformat_minor": 2
}
