{
 "cells": [
  {
   "cell_type": "markdown",
   "metadata": {
    "deletable": true,
    "editable": true
   },
   "source": [
    "# <font color=\"crimson\">Harmonic Average Tasks</font>"
   ]
  },
  {
   "cell_type": "markdown",
   "metadata": {
    "deletable": true,
    "editable": true
   },
   "source": [
    "## <font color=\"mediumaquamarine\">PART 1:</font>\n",
    "\n",
    "<font size=\"4\" >A car race was held last week. The table below shows the racers and their car speed (km/h) during a 100 meter sprint. We want to find the average speed of all the racers.</font>\n",
    "\n",
    "<img src=\"harmonicdata.PNG\">\n",
    "\n",
    "\n",
    "### Task 1:\n",
    "<font size=\"4\" >Store the value of speed into a list as x. Then, find the value of sample size, n.</font>\n"
   ]
  },
  {
   "cell_type": "code",
   "execution_count": null,
   "metadata": {
    "collapsed": true,
    "deletable": true,
    "editable": true
   },
   "outputs": [],
   "source": []
  },
  {
   "cell_type": "markdown",
   "metadata": {
    "deletable": true,
    "editable": true
   },
   "source": [
    "### Task 2:\n",
    "<font size=\"4\">Find the value of each reciprocal of x. Then, store it inside a separate list.</font>\n",
    "### <font color=\"red\">Hint:</font>\n",
    "<font size=\"4\">- Reciprocal is $1/x$<br>- You can use for loop to calculate each value of x's reciprocal</font>"
   ]
  },
  {
   "cell_type": "code",
   "execution_count": null,
   "metadata": {
    "collapsed": true,
    "deletable": true,
    "editable": true
   },
   "outputs": [],
   "source": []
  },
  {
   "cell_type": "markdown",
   "metadata": {
    "deletable": true,
    "editable": true
   },
   "source": [
    "### Task 3:\n",
    "<font size=4>Find the sum of all the reciprocal of x, $\\sum{\\frac{1}{x}}$.</font>\n",
    "\n",
    "### <font color=\"red\">Hint:</font>\n",
    "<font size=4>- Firstly, initialize sum to 0. Then, use loop to total up the sum.</font>"
   ]
  },
  {
   "cell_type": "code",
   "execution_count": null,
   "metadata": {
    "collapsed": true,
    "deletable": true,
    "editable": true
   },
   "outputs": [],
   "source": []
  },
  {
   "cell_type": "markdown",
   "metadata": {
    "deletable": true,
    "editable": true
   },
   "source": [
    "### Task 4:\n",
    "<font size=4>Using the sum, calculate the harmonic average.</font>\n",
    "\n",
    "### <font color=\"red\">Hint:</font>\n",
    "<font size=4>- Use this formula: $\\frac{n}{\\sum{\\frac{1}{x}}}$</font>"
   ]
  },
  {
   "cell_type": "code",
   "execution_count": null,
   "metadata": {
    "collapsed": true,
    "deletable": true,
    "editable": true
   },
   "outputs": [],
   "source": []
  },
  {
   "cell_type": "markdown",
   "metadata": {
    "deletable": true,
    "editable": true
   },
   "source": [
    "### Task 5:\n",
    "<font size=4>By using python libraries, calculate the harmonic average.</font>\n",
    "### <font color=\"red\">Hint:</font>\n",
    "<font size=4>- Import statistics library and use harmonic_mean() function</font>"
   ]
  },
  {
   "cell_type": "code",
   "execution_count": null,
   "metadata": {
    "collapsed": true,
    "deletable": true,
    "editable": true
   },
   "outputs": [],
   "source": []
  },
  {
   "cell_type": "code",
   "execution_count": null,
   "metadata": {
    "collapsed": true,
    "deletable": true,
    "editable": true
   },
   "outputs": [],
   "source": []
  },
  {
   "cell_type": "markdown",
   "metadata": {
    "deletable": true,
    "editable": true
   },
   "source": [
    "## <font color=\"mediumaquamarine\">PART 2:</font>\n",
    "\n",
    "<font size=\"4\" >The table below shows the temperature of the day at a cold country for one week. We want to find the average temperature of the week. However, there are some extreme values among the data. So, we need to use harmonic average formula to find the average temperature.</font>\n",
    "\n",
    "<img src=\"harmonicdata4.PNG\">\n",
    "### Task 1:\n",
    "<font size=\"4\" >Store the value of speed into a list as x. Then, find the value of sample size, n.</font>\n"
   ]
  },
  {
   "cell_type": "code",
   "execution_count": null,
   "metadata": {
    "collapsed": true,
    "deletable": true,
    "editable": true
   },
   "outputs": [],
   "source": []
  },
  {
   "cell_type": "markdown",
   "metadata": {
    "deletable": true,
    "editable": true
   },
   "source": [
    "### Task 2:\n",
    "<font size=\"4\">Find the value of each reciprocal of x. Then, store it inside a separate list.</font>\n",
    "### <font color=\"red\">Hint:</font>\n",
    "<font size=\"4\">- Reciprocal is $1/x$<br>- You can use for loop to calculate each value of x's reciprocal</font>"
   ]
  },
  {
   "cell_type": "code",
   "execution_count": null,
   "metadata": {
    "collapsed": true,
    "deletable": true,
    "editable": true
   },
   "outputs": [],
   "source": []
  },
  {
   "cell_type": "markdown",
   "metadata": {
    "deletable": true,
    "editable": true
   },
   "source": [
    "### Task 3:\n",
    "<font size=4>Find the sum of all the reciprocal of x, $\\sum{\\frac{1}{x}}$.</font>\n",
    "\n",
    "### <font color=\"red\">Hint:</font>\n",
    "<font size=4>- Firstly, initialize sum to 0. Then, use loop to total up the sum.</font>"
   ]
  },
  {
   "cell_type": "code",
   "execution_count": null,
   "metadata": {
    "collapsed": true,
    "deletable": true,
    "editable": true
   },
   "outputs": [],
   "source": []
  },
  {
   "cell_type": "markdown",
   "metadata": {
    "deletable": true,
    "editable": true
   },
   "source": [
    "### Task 4:\n",
    "<font size=4>Using the sum, calculate the harmonic average.</font>\n",
    "\n",
    "### <font color=\"red\">Hint:</font>\n",
    "<font size=4>- Use this formula: $\\frac{n}{\\sum{\\frac{1}{x}}}$</font>"
   ]
  },
  {
   "cell_type": "code",
   "execution_count": null,
   "metadata": {
    "collapsed": true,
    "deletable": true,
    "editable": true
   },
   "outputs": [],
   "source": []
  },
  {
   "cell_type": "markdown",
   "metadata": {
    "deletable": true,
    "editable": true
   },
   "source": [
    "### Task 5:\n",
    "<font size=4>By using python libraries, calculate the harmonic average.</font>\n",
    "### <font color=\"red\">Hint:</font>\n",
    "<font size=4>- Import statistics library and use harmonic_mean() function</font>"
   ]
  },
  {
   "cell_type": "code",
   "execution_count": null,
   "metadata": {
    "collapsed": true,
    "deletable": true,
    "editable": true
   },
   "outputs": [],
   "source": []
  },
  {
   "cell_type": "markdown",
   "metadata": {
    "deletable": true,
    "editable": true
   },
   "source": [
    "## <font color=\"mediumaquamarine\">PART 3:</font>\n",
    "\n",
    "<font size=\"4\" >The table below shows the time taken for a typist to type a 400 hundred words short story in 5 different tests. Based on the table, calculate the harmonic average of the time taken for him to completely type the short story.</font>\n",
    "\n",
    "<img src=\"harmonicdata5.PNG\">\n",
    "\n",
    "### Task 1:\n",
    "<font size=\"4\" >Store the time taken into a list as x. Then, find the value of sample size, n.</font>\n"
   ]
  },
  {
   "cell_type": "code",
   "execution_count": null,
   "metadata": {
    "collapsed": true,
    "deletable": true,
    "editable": true
   },
   "outputs": [],
   "source": []
  },
  {
   "cell_type": "markdown",
   "metadata": {
    "deletable": true,
    "editable": true
   },
   "source": [
    "### Task 2:\n",
    "<font size=\"4\">Find the value of each reciprocal of x. Then, store it inside a separate list.</font>\n",
    "### <font color=\"red\">Hint:</font>\n",
    "<font size=\"4\">- Reciprocal is $1/x$<br>- You can use for loop to calculate each value of x's reciprocal</font>"
   ]
  },
  {
   "cell_type": "code",
   "execution_count": null,
   "metadata": {
    "collapsed": true,
    "deletable": true,
    "editable": true
   },
   "outputs": [],
   "source": []
  },
  {
   "cell_type": "markdown",
   "metadata": {
    "deletable": true,
    "editable": true
   },
   "source": [
    "### Task 3:\n",
    "<font size=4>Find the sum of all the reciprocal of x, $\\sum{\\frac{1}{x}}$.</font>\n",
    "\n",
    "### <font color=\"red\">Hint:</font>\n",
    "<font size=4>- Firstly, initialize sum to 0. Then, use loop to total up the sum.</font>"
   ]
  },
  {
   "cell_type": "code",
   "execution_count": null,
   "metadata": {
    "collapsed": true,
    "deletable": true,
    "editable": true
   },
   "outputs": [],
   "source": []
  },
  {
   "cell_type": "markdown",
   "metadata": {
    "deletable": true,
    "editable": true
   },
   "source": [
    "### Task 4:\n",
    "<font size=4>Using the sum, calculate the harmonic average.</font>\n",
    "\n",
    "### <font color=\"red\">Hint:</font>\n",
    "<font size=4>- Use this formula: $\\frac{n}{\\sum{\\frac{1}{x}}}$</font>"
   ]
  },
  {
   "cell_type": "code",
   "execution_count": null,
   "metadata": {
    "collapsed": true,
    "deletable": true,
    "editable": true
   },
   "outputs": [],
   "source": []
  },
  {
   "cell_type": "markdown",
   "metadata": {
    "deletable": true,
    "editable": true
   },
   "source": [
    "### Task 5:\n",
    "<font size=4>By using python libraries, calculate the harmonic average.</font>\n",
    "### <font color=\"red\">Hint:</font>\n",
    "<font size=4>- Import statistics library and use harmonic_mean() function</font>"
   ]
  },
  {
   "cell_type": "code",
   "execution_count": null,
   "metadata": {
    "collapsed": true,
    "deletable": true,
    "editable": true
   },
   "outputs": [],
   "source": []
  }
 ],
 "metadata": {
  "kernelspec": {
   "display_name": "Python 3",
   "language": "python",
   "name": "python3"
  },
  "language_info": {
   "codemirror_mode": {
    "name": "ipython",
    "version": 3
   },
   "file_extension": ".py",
   "mimetype": "text/x-python",
   "name": "python",
   "nbconvert_exporter": "python",
   "pygments_lexer": "ipython3",
   "version": "3.5.2"
  }
 },
 "nbformat": 4,
 "nbformat_minor": 2
}
